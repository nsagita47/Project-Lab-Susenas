{
  "nbformat": 4,
  "nbformat_minor": 0,
  "metadata": {
    "kernelspec": {
      "display_name": "Python 3",
      "language": "python",
      "name": "python3"
    },
    "language_info": {
      "codemirror_mode": {
        "name": "ipython",
        "version": 3
      },
      "file_extension": ".py",
      "mimetype": "text/x-python",
      "name": "python",
      "nbconvert_exporter": "python",
      "pygments_lexer": "ipython3",
      "version": "3.8.5"
    },
    "colab": {
      "name": "project-data-susenas.ipynb",
      "provenance": [],
      "include_colab_link": true
    }
  },
  "cells": [
    {
      "cell_type": "markdown",
      "metadata": {
        "id": "view-in-github",
        "colab_type": "text"
      },
      "source": [
        "<a href=\"https://colab.research.google.com/github/nsagita47/Project-Lab-Susenas/blob/main/project_data_susenas.ipynb\" target=\"_parent\"><img src=\"https://colab.research.google.com/assets/colab-badge.svg\" alt=\"Open In Colab\"/></a>"
      ]
    },
    {
      "cell_type": "code",
      "metadata": {
        "id": "vaEe0IgHfCqD"
      },
      "source": [
        "import pandas as pd\n",
        "import numpy as np\n",
        "import seaborn as sns\n",
        "import matplotlib.pyplot as plt"
      ],
      "execution_count": null,
      "outputs": []
    },
    {
      "cell_type": "code",
      "metadata": {
        "colab": {
          "base_uri": "https://localhost:8080/"
        },
        "id": "jRmYcZ13fi5S",
        "outputId": "d18aeff3-db45-41e4-af52-85e9b4d4ecef"
      },
      "source": [
        "from google.colab import drive\n",
        "drive.mount('/content/drive')"
      ],
      "execution_count": 1,
      "outputs": [
        {
          "output_type": "stream",
          "text": [
            "Mounted at /content/drive\n"
          ],
          "name": "stdout"
        }
      ]
    },
    {
      "cell_type": "code",
      "metadata": {
        "id": "8HNcpHRefCqI"
      },
      "source": [
        "data = pd.read_csv('/content/drive/MyDrive/Colab Notebooks/Project-Lab-SUSENAS/susenas13/sn13_m41.csv')\n",
        "data_kor = pd.read_csv('/content/drive/MyDrive/Colab Notebooks/Project-Lab-SUSENAS/susenas13/sn13_ki.csv')"
      ],
      "execution_count": null,
      "outputs": []
    },
    {
      "cell_type": "code",
      "metadata": {
        "scrolled": false,
        "id": "9SN_PufQfCqI",
        "outputId": "aeffc25f-9a7c-41c2-fd1e-92e797dc281c"
      },
      "source": [
        "data.head(12)"
      ],
      "execution_count": null,
      "outputs": [
        {
          "output_type": "execute_result",
          "data": {
            "text/html": [
              "<div>\n",
              "<style scoped>\n",
              "    .dataframe tbody tr th:only-of-type {\n",
              "        vertical-align: middle;\n",
              "    }\n",
              "\n",
              "    .dataframe tbody tr th {\n",
              "        vertical-align: top;\n",
              "    }\n",
              "\n",
              "    .dataframe thead th {\n",
              "        text-align: right;\n",
              "    }\n",
              "</style>\n",
              "<table border=\"1\" class=\"dataframe\">\n",
              "  <thead>\n",
              "    <tr style=\"text-align: right;\">\n",
              "      <th></th>\n",
              "      <th>Unnamed: 0</th>\n",
              "      <th>urut</th>\n",
              "      <th>b1r1</th>\n",
              "      <th>b1r5</th>\n",
              "      <th>b1r8</th>\n",
              "      <th>kode</th>\n",
              "      <th>b41k4</th>\n",
              "      <th>b41k5</th>\n",
              "      <th>b41k6</th>\n",
              "      <th>b41k7</th>\n",
              "      <th>b41k8</th>\n",
              "      <th>b41k9</th>\n",
              "      <th>klp</th>\n",
              "      <th>kalori</th>\n",
              "      <th>protein</th>\n",
              "      <th>lemak</th>\n",
              "      <th>karbo</th>\n",
              "      <th>b2r1</th>\n",
              "      <th>wert</th>\n",
              "      <th>weind</th>\n",
              "    </tr>\n",
              "  </thead>\n",
              "  <tbody>\n",
              "    <tr>\n",
              "      <th>0</th>\n",
              "      <td>0</td>\n",
              "      <td>44085888.0</td>\n",
              "      <td>11</td>\n",
              "      <td>2</td>\n",
              "      <td>1</td>\n",
              "      <td>1</td>\n",
              "      <td>0.0</td>\n",
              "      <td>0</td>\n",
              "      <td>0.0</td>\n",
              "      <td>171680</td>\n",
              "      <td>0.0</td>\n",
              "      <td>171680</td>\n",
              "      <td>0</td>\n",
              "      <td>38031.0</td>\n",
              "      <td>889.875</td>\n",
              "      <td>152.25</td>\n",
              "      <td>8142.75</td>\n",
              "      <td>3</td>\n",
              "      <td>267.5273</td>\n",
              "      <td>802.582</td>\n",
              "    </tr>\n",
              "    <tr>\n",
              "      <th>1</th>\n",
              "      <td>1</td>\n",
              "      <td>44085888.0</td>\n",
              "      <td>11</td>\n",
              "      <td>2</td>\n",
              "      <td>1</td>\n",
              "      <td>2</td>\n",
              "      <td>0.0</td>\n",
              "      <td>0</td>\n",
              "      <td>10.5</td>\n",
              "      <td>171680</td>\n",
              "      <td>10.5</td>\n",
              "      <td>171680</td>\n",
              "      <td>1</td>\n",
              "      <td>38031.0</td>\n",
              "      <td>889.875</td>\n",
              "      <td>152.25</td>\n",
              "      <td>8142.75</td>\n",
              "      <td>3</td>\n",
              "      <td>267.5273</td>\n",
              "      <td>802.582</td>\n",
              "    </tr>\n",
              "    <tr>\n",
              "      <th>2</th>\n",
              "      <td>2</td>\n",
              "      <td>44085888.0</td>\n",
              "      <td>11</td>\n",
              "      <td>2</td>\n",
              "      <td>1</td>\n",
              "      <td>20</td>\n",
              "      <td>0.0</td>\n",
              "      <td>34000</td>\n",
              "      <td>0.0</td>\n",
              "      <td>0</td>\n",
              "      <td>0.0</td>\n",
              "      <td>34000</td>\n",
              "      <td>0</td>\n",
              "      <td>2632.0</td>\n",
              "      <td>448.000</td>\n",
              "      <td>80.00</td>\n",
              "      <td>0.00</td>\n",
              "      <td>3</td>\n",
              "      <td>267.5273</td>\n",
              "      <td>802.582</td>\n",
              "    </tr>\n",
              "    <tr>\n",
              "      <th>3</th>\n",
              "      <td>3</td>\n",
              "      <td>44085888.0</td>\n",
              "      <td>11</td>\n",
              "      <td>2</td>\n",
              "      <td>1</td>\n",
              "      <td>22</td>\n",
              "      <td>2.0</td>\n",
              "      <td>23000</td>\n",
              "      <td>0.0</td>\n",
              "      <td>0</td>\n",
              "      <td>2.0</td>\n",
              "      <td>23000</td>\n",
              "      <td>20</td>\n",
              "      <td>1808.0</td>\n",
              "      <td>272.000</td>\n",
              "      <td>72.00</td>\n",
              "      <td>0.00</td>\n",
              "      <td>3</td>\n",
              "      <td>267.5273</td>\n",
              "      <td>802.582</td>\n",
              "    </tr>\n",
              "    <tr>\n",
              "      <th>4</th>\n",
              "      <td>4</td>\n",
              "      <td>44085888.0</td>\n",
              "      <td>11</td>\n",
              "      <td>2</td>\n",
              "      <td>1</td>\n",
              "      <td>25</td>\n",
              "      <td>1.0</td>\n",
              "      <td>11000</td>\n",
              "      <td>0.0</td>\n",
              "      <td>0</td>\n",
              "      <td>1.0</td>\n",
              "      <td>11000</td>\n",
              "      <td>20</td>\n",
              "      <td>824.0</td>\n",
              "      <td>176.000</td>\n",
              "      <td>8.00</td>\n",
              "      <td>0.00</td>\n",
              "      <td>3</td>\n",
              "      <td>267.5273</td>\n",
              "      <td>802.582</td>\n",
              "    </tr>\n",
              "    <tr>\n",
              "      <th>5</th>\n",
              "      <td>5</td>\n",
              "      <td>44085888.0</td>\n",
              "      <td>11</td>\n",
              "      <td>2</td>\n",
              "      <td>1</td>\n",
              "      <td>85</td>\n",
              "      <td>0.0</td>\n",
              "      <td>26000</td>\n",
              "      <td>0.0</td>\n",
              "      <td>0</td>\n",
              "      <td>0.0</td>\n",
              "      <td>26000</td>\n",
              "      <td>0</td>\n",
              "      <td>289.8</td>\n",
              "      <td>10.950</td>\n",
              "      <td>3.88</td>\n",
              "      <td>48.33</td>\n",
              "      <td>3</td>\n",
              "      <td>267.5273</td>\n",
              "      <td>802.582</td>\n",
              "    </tr>\n",
              "    <tr>\n",
              "      <th>6</th>\n",
              "      <td>6</td>\n",
              "      <td>44085888.0</td>\n",
              "      <td>11</td>\n",
              "      <td>2</td>\n",
              "      <td>1</td>\n",
              "      <td>108</td>\n",
              "      <td>2.0</td>\n",
              "      <td>6000</td>\n",
              "      <td>0.0</td>\n",
              "      <td>0</td>\n",
              "      <td>2.0</td>\n",
              "      <td>6000</td>\n",
              "      <td>85</td>\n",
              "      <td>70.2</td>\n",
              "      <td>2.700</td>\n",
              "      <td>0.54</td>\n",
              "      <td>0.36</td>\n",
              "      <td>3</td>\n",
              "      <td>267.5273</td>\n",
              "      <td>802.582</td>\n",
              "    </tr>\n",
              "    <tr>\n",
              "      <th>7</th>\n",
              "      <td>7</td>\n",
              "      <td>44085888.0</td>\n",
              "      <td>11</td>\n",
              "      <td>2</td>\n",
              "      <td>1</td>\n",
              "      <td>110</td>\n",
              "      <td>5.0</td>\n",
              "      <td>17000</td>\n",
              "      <td>0.0</td>\n",
              "      <td>0</td>\n",
              "      <td>5.0</td>\n",
              "      <td>17000</td>\n",
              "      <td>85</td>\n",
              "      <td>132.0</td>\n",
              "      <td>4.250</td>\n",
              "      <td>1.30</td>\n",
              "      <td>31.05</td>\n",
              "      <td>3</td>\n",
              "      <td>267.5273</td>\n",
              "      <td>802.582</td>\n",
              "    </tr>\n",
              "    <tr>\n",
              "      <th>8</th>\n",
              "      <td>8</td>\n",
              "      <td>44085888.0</td>\n",
              "      <td>11</td>\n",
              "      <td>2</td>\n",
              "      <td>1</td>\n",
              "      <td>112</td>\n",
              "      <td>1.0</td>\n",
              "      <td>3000</td>\n",
              "      <td>0.0</td>\n",
              "      <td>0</td>\n",
              "      <td>1.0</td>\n",
              "      <td>3000</td>\n",
              "      <td>85</td>\n",
              "      <td>87.6</td>\n",
              "      <td>4.000</td>\n",
              "      <td>2.04</td>\n",
              "      <td>16.92</td>\n",
              "      <td>3</td>\n",
              "      <td>267.5273</td>\n",
              "      <td>802.582</td>\n",
              "    </tr>\n",
              "    <tr>\n",
              "      <th>9</th>\n",
              "      <td>9</td>\n",
              "      <td>44085888.0</td>\n",
              "      <td>11</td>\n",
              "      <td>2</td>\n",
              "      <td>1</td>\n",
              "      <td>151</td>\n",
              "      <td>0.0</td>\n",
              "      <td>8600</td>\n",
              "      <td>0.0</td>\n",
              "      <td>9000</td>\n",
              "      <td>0.0</td>\n",
              "      <td>17600</td>\n",
              "      <td>0</td>\n",
              "      <td>9671.6</td>\n",
              "      <td>50.600</td>\n",
              "      <td>743.68</td>\n",
              "      <td>208.40</td>\n",
              "      <td>3</td>\n",
              "      <td>267.5273</td>\n",
              "      <td>802.582</td>\n",
              "    </tr>\n",
              "    <tr>\n",
              "      <th>10</th>\n",
              "      <td>10</td>\n",
              "      <td>44085888.0</td>\n",
              "      <td>11</td>\n",
              "      <td>2</td>\n",
              "      <td>1</td>\n",
              "      <td>154</td>\n",
              "      <td>0.6</td>\n",
              "      <td>8600</td>\n",
              "      <td>0.0</td>\n",
              "      <td>0</td>\n",
              "      <td>0.6</td>\n",
              "      <td>8600</td>\n",
              "      <td>151</td>\n",
              "      <td>4329.6</td>\n",
              "      <td>0.000</td>\n",
              "      <td>223.20</td>\n",
              "      <td>0.00</td>\n",
              "      <td>3</td>\n",
              "      <td>267.5273</td>\n",
              "      <td>802.582</td>\n",
              "    </tr>\n",
              "    <tr>\n",
              "      <th>11</th>\n",
              "      <td>11</td>\n",
              "      <td>44085888.0</td>\n",
              "      <td>11</td>\n",
              "      <td>2</td>\n",
              "      <td>1</td>\n",
              "      <td>155</td>\n",
              "      <td>0.0</td>\n",
              "      <td>0</td>\n",
              "      <td>4.0</td>\n",
              "      <td>9000</td>\n",
              "      <td>4.0</td>\n",
              "      <td>9000</td>\n",
              "      <td>151</td>\n",
              "      <td>5342.0</td>\n",
              "      <td>50.600</td>\n",
              "      <td>520.48</td>\n",
              "      <td>208.40</td>\n",
              "      <td>3</td>\n",
              "      <td>267.5273</td>\n",
              "      <td>802.582</td>\n",
              "    </tr>\n",
              "  </tbody>\n",
              "</table>\n",
              "</div>"
            ],
            "text/plain": [
              "    Unnamed: 0        urut  b1r1  b1r5  b1r8  kode  b41k4  b41k5  b41k6  \\\n",
              "0            0  44085888.0    11     2     1     1    0.0      0    0.0   \n",
              "1            1  44085888.0    11     2     1     2    0.0      0   10.5   \n",
              "2            2  44085888.0    11     2     1    20    0.0  34000    0.0   \n",
              "3            3  44085888.0    11     2     1    22    2.0  23000    0.0   \n",
              "4            4  44085888.0    11     2     1    25    1.0  11000    0.0   \n",
              "5            5  44085888.0    11     2     1    85    0.0  26000    0.0   \n",
              "6            6  44085888.0    11     2     1   108    2.0   6000    0.0   \n",
              "7            7  44085888.0    11     2     1   110    5.0  17000    0.0   \n",
              "8            8  44085888.0    11     2     1   112    1.0   3000    0.0   \n",
              "9            9  44085888.0    11     2     1   151    0.0   8600    0.0   \n",
              "10          10  44085888.0    11     2     1   154    0.6   8600    0.0   \n",
              "11          11  44085888.0    11     2     1   155    0.0      0    4.0   \n",
              "\n",
              "     b41k7  b41k8   b41k9  klp   kalori  protein   lemak    karbo  b2r1  \\\n",
              "0   171680    0.0  171680    0  38031.0  889.875  152.25  8142.75     3   \n",
              "1   171680   10.5  171680    1  38031.0  889.875  152.25  8142.75     3   \n",
              "2        0    0.0   34000    0   2632.0  448.000   80.00     0.00     3   \n",
              "3        0    2.0   23000   20   1808.0  272.000   72.00     0.00     3   \n",
              "4        0    1.0   11000   20    824.0  176.000    8.00     0.00     3   \n",
              "5        0    0.0   26000    0    289.8   10.950    3.88    48.33     3   \n",
              "6        0    2.0    6000   85     70.2    2.700    0.54     0.36     3   \n",
              "7        0    5.0   17000   85    132.0    4.250    1.30    31.05     3   \n",
              "8        0    1.0    3000   85     87.6    4.000    2.04    16.92     3   \n",
              "9     9000    0.0   17600    0   9671.6   50.600  743.68   208.40     3   \n",
              "10       0    0.6    8600  151   4329.6    0.000  223.20     0.00     3   \n",
              "11    9000    4.0    9000  151   5342.0   50.600  520.48   208.40     3   \n",
              "\n",
              "        wert    weind  \n",
              "0   267.5273  802.582  \n",
              "1   267.5273  802.582  \n",
              "2   267.5273  802.582  \n",
              "3   267.5273  802.582  \n",
              "4   267.5273  802.582  \n",
              "5   267.5273  802.582  \n",
              "6   267.5273  802.582  \n",
              "7   267.5273  802.582  \n",
              "8   267.5273  802.582  \n",
              "9   267.5273  802.582  \n",
              "10  267.5273  802.582  \n",
              "11  267.5273  802.582  "
            ]
          },
          "metadata": {
            "tags": []
          },
          "execution_count": 117
        }
      ]
    },
    {
      "cell_type": "markdown",
      "metadata": {
        "id": "Oc1e_6ONfCqK"
      },
      "source": [
        "Variabel yang digunakan dalam project ini :\n",
        "\n",
        "### Variabel Nutrisi \n",
        "*   B41K9 : Jumlah nilai/harga konsumsi makanan\n",
        "*   B41K8 : Jumlah kuantitas konsumsi makanan\n",
        "### Variabel Kesehatan\n",
        "*   B5R1A - B5R1H : Pernah mengalami sakit dalam 1 bulan terakhir\n",
        "*   B5R5 : Pernah berobat jalan 1 bulan terakhir\n",
        "*   B5R7 : Pernah berobat jalan 6 bulan terakhir\n",
        "### Variabel Geografis\n",
        "*   B1R1 : Provinsi\n",
        "*   B1R2 : Kota/Desa\n",
        "*   B1R5 : Klasifikasi Desa/Kota\n",
        "### Vriabel Pengeluaran \n",
        "*   EXP_CAP : Pengeluaran/kapita\n",
        "*   B41K9 : Jumlah total pengeluaran makanan\n",
        "### Identifier Makanan \n",
        "*   159 : Gula Pasir / Ons\n",
        "*   160 : Gula Merah / Ons\n",
        "*   152 : Minyak Kelapa / Liter \n",
        "*   153 : Minyak Jagung / Liter \n",
        "*   154 : Minyak Lainnya / Liter \n",
        "*   182 : Mie Instan / 80 gr\n",
        "*   205 : Mie Bakso / Porsi \n",
        "*   206 : Mie Instan / Porsi \n",
        "\n",
        "\n",
        "\n",
        "\n",
        "\n",
        "\n",
        "\n",
        "\n",
        "\n",
        "\n",
        "\n",
        "\n"
      ]
    },
    {
      "cell_type": "markdown",
      "metadata": {
        "id": "2cHKAdqkfCqL"
      },
      "source": [
        "# KONSUMSI GULA"
      ]
    },
    {
      "cell_type": "markdown",
      "metadata": {
        "id": "Oe4AEC73fCqL"
      },
      "source": [
        "Konsumsi Gula Pasir/Ons [159]"
      ]
    },
    {
      "cell_type": "code",
      "metadata": {
        "id": "tptdaqLkfCqM"
      },
      "source": [
        "gula_pasir = data[data['kode'] == 159]\n",
        "\n",
        "gula_pasir = gula_pasir.loc[:, ['urut', 'kode', 'b41k8']]"
      ],
      "execution_count": null,
      "outputs": []
    },
    {
      "cell_type": "markdown",
      "metadata": {
        "id": "nPqL4S7cfCqM"
      },
      "source": [
        "Konsumsi Gula Merah/Ons [160]"
      ]
    },
    {
      "cell_type": "code",
      "metadata": {
        "id": "gIVkEv6nfCqM"
      },
      "source": [
        "gula_merah = data[data['kode'] == 160]\n",
        "\n",
        "gula_merah = gula_merah.loc[:, ['urut', 'kode', 'b41k8']]"
      ],
      "execution_count": null,
      "outputs": []
    },
    {
      "cell_type": "code",
      "metadata": {
        "id": "ET6-3TUofCqN",
        "outputId": "e3ea9582-8c32-43bc-9310-c0eb2b71c60f"
      },
      "source": [
        "gulaqu = pd.concat([gula_pasir, gula_merah])\n",
        "gulaqu.drop(['kode'], axis=1, inplace=True)\n",
        "gulaqu = gulaqu.groupby('urut').sum()\n",
        "gulaqu.reset_index(inplace=True)\n",
        "gulaqu.head()"
      ],
      "execution_count": null,
      "outputs": [
        {
          "output_type": "execute_result",
          "data": {
            "text/html": [
              "<div>\n",
              "<style scoped>\n",
              "    .dataframe tbody tr th:only-of-type {\n",
              "        vertical-align: middle;\n",
              "    }\n",
              "\n",
              "    .dataframe tbody tr th {\n",
              "        vertical-align: top;\n",
              "    }\n",
              "\n",
              "    .dataframe thead th {\n",
              "        text-align: right;\n",
              "    }\n",
              "</style>\n",
              "<table border=\"1\" class=\"dataframe\">\n",
              "  <thead>\n",
              "    <tr style=\"text-align: right;\">\n",
              "      <th></th>\n",
              "      <th>urut</th>\n",
              "      <th>b41k8</th>\n",
              "    </tr>\n",
              "  </thead>\n",
              "  <tbody>\n",
              "    <tr>\n",
              "      <th>0</th>\n",
              "      <td>27502310.0</td>\n",
              "      <td>15.0</td>\n",
              "    </tr>\n",
              "    <tr>\n",
              "      <th>1</th>\n",
              "      <td>30001248.0</td>\n",
              "      <td>5.0</td>\n",
              "    </tr>\n",
              "    <tr>\n",
              "      <th>2</th>\n",
              "      <td>32501339.0</td>\n",
              "      <td>10.0</td>\n",
              "    </tr>\n",
              "    <tr>\n",
              "      <th>3</th>\n",
              "      <td>35008484.0</td>\n",
              "      <td>5.0</td>\n",
              "    </tr>\n",
              "    <tr>\n",
              "      <th>4</th>\n",
              "      <td>35022456.0</td>\n",
              "      <td>2.5</td>\n",
              "    </tr>\n",
              "  </tbody>\n",
              "</table>\n",
              "</div>"
            ],
            "text/plain": [
              "         urut  b41k8\n",
              "0  27502310.0   15.0\n",
              "1  30001248.0    5.0\n",
              "2  32501339.0   10.0\n",
              "3  35008484.0    5.0\n",
              "4  35022456.0    2.5"
            ]
          },
          "metadata": {
            "tags": []
          },
          "execution_count": 120
        }
      ]
    },
    {
      "cell_type": "code",
      "metadata": {
        "id": "v_qTqiGHfCqN",
        "outputId": "ada50bf2-abea-4238-bca9-7b988c7b5323"
      },
      "source": [
        "sakit_6 = data_kor.loc[:, ['urut', 'b5r7','weind']]\n",
        "sakit_6.drop_duplicates(subset=['urut'], inplace=True)\n",
        "sakit_6"
      ],
      "execution_count": null,
      "outputs": [
        {
          "output_type": "execute_result",
          "data": {
            "text/html": [
              "<div>\n",
              "<style scoped>\n",
              "    .dataframe tbody tr th:only-of-type {\n",
              "        vertical-align: middle;\n",
              "    }\n",
              "\n",
              "    .dataframe tbody tr th {\n",
              "        vertical-align: top;\n",
              "    }\n",
              "\n",
              "    .dataframe thead th {\n",
              "        text-align: right;\n",
              "    }\n",
              "</style>\n",
              "<table border=\"1\" class=\"dataframe\">\n",
              "  <thead>\n",
              "    <tr style=\"text-align: right;\">\n",
              "      <th></th>\n",
              "      <th>urut</th>\n",
              "      <th>b5r7</th>\n",
              "      <th>weind</th>\n",
              "    </tr>\n",
              "  </thead>\n",
              "  <tbody>\n",
              "    <tr>\n",
              "      <th>0</th>\n",
              "      <td>2.750231e+07</td>\n",
              "      <td>2</td>\n",
              "      <td>328.766850</td>\n",
              "    </tr>\n",
              "    <tr>\n",
              "      <th>8</th>\n",
              "      <td>3.000125e+07</td>\n",
              "      <td>2</td>\n",
              "      <td>30.502945</td>\n",
              "    </tr>\n",
              "    <tr>\n",
              "      <th>12</th>\n",
              "      <td>3.250134e+07</td>\n",
              "      <td>2</td>\n",
              "      <td>65.848070</td>\n",
              "    </tr>\n",
              "    <tr>\n",
              "      <th>14</th>\n",
              "      <td>3.500848e+07</td>\n",
              "      <td>2</td>\n",
              "      <td>626.282040</td>\n",
              "    </tr>\n",
              "    <tr>\n",
              "      <th>19</th>\n",
              "      <td>3.502246e+07</td>\n",
              "      <td>1</td>\n",
              "      <td>1146.070900</td>\n",
              "    </tr>\n",
              "    <tr>\n",
              "      <th>...</th>\n",
              "      <td>...</td>\n",
              "      <td>...</td>\n",
              "      <td>...</td>\n",
              "    </tr>\n",
              "    <tr>\n",
              "      <th>274034</th>\n",
              "      <td>2.364676e+11</td>\n",
              "      <td>2</td>\n",
              "      <td>523.004640</td>\n",
              "    </tr>\n",
              "    <tr>\n",
              "      <th>274040</th>\n",
              "      <td>2.365029e+11</td>\n",
              "      <td>1</td>\n",
              "      <td>267.552060</td>\n",
              "    </tr>\n",
              "    <tr>\n",
              "      <th>274042</th>\n",
              "      <td>2.365501e+11</td>\n",
              "      <td>2</td>\n",
              "      <td>212.682130</td>\n",
              "    </tr>\n",
              "    <tr>\n",
              "      <th>274044</th>\n",
              "      <td>2.403726e+11</td>\n",
              "      <td>2</td>\n",
              "      <td>593.981260</td>\n",
              "    </tr>\n",
              "    <tr>\n",
              "      <th>274049</th>\n",
              "      <td>2.670807e+11</td>\n",
              "      <td>1</td>\n",
              "      <td>494.199860</td>\n",
              "    </tr>\n",
              "  </tbody>\n",
              "</table>\n",
              "<p>69514 rows × 3 columns</p>\n",
              "</div>"
            ],
            "text/plain": [
              "                urut  b5r7        weind\n",
              "0       2.750231e+07     2   328.766850\n",
              "8       3.000125e+07     2    30.502945\n",
              "12      3.250134e+07     2    65.848070\n",
              "14      3.500848e+07     2   626.282040\n",
              "19      3.502246e+07     1  1146.070900\n",
              "...              ...   ...          ...\n",
              "274034  2.364676e+11     2   523.004640\n",
              "274040  2.365029e+11     1   267.552060\n",
              "274042  2.365501e+11     2   212.682130\n",
              "274044  2.403726e+11     2   593.981260\n",
              "274049  2.670807e+11     1   494.199860\n",
              "\n",
              "[69514 rows x 3 columns]"
            ]
          },
          "metadata": {
            "tags": []
          },
          "execution_count": 121
        }
      ]
    },
    {
      "cell_type": "code",
      "metadata": {
        "id": "4INO1xRIfCqO",
        "outputId": "e21cb45c-af39-4643-dadc-d5d7590ee969"
      },
      "source": [
        "tabel_merge_gulaqu_sakit = gulaqu.merge(sakit_6, how='left', on='urut')\n",
        "tabel_merge_gulaqu_sakit['b5r7'] = tabel_merge_gulaqu_sakit['b5r7'].map({1:'Ya',2:'Tidak'})\n",
        "tabel_merge_gulaqu_sakit.rename(columns={ 'urut': 'Urut', 'b41k8': 'Total Konsumsi Gula (Ons)', 'b5r7': 'Pernah Berobat Jalan 6 Bulan Terakhir?', 'weind':'Weighting'}, inplace=True)\n",
        "tabel_merge_gulaqu_sakit.drop_duplicates(subset=['Urut'], inplace=True)\n",
        "tabel_merge_gulaqu_sakit"
      ],
      "execution_count": null,
      "outputs": [
        {
          "output_type": "execute_result",
          "data": {
            "text/html": [
              "<div>\n",
              "<style scoped>\n",
              "    .dataframe tbody tr th:only-of-type {\n",
              "        vertical-align: middle;\n",
              "    }\n",
              "\n",
              "    .dataframe tbody tr th {\n",
              "        vertical-align: top;\n",
              "    }\n",
              "\n",
              "    .dataframe thead th {\n",
              "        text-align: right;\n",
              "    }\n",
              "</style>\n",
              "<table border=\"1\" class=\"dataframe\">\n",
              "  <thead>\n",
              "    <tr style=\"text-align: right;\">\n",
              "      <th></th>\n",
              "      <th>Urut</th>\n",
              "      <th>Total Konsumsi Gula (Ons)</th>\n",
              "      <th>Pernah Berobat Jalan 6 Bulan Terakhir?</th>\n",
              "      <th>Weighting</th>\n",
              "    </tr>\n",
              "  </thead>\n",
              "  <tbody>\n",
              "    <tr>\n",
              "      <th>0</th>\n",
              "      <td>2.750231e+07</td>\n",
              "      <td>15.0</td>\n",
              "      <td>Tidak</td>\n",
              "      <td>328.766850</td>\n",
              "    </tr>\n",
              "    <tr>\n",
              "      <th>1</th>\n",
              "      <td>3.000125e+07</td>\n",
              "      <td>5.0</td>\n",
              "      <td>Tidak</td>\n",
              "      <td>30.502945</td>\n",
              "    </tr>\n",
              "    <tr>\n",
              "      <th>2</th>\n",
              "      <td>3.250134e+07</td>\n",
              "      <td>10.0</td>\n",
              "      <td>Tidak</td>\n",
              "      <td>65.848070</td>\n",
              "    </tr>\n",
              "    <tr>\n",
              "      <th>3</th>\n",
              "      <td>3.500848e+07</td>\n",
              "      <td>5.0</td>\n",
              "      <td>Tidak</td>\n",
              "      <td>626.282040</td>\n",
              "    </tr>\n",
              "    <tr>\n",
              "      <th>4</th>\n",
              "      <td>3.502246e+07</td>\n",
              "      <td>2.5</td>\n",
              "      <td>Ya</td>\n",
              "      <td>1146.070900</td>\n",
              "    </tr>\n",
              "    <tr>\n",
              "      <th>...</th>\n",
              "      <td>...</td>\n",
              "      <td>...</td>\n",
              "      <td>...</td>\n",
              "      <td>...</td>\n",
              "    </tr>\n",
              "    <tr>\n",
              "      <th>63597</th>\n",
              "      <td>2.364676e+11</td>\n",
              "      <td>10.0</td>\n",
              "      <td>Tidak</td>\n",
              "      <td>523.004640</td>\n",
              "    </tr>\n",
              "    <tr>\n",
              "      <th>63598</th>\n",
              "      <td>2.365029e+11</td>\n",
              "      <td>5.0</td>\n",
              "      <td>Ya</td>\n",
              "      <td>267.552060</td>\n",
              "    </tr>\n",
              "    <tr>\n",
              "      <th>63599</th>\n",
              "      <td>2.365501e+11</td>\n",
              "      <td>5.0</td>\n",
              "      <td>Tidak</td>\n",
              "      <td>212.682130</td>\n",
              "    </tr>\n",
              "    <tr>\n",
              "      <th>63600</th>\n",
              "      <td>2.403726e+11</td>\n",
              "      <td>5.0</td>\n",
              "      <td>Tidak</td>\n",
              "      <td>593.981260</td>\n",
              "    </tr>\n",
              "    <tr>\n",
              "      <th>63601</th>\n",
              "      <td>2.670807e+11</td>\n",
              "      <td>10.0</td>\n",
              "      <td>Ya</td>\n",
              "      <td>494.199860</td>\n",
              "    </tr>\n",
              "  </tbody>\n",
              "</table>\n",
              "<p>63602 rows × 4 columns</p>\n",
              "</div>"
            ],
            "text/plain": [
              "               Urut  Total Konsumsi Gula (Ons)  \\\n",
              "0      2.750231e+07                       15.0   \n",
              "1      3.000125e+07                        5.0   \n",
              "2      3.250134e+07                       10.0   \n",
              "3      3.500848e+07                        5.0   \n",
              "4      3.502246e+07                        2.5   \n",
              "...             ...                        ...   \n",
              "63597  2.364676e+11                       10.0   \n",
              "63598  2.365029e+11                        5.0   \n",
              "63599  2.365501e+11                        5.0   \n",
              "63600  2.403726e+11                        5.0   \n",
              "63601  2.670807e+11                       10.0   \n",
              "\n",
              "      Pernah Berobat Jalan 6 Bulan Terakhir?    Weighting  \n",
              "0                                      Tidak   328.766850  \n",
              "1                                      Tidak    30.502945  \n",
              "2                                      Tidak    65.848070  \n",
              "3                                      Tidak   626.282040  \n",
              "4                                         Ya  1146.070900  \n",
              "...                                      ...          ...  \n",
              "63597                                  Tidak   523.004640  \n",
              "63598                                     Ya   267.552060  \n",
              "63599                                  Tidak   212.682130  \n",
              "63600                                  Tidak   593.981260  \n",
              "63601                                     Ya   494.199860  \n",
              "\n",
              "[63602 rows x 4 columns]"
            ]
          },
          "metadata": {
            "tags": []
          },
          "execution_count": 122
        }
      ]
    },
    {
      "cell_type": "markdown",
      "metadata": {
        "id": "PFCm27rwfCqP"
      },
      "source": [
        "# Jenis gula apa yang paling banyak dikonsumsi"
      ]
    },
    {
      "cell_type": "code",
      "metadata": {
        "id": "5xok1QmSfCqP",
        "outputId": "a9030e17-cb75-400f-9230-e41a0e31ad6f"
      },
      "source": [
        "gula_pasir = data[data['kode'] == 159]\n",
        "\n",
        "gula_pasir = gula_pasir.loc[:, ['urut', 'kode', 'b41k8', 'weind']]\n",
        "\n",
        "gula_pasir['multiply'] = gula_pasir['b41k8']*gula_pasir['weind']\n",
        "\n",
        "gula_pasir['multiply'].sum()"
      ],
      "execution_count": null,
      "outputs": [
        {
          "output_type": "execute_result",
          "data": {
            "text/plain": [
              "1386951979.6104822"
            ]
          },
          "metadata": {
            "tags": []
          },
          "execution_count": 123
        }
      ]
    },
    {
      "cell_type": "code",
      "metadata": {
        "id": "Q08fydEYfCqQ",
        "outputId": "65c12351-cb35-45cd-81fc-b38cb880cc9d"
      },
      "source": [
        "gula_merah = data[data['kode'] == 160]\n",
        "\n",
        "gula_merah = gula_merah.loc[:, ['urut', 'kode', 'b41k8', 'weind']]\n",
        "\n",
        "gula_merah['multiply'] = gula_merah['b41k8']*gula_merah['weind']\n",
        "\n",
        "gula_merah['multiply'].sum()"
      ],
      "execution_count": null,
      "outputs": [
        {
          "output_type": "execute_result",
          "data": {
            "text/plain": [
              "111427830.89670987"
            ]
          },
          "metadata": {
            "tags": []
          },
          "execution_count": 124
        }
      ]
    },
    {
      "cell_type": "code",
      "metadata": {
        "id": "KfCNkUWQfCqQ"
      },
      "source": [
        "data_konsumsi_gula = {'Jenis Gula': ['Gula pasir', 'Gula Merah'], \n",
        "        'Jumlah Konsumsi Gula (Ons)': [gula_pasir['multiply'].sum(),gula_merah['multiply'].sum()]\n",
        "        }"
      ],
      "execution_count": null,
      "outputs": []
    },
    {
      "cell_type": "code",
      "metadata": {
        "id": "K3PQTxTufCqQ"
      },
      "source": [
        "total_konsumsi_jenis_gula = pd.DataFrame(data_konsumsi_gula)"
      ],
      "execution_count": null,
      "outputs": []
    },
    {
      "cell_type": "code",
      "metadata": {
        "id": "nymQIpEqfCqR",
        "outputId": "d1a5638f-2594-4631-eb21-e4ce58e1976a"
      },
      "source": [
        "total_konsumsi_jenis_gula "
      ],
      "execution_count": null,
      "outputs": [
        {
          "output_type": "execute_result",
          "data": {
            "text/html": [
              "<div>\n",
              "<style scoped>\n",
              "    .dataframe tbody tr th:only-of-type {\n",
              "        vertical-align: middle;\n",
              "    }\n",
              "\n",
              "    .dataframe tbody tr th {\n",
              "        vertical-align: top;\n",
              "    }\n",
              "\n",
              "    .dataframe thead th {\n",
              "        text-align: right;\n",
              "    }\n",
              "</style>\n",
              "<table border=\"1\" class=\"dataframe\">\n",
              "  <thead>\n",
              "    <tr style=\"text-align: right;\">\n",
              "      <th></th>\n",
              "      <th>Jenis Gula</th>\n",
              "      <th>Jumlah Konsumsi Gula (Ons)</th>\n",
              "    </tr>\n",
              "  </thead>\n",
              "  <tbody>\n",
              "    <tr>\n",
              "      <th>0</th>\n",
              "      <td>Gula pasir</td>\n",
              "      <td>1.386952e+09</td>\n",
              "    </tr>\n",
              "    <tr>\n",
              "      <th>1</th>\n",
              "      <td>Gula Merah</td>\n",
              "      <td>1.114278e+08</td>\n",
              "    </tr>\n",
              "  </tbody>\n",
              "</table>\n",
              "</div>"
            ],
            "text/plain": [
              "   Jenis Gula  Jumlah Konsumsi Gula (Ons)\n",
              "0  Gula pasir                1.386952e+09\n",
              "1  Gula Merah                1.114278e+08"
            ]
          },
          "metadata": {
            "tags": []
          },
          "execution_count": 127
        }
      ]
    },
    {
      "cell_type": "code",
      "metadata": {
        "id": "Sv9aroPdfCqR",
        "outputId": "1bd88fd5-2a4c-4f56-a93f-6362d85ef236"
      },
      "source": [
        "sns.barplot(x = total_konsumsi_jenis_gula['Jenis Gula'], y= total_konsumsi_jenis_gula['Jumlah Konsumsi Gula (Ons)'])"
      ],
      "execution_count": null,
      "outputs": [
        {
          "output_type": "execute_result",
          "data": {
            "text/plain": [
              "<AxesSubplot:xlabel='Jenis Gula', ylabel='Jumlah Konsumsi Gula (Ons)'>"
            ]
          },
          "metadata": {
            "tags": []
          },
          "execution_count": 128
        },
        {
          "output_type": "display_data",
          "data": {
            "image/png": "[encoded data removed]",
            "text/plain": [
              "<Figure size 432x288 with 1 Axes>"
            ]
          },
          "metadata": {
            "tags": [],
            "needs_background": "light"
          }
        }
      ]
    },
    {
      "cell_type": "markdown",
      "metadata": {
        "id": "EoNwYi2ffCqS"
      },
      "source": [
        "# Konsumsi Gula perkotaan/pedesaan"
      ]
    },
    {
      "cell_type": "code",
      "metadata": {
        "id": "twG5PEO6fCqS",
        "outputId": "ffd48d74-0674-4c8b-e3a4-9699eb145514"
      },
      "source": [
        "kotadesa = data[['urut', 'b1r5']]\n",
        "kotadesa"
      ],
      "execution_count": null,
      "outputs": [
        {
          "output_type": "execute_result",
          "data": {
            "text/html": [
              "<div>\n",
              "<style scoped>\n",
              "    .dataframe tbody tr th:only-of-type {\n",
              "        vertical-align: middle;\n",
              "    }\n",
              "\n",
              "    .dataframe tbody tr th {\n",
              "        vertical-align: top;\n",
              "    }\n",
              "\n",
              "    .dataframe thead th {\n",
              "        text-align: right;\n",
              "    }\n",
              "</style>\n",
              "<table border=\"1\" class=\"dataframe\">\n",
              "  <thead>\n",
              "    <tr style=\"text-align: right;\">\n",
              "      <th></th>\n",
              "      <th>urut</th>\n",
              "      <th>b1r5</th>\n",
              "    </tr>\n",
              "  </thead>\n",
              "  <tbody>\n",
              "    <tr>\n",
              "      <th>0</th>\n",
              "      <td>4.408589e+07</td>\n",
              "      <td>2</td>\n",
              "    </tr>\n",
              "    <tr>\n",
              "      <th>1</th>\n",
              "      <td>4.408589e+07</td>\n",
              "      <td>2</td>\n",
              "    </tr>\n",
              "    <tr>\n",
              "      <th>2</th>\n",
              "      <td>4.408589e+07</td>\n",
              "      <td>2</td>\n",
              "    </tr>\n",
              "    <tr>\n",
              "      <th>3</th>\n",
              "      <td>4.408589e+07</td>\n",
              "      <td>2</td>\n",
              "    </tr>\n",
              "    <tr>\n",
              "      <th>4</th>\n",
              "      <td>4.408589e+07</td>\n",
              "      <td>2</td>\n",
              "    </tr>\n",
              "    <tr>\n",
              "      <th>...</th>\n",
              "      <td>...</td>\n",
              "      <td>...</td>\n",
              "    </tr>\n",
              "    <tr>\n",
              "      <th>2899084</th>\n",
              "      <td>1.669035e+11</td>\n",
              "      <td>1</td>\n",
              "    </tr>\n",
              "    <tr>\n",
              "      <th>2899085</th>\n",
              "      <td>1.669035e+11</td>\n",
              "      <td>1</td>\n",
              "    </tr>\n",
              "    <tr>\n",
              "      <th>2899086</th>\n",
              "      <td>1.669035e+11</td>\n",
              "      <td>1</td>\n",
              "    </tr>\n",
              "    <tr>\n",
              "      <th>2899087</th>\n",
              "      <td>1.669035e+11</td>\n",
              "      <td>1</td>\n",
              "    </tr>\n",
              "    <tr>\n",
              "      <th>2899088</th>\n",
              "      <td>1.669035e+11</td>\n",
              "      <td>1</td>\n",
              "    </tr>\n",
              "  </tbody>\n",
              "</table>\n",
              "<p>2899089 rows × 2 columns</p>\n",
              "</div>"
            ],
            "text/plain": [
              "                 urut  b1r5\n",
              "0        4.408589e+07     2\n",
              "1        4.408589e+07     2\n",
              "2        4.408589e+07     2\n",
              "3        4.408589e+07     2\n",
              "4        4.408589e+07     2\n",
              "...               ...   ...\n",
              "2899084  1.669035e+11     1\n",
              "2899085  1.669035e+11     1\n",
              "2899086  1.669035e+11     1\n",
              "2899087  1.669035e+11     1\n",
              "2899088  1.669035e+11     1\n",
              "\n",
              "[2899089 rows x 2 columns]"
            ]
          },
          "metadata": {
            "tags": []
          },
          "execution_count": 129
        }
      ]
    },
    {
      "cell_type": "code",
      "metadata": {
        "id": "3wL8iPQYfCqS"
      },
      "source": [
        "tabel_kotadesa = tabel_merge_gulaqu_sakit.rename(columns={'Urut':'urut'})"
      ],
      "execution_count": null,
      "outputs": []
    },
    {
      "cell_type": "code",
      "metadata": {
        "id": "U_Zd7ciUfCqT"
      },
      "source": [
        "tabel_kotadesa = tabel_kotadesa.merge(kotadesa, how='left', on='urut')"
      ],
      "execution_count": null,
      "outputs": []
    },
    {
      "cell_type": "code",
      "metadata": {
        "id": "ckF0Y9vOfCqT",
        "outputId": "b49bce5b-d607-41c9-ef47-adf12a587c5b"
      },
      "source": [
        "tabel_kotadesa.rename(columns={'b1r5': 'Kota/Desa', 'urut':'Urut'}, inplace=True)\n",
        "tabel_kotadesa['Kota/Desa'] = tabel_kotadesa['Kota/Desa'].map({1:'Kota', 2:'Desa'})\n",
        "tabel_kotadesa.drop_duplicates(subset=['Urut'], inplace=True)\n",
        "tabel_kotadesa"
      ],
      "execution_count": null,
      "outputs": [
        {
          "output_type": "execute_result",
          "data": {
            "text/html": [
              "<div>\n",
              "<style scoped>\n",
              "    .dataframe tbody tr th:only-of-type {\n",
              "        vertical-align: middle;\n",
              "    }\n",
              "\n",
              "    .dataframe tbody tr th {\n",
              "        vertical-align: top;\n",
              "    }\n",
              "\n",
              "    .dataframe thead th {\n",
              "        text-align: right;\n",
              "    }\n",
              "</style>\n",
              "<table border=\"1\" class=\"dataframe\">\n",
              "  <thead>\n",
              "    <tr style=\"text-align: right;\">\n",
              "      <th></th>\n",
              "      <th>Urut</th>\n",
              "      <th>Total Konsumsi Gula (Ons)</th>\n",
              "      <th>Pernah Berobat Jalan 6 Bulan Terakhir?</th>\n",
              "      <th>Weighting</th>\n",
              "      <th>Kota/Desa</th>\n",
              "    </tr>\n",
              "  </thead>\n",
              "  <tbody>\n",
              "    <tr>\n",
              "      <th>0</th>\n",
              "      <td>2.750231e+07</td>\n",
              "      <td>15.0</td>\n",
              "      <td>Tidak</td>\n",
              "      <td>328.766850</td>\n",
              "      <td>Kota</td>\n",
              "    </tr>\n",
              "    <tr>\n",
              "      <th>27</th>\n",
              "      <td>3.000125e+07</td>\n",
              "      <td>5.0</td>\n",
              "      <td>Tidak</td>\n",
              "      <td>30.502945</td>\n",
              "      <td>Kota</td>\n",
              "    </tr>\n",
              "    <tr>\n",
              "      <th>49</th>\n",
              "      <td>3.250134e+07</td>\n",
              "      <td>10.0</td>\n",
              "      <td>Tidak</td>\n",
              "      <td>65.848070</td>\n",
              "      <td>Kota</td>\n",
              "    </tr>\n",
              "    <tr>\n",
              "      <th>76</th>\n",
              "      <td>3.500848e+07</td>\n",
              "      <td>5.0</td>\n",
              "      <td>Tidak</td>\n",
              "      <td>626.282040</td>\n",
              "      <td>Kota</td>\n",
              "    </tr>\n",
              "    <tr>\n",
              "      <th>118</th>\n",
              "      <td>3.502246e+07</td>\n",
              "      <td>2.5</td>\n",
              "      <td>Ya</td>\n",
              "      <td>1146.070900</td>\n",
              "      <td>Kota</td>\n",
              "    </tr>\n",
              "    <tr>\n",
              "      <th>...</th>\n",
              "      <td>...</td>\n",
              "      <td>...</td>\n",
              "      <td>...</td>\n",
              "      <td>...</td>\n",
              "      <td>...</td>\n",
              "    </tr>\n",
              "    <tr>\n",
              "      <th>2747399</th>\n",
              "      <td>2.364676e+11</td>\n",
              "      <td>10.0</td>\n",
              "      <td>Tidak</td>\n",
              "      <td>523.004640</td>\n",
              "      <td>Desa</td>\n",
              "    </tr>\n",
              "    <tr>\n",
              "      <th>2747435</th>\n",
              "      <td>2.365029e+11</td>\n",
              "      <td>5.0</td>\n",
              "      <td>Ya</td>\n",
              "      <td>267.552060</td>\n",
              "      <td>Desa</td>\n",
              "    </tr>\n",
              "    <tr>\n",
              "      <th>2747462</th>\n",
              "      <td>2.365501e+11</td>\n",
              "      <td>5.0</td>\n",
              "      <td>Tidak</td>\n",
              "      <td>212.682130</td>\n",
              "      <td>Desa</td>\n",
              "    </tr>\n",
              "    <tr>\n",
              "      <th>2747486</th>\n",
              "      <td>2.403726e+11</td>\n",
              "      <td>5.0</td>\n",
              "      <td>Tidak</td>\n",
              "      <td>593.981260</td>\n",
              "      <td>Desa</td>\n",
              "    </tr>\n",
              "    <tr>\n",
              "      <th>2747529</th>\n",
              "      <td>2.670807e+11</td>\n",
              "      <td>10.0</td>\n",
              "      <td>Ya</td>\n",
              "      <td>494.199860</td>\n",
              "      <td>Desa</td>\n",
              "    </tr>\n",
              "  </tbody>\n",
              "</table>\n",
              "<p>63602 rows × 5 columns</p>\n",
              "</div>"
            ],
            "text/plain": [
              "                 Urut  Total Konsumsi Gula (Ons)  \\\n",
              "0        2.750231e+07                       15.0   \n",
              "27       3.000125e+07                        5.0   \n",
              "49       3.250134e+07                       10.0   \n",
              "76       3.500848e+07                        5.0   \n",
              "118      3.502246e+07                        2.5   \n",
              "...               ...                        ...   \n",
              "2747399  2.364676e+11                       10.0   \n",
              "2747435  2.365029e+11                        5.0   \n",
              "2747462  2.365501e+11                        5.0   \n",
              "2747486  2.403726e+11                        5.0   \n",
              "2747529  2.670807e+11                       10.0   \n",
              "\n",
              "        Pernah Berobat Jalan 6 Bulan Terakhir?    Weighting Kota/Desa  \n",
              "0                                        Tidak   328.766850      Kota  \n",
              "27                                       Tidak    30.502945      Kota  \n",
              "49                                       Tidak    65.848070      Kota  \n",
              "76                                       Tidak   626.282040      Kota  \n",
              "118                                         Ya  1146.070900      Kota  \n",
              "...                                        ...          ...       ...  \n",
              "2747399                                  Tidak   523.004640      Desa  \n",
              "2747435                                     Ya   267.552060      Desa  \n",
              "2747462                                  Tidak   212.682130      Desa  \n",
              "2747486                                  Tidak   593.981260      Desa  \n",
              "2747529                                     Ya   494.199860      Desa  \n",
              "\n",
              "[63602 rows x 5 columns]"
            ]
          },
          "metadata": {
            "tags": []
          },
          "execution_count": 132
        }
      ]
    },
    {
      "cell_type": "code",
      "metadata": {
        "id": "FpGiLWbyfCqT"
      },
      "source": [
        "summary_konsumsi_gula_kotadesa = tabel_kotadesa.groupby(['Kota/Desa']).mean()['Total Konsumsi Gula (Ons)']"
      ],
      "execution_count": null,
      "outputs": []
    },
    {
      "cell_type": "code",
      "metadata": {
        "id": "3pQwH6KNfCqT",
        "outputId": "f32d86fa-be6e-476e-b27b-a01163b5a619"
      },
      "source": [
        "summary_konsumsi_gula_kotadesa.plot.bar()\n",
        "plt.ylabel('Ons')"
      ],
      "execution_count": null,
      "outputs": [
        {
          "output_type": "execute_result",
          "data": {
            "text/plain": [
              "Text(0, 0.5, 'Ons')"
            ]
          },
          "metadata": {
            "tags": []
          },
          "execution_count": 134
        },
        {
          "output_type": "display_data",
          "data": {
            "image/png": "[encoded data removed]",
            "text/plain": [
              "<Figure size 432x288 with 1 Axes>"
            ]
          },
          "metadata": {
            "tags": [],
            "needs_background": "light"
          }
        }
      ]
    },
    {
      "cell_type": "markdown",
      "metadata": {
        "id": "slcBWQoxfCqU"
      },
      "source": [
        "# Distribusi berobat jalan kota/desa"
      ]
    },
    {
      "cell_type": "code",
      "metadata": {
        "id": "b-18Tx6lfCqV",
        "outputId": "dfcdfe94-8388-49bd-f76c-8cfd1f50d2fb"
      },
      "source": [
        "tabel_kotadesa"
      ],
      "execution_count": null,
      "outputs": [
        {
          "output_type": "execute_result",
          "data": {
            "text/html": [
              "<div>\n",
              "<style scoped>\n",
              "    .dataframe tbody tr th:only-of-type {\n",
              "        vertical-align: middle;\n",
              "    }\n",
              "\n",
              "    .dataframe tbody tr th {\n",
              "        vertical-align: top;\n",
              "    }\n",
              "\n",
              "    .dataframe thead th {\n",
              "        text-align: right;\n",
              "    }\n",
              "</style>\n",
              "<table border=\"1\" class=\"dataframe\">\n",
              "  <thead>\n",
              "    <tr style=\"text-align: right;\">\n",
              "      <th></th>\n",
              "      <th>Urut</th>\n",
              "      <th>Total Konsumsi Gula (Ons)</th>\n",
              "      <th>Pernah Berobat Jalan 6 Bulan Terakhir?</th>\n",
              "      <th>Weighting</th>\n",
              "      <th>Kota/Desa</th>\n",
              "    </tr>\n",
              "  </thead>\n",
              "  <tbody>\n",
              "    <tr>\n",
              "      <th>0</th>\n",
              "      <td>2.750231e+07</td>\n",
              "      <td>15.0</td>\n",
              "      <td>Tidak</td>\n",
              "      <td>328.766850</td>\n",
              "      <td>Kota</td>\n",
              "    </tr>\n",
              "    <tr>\n",
              "      <th>27</th>\n",
              "      <td>3.000125e+07</td>\n",
              "      <td>5.0</td>\n",
              "      <td>Tidak</td>\n",
              "      <td>30.502945</td>\n",
              "      <td>Kota</td>\n",
              "    </tr>\n",
              "    <tr>\n",
              "      <th>49</th>\n",
              "      <td>3.250134e+07</td>\n",
              "      <td>10.0</td>\n",
              "      <td>Tidak</td>\n",
              "      <td>65.848070</td>\n",
              "      <td>Kota</td>\n",
              "    </tr>\n",
              "    <tr>\n",
              "      <th>76</th>\n",
              "      <td>3.500848e+07</td>\n",
              "      <td>5.0</td>\n",
              "      <td>Tidak</td>\n",
              "      <td>626.282040</td>\n",
              "      <td>Kota</td>\n",
              "    </tr>\n",
              "    <tr>\n",
              "      <th>118</th>\n",
              "      <td>3.502246e+07</td>\n",
              "      <td>2.5</td>\n",
              "      <td>Ya</td>\n",
              "      <td>1146.070900</td>\n",
              "      <td>Kota</td>\n",
              "    </tr>\n",
              "    <tr>\n",
              "      <th>...</th>\n",
              "      <td>...</td>\n",
              "      <td>...</td>\n",
              "      <td>...</td>\n",
              "      <td>...</td>\n",
              "      <td>...</td>\n",
              "    </tr>\n",
              "    <tr>\n",
              "      <th>2747399</th>\n",
              "      <td>2.364676e+11</td>\n",
              "      <td>10.0</td>\n",
              "      <td>Tidak</td>\n",
              "      <td>523.004640</td>\n",
              "      <td>Desa</td>\n",
              "    </tr>\n",
              "    <tr>\n",
              "      <th>2747435</th>\n",
              "      <td>2.365029e+11</td>\n",
              "      <td>5.0</td>\n",
              "      <td>Ya</td>\n",
              "      <td>267.552060</td>\n",
              "      <td>Desa</td>\n",
              "    </tr>\n",
              "    <tr>\n",
              "      <th>2747462</th>\n",
              "      <td>2.365501e+11</td>\n",
              "      <td>5.0</td>\n",
              "      <td>Tidak</td>\n",
              "      <td>212.682130</td>\n",
              "      <td>Desa</td>\n",
              "    </tr>\n",
              "    <tr>\n",
              "      <th>2747486</th>\n",
              "      <td>2.403726e+11</td>\n",
              "      <td>5.0</td>\n",
              "      <td>Tidak</td>\n",
              "      <td>593.981260</td>\n",
              "      <td>Desa</td>\n",
              "    </tr>\n",
              "    <tr>\n",
              "      <th>2747529</th>\n",
              "      <td>2.670807e+11</td>\n",
              "      <td>10.0</td>\n",
              "      <td>Ya</td>\n",
              "      <td>494.199860</td>\n",
              "      <td>Desa</td>\n",
              "    </tr>\n",
              "  </tbody>\n",
              "</table>\n",
              "<p>63602 rows × 5 columns</p>\n",
              "</div>"
            ],
            "text/plain": [
              "                 Urut  Total Konsumsi Gula (Ons)  \\\n",
              "0        2.750231e+07                       15.0   \n",
              "27       3.000125e+07                        5.0   \n",
              "49       3.250134e+07                       10.0   \n",
              "76       3.500848e+07                        5.0   \n",
              "118      3.502246e+07                        2.5   \n",
              "...               ...                        ...   \n",
              "2747399  2.364676e+11                       10.0   \n",
              "2747435  2.365029e+11                        5.0   \n",
              "2747462  2.365501e+11                        5.0   \n",
              "2747486  2.403726e+11                        5.0   \n",
              "2747529  2.670807e+11                       10.0   \n",
              "\n",
              "        Pernah Berobat Jalan 6 Bulan Terakhir?    Weighting Kota/Desa  \n",
              "0                                        Tidak   328.766850      Kota  \n",
              "27                                       Tidak    30.502945      Kota  \n",
              "49                                       Tidak    65.848070      Kota  \n",
              "76                                       Tidak   626.282040      Kota  \n",
              "118                                         Ya  1146.070900      Kota  \n",
              "...                                        ...          ...       ...  \n",
              "2747399                                  Tidak   523.004640      Desa  \n",
              "2747435                                     Ya   267.552060      Desa  \n",
              "2747462                                  Tidak   212.682130      Desa  \n",
              "2747486                                  Tidak   593.981260      Desa  \n",
              "2747529                                     Ya   494.199860      Desa  \n",
              "\n",
              "[63602 rows x 5 columns]"
            ]
          },
          "metadata": {
            "tags": []
          },
          "execution_count": 135
        }
      ]
    },
    {
      "cell_type": "code",
      "metadata": {
        "id": "TEZ9aV4LfCqV",
        "outputId": "b7fe2871-14cf-470e-8dea-ad17b900d245"
      },
      "source": [
        "persentase_berobat_kotadesa = tabel_kotadesa.groupby(['Kota/Desa', 'Pernah Berobat Jalan 6 Bulan Terakhir?']).sum()['Weighting']\n",
        "persentase_berobat_kotadesa"
      ],
      "execution_count": null,
      "outputs": [
        {
          "output_type": "execute_result",
          "data": {
            "text/plain": [
              "Kota/Desa  Pernah Berobat Jalan 6 Bulan Terakhir?\n",
              "Desa       Tidak                                     2.156888e+07\n",
              "           Ya                                        7.187480e+06\n",
              "Kota       Tidak                                     2.039253e+07\n",
              "           Ya                                        7.305313e+06\n",
              "Name: Weighting, dtype: float64"
            ]
          },
          "metadata": {
            "tags": []
          },
          "execution_count": 136
        }
      ]
    },
    {
      "cell_type": "code",
      "metadata": {
        "id": "_rt2AD7ZfCqV",
        "outputId": "a7e9003d-86e7-43b8-e68d-e77fb872f8de"
      },
      "source": [
        "persentase_berobat_kotadesa.plot.bar()\n",
        "plt.ylabel('Jumlah Penduduk (10 Juta)')"
      ],
      "execution_count": null,
      "outputs": [
        {
          "output_type": "execute_result",
          "data": {
            "text/plain": [
              "Text(0, 0.5, 'Jumlah Penduduk (10 Juta)')"
            ]
          },
          "metadata": {
            "tags": []
          },
          "execution_count": 137
        },
        {
          "output_type": "display_data",
          "data": {
            "image/png": "[encoded data removed]",
            "text/plain": [
              "<Figure size 432x288 with 1 Axes>"
            ]
          },
          "metadata": {
            "tags": [],
            "needs_background": "light"
          }
        }
      ]
    },
    {
      "cell_type": "code",
      "metadata": {
        "id": "pDCoOqV6fCqW",
        "outputId": "5e4da6e6-23dc-423a-fc3a-88492191bbce"
      },
      "source": [
        "persentase_berobat_desa = persentase_berobat_kotadesa['Desa']['Ya']/(persentase_berobat_kotadesa['Desa']['Ya']+persentase_berobat_kotadesa['Desa']['Tidak'])\n",
        "persentase_berobat_kota = persentase_berobat_kotadesa['Kota']['Ya']/(persentase_berobat_kotadesa['Kota']['Ya']+persentase_berobat_kotadesa['Kota']['Tidak'])\n",
        "\n",
        "persentase_berobat = pd.DataFrame({\n",
        "    'Lokasi': ['Perkotaan', 'Pedesaan'],\n",
        "    'Persentase': [persentase_berobat_kota, persentase_berobat_desa]\n",
        "})\n",
        "\n",
        "sns.barplot(x= persentase_berobat['Lokasi'], y= persentase_berobat['Persentase'])"
      ],
      "execution_count": null,
      "outputs": [
        {
          "output_type": "execute_result",
          "data": {
            "text/plain": [
              "<AxesSubplot:xlabel='Lokasi', ylabel='Persentase'>"
            ]
          },
          "metadata": {
            "tags": []
          },
          "execution_count": 138
        },
        {
          "output_type": "display_data",
          "data": {
            "image/png": "[encoded data removed]",
            "text/plain": [
              "<Figure size 432x288 with 1 Axes>"
            ]
          },
          "metadata": {
            "tags": [],
            "needs_background": "light"
          }
        }
      ]
    },
    {
      "cell_type": "markdown",
      "metadata": {
        "id": "GUuTtmG2fCqW"
      },
      "source": [
        "# Korelasi Konsumsi Gula dengan Berobat Jalan"
      ]
    },
    {
      "cell_type": "code",
      "metadata": {
        "id": "Kltq-ioPfCqX",
        "outputId": "b79613ee-36a8-47bd-9f84-d88488fecf46"
      },
      "source": [
        "tabel_kotadesa.describe()"
      ],
      "execution_count": null,
      "outputs": [
        {
          "output_type": "execute_result",
          "data": {
            "text/html": [
              "<div>\n",
              "<style scoped>\n",
              "    .dataframe tbody tr th:only-of-type {\n",
              "        vertical-align: middle;\n",
              "    }\n",
              "\n",
              "    .dataframe tbody tr th {\n",
              "        vertical-align: top;\n",
              "    }\n",
              "\n",
              "    .dataframe thead th {\n",
              "        text-align: right;\n",
              "    }\n",
              "</style>\n",
              "<table border=\"1\" class=\"dataframe\">\n",
              "  <thead>\n",
              "    <tr style=\"text-align: right;\">\n",
              "      <th></th>\n",
              "      <th>Urut</th>\n",
              "      <th>Total Konsumsi Gula (Ons)</th>\n",
              "      <th>Weighting</th>\n",
              "    </tr>\n",
              "  </thead>\n",
              "  <tbody>\n",
              "    <tr>\n",
              "      <th>count</th>\n",
              "      <td>6.360200e+04</td>\n",
              "      <td>63602.000000</td>\n",
              "      <td>63602.000000</td>\n",
              "    </tr>\n",
              "    <tr>\n",
              "      <th>mean</th>\n",
              "      <td>1.347025e+10</td>\n",
              "      <td>6.727596</td>\n",
              "      <td>887.616824</td>\n",
              "    </tr>\n",
              "    <tr>\n",
              "      <th>std</th>\n",
              "      <td>2.175413e+10</td>\n",
              "      <td>4.718881</td>\n",
              "      <td>830.860891</td>\n",
              "    </tr>\n",
              "    <tr>\n",
              "      <th>min</th>\n",
              "      <td>2.750231e+07</td>\n",
              "      <td>0.080000</td>\n",
              "      <td>1.000000</td>\n",
              "    </tr>\n",
              "    <tr>\n",
              "      <th>25%</th>\n",
              "      <td>1.904522e+09</td>\n",
              "      <td>3.300000</td>\n",
              "      <td>328.868687</td>\n",
              "    </tr>\n",
              "    <tr>\n",
              "      <th>50%</th>\n",
              "      <td>5.455026e+09</td>\n",
              "      <td>5.000000</td>\n",
              "      <td>599.362825</td>\n",
              "    </tr>\n",
              "    <tr>\n",
              "      <th>75%</th>\n",
              "      <td>1.513567e+10</td>\n",
              "      <td>10.000000</td>\n",
              "      <td>1176.096750</td>\n",
              "    </tr>\n",
              "    <tr>\n",
              "      <th>max</th>\n",
              "      <td>2.670807e+11</td>\n",
              "      <td>80.000000</td>\n",
              "      <td>8146.120600</td>\n",
              "    </tr>\n",
              "  </tbody>\n",
              "</table>\n",
              "</div>"
            ],
            "text/plain": [
              "               Urut  Total Konsumsi Gula (Ons)     Weighting\n",
              "count  6.360200e+04               63602.000000  63602.000000\n",
              "mean   1.347025e+10                   6.727596    887.616824\n",
              "std    2.175413e+10                   4.718881    830.860891\n",
              "min    2.750231e+07                   0.080000      1.000000\n",
              "25%    1.904522e+09                   3.300000    328.868687\n",
              "50%    5.455026e+09                   5.000000    599.362825\n",
              "75%    1.513567e+10                  10.000000   1176.096750\n",
              "max    2.670807e+11                  80.000000   8146.120600"
            ]
          },
          "metadata": {
            "tags": []
          },
          "execution_count": 139
        }
      ]
    },
    {
      "cell_type": "code",
      "metadata": {
        "id": "yoZtN056fCqY",
        "outputId": "09d90d1d-d71e-4e35-e345-ed382defcc15"
      },
      "source": [
        "plt.figure(figsize=(15,8))\n",
        "sns.histplot(tabel_kotadesa['Total Konsumsi Gula (Ons)'], bins=20)"
      ],
      "execution_count": null,
      "outputs": [
        {
          "output_type": "execute_result",
          "data": {
            "text/plain": [
              "<AxesSubplot:xlabel='Total Konsumsi Gula (Ons)', ylabel='Count'>"
            ]
          },
          "metadata": {
            "tags": []
          },
          "execution_count": 140
        },
        {
          "output_type": "display_data",
          "data": {
            "image/png": "[encoded data removed]",
            "text/plain": [
              "<Figure size 1080x576 with 1 Axes>"
            ]
          },
          "metadata": {
            "tags": [],
            "needs_background": "light"
          }
        }
      ]
    },
    {
      "cell_type": "code",
      "metadata": {
        "id": "9KydmQCNfCqY",
        "outputId": "0487afed-dcf7-45ec-be24-c29522f78bb9"
      },
      "source": [
        "tabel_kotadesa['Total Konsumsi Gula (Ons)']"
      ],
      "execution_count": null,
      "outputs": [
        {
          "output_type": "execute_result",
          "data": {
            "text/plain": [
              "0          15.0\n",
              "27          5.0\n",
              "49         10.0\n",
              "76          5.0\n",
              "118         2.5\n",
              "           ... \n",
              "2747399    10.0\n",
              "2747435     5.0\n",
              "2747462     5.0\n",
              "2747486     5.0\n",
              "2747529    10.0\n",
              "Name: Total Konsumsi Gula (Ons), Length: 63602, dtype: float64"
            ]
          },
          "metadata": {
            "tags": []
          },
          "execution_count": 141
        }
      ]
    },
    {
      "cell_type": "code",
      "metadata": {
        "id": "IglU0GABfCqZ"
      },
      "source": [
        "kuartil = pd.qcut(tabel_kotadesa['Total Konsumsi Gula (Ons)'], 20, duplicates='drop', retbins= False)"
      ],
      "execution_count": null,
      "outputs": []
    },
    {
      "cell_type": "code",
      "metadata": {
        "id": "toX1l4ZYfCqZ",
        "outputId": "8f76e330-fc31-4451-b129-67f28a275f87"
      },
      "source": [
        "kuartil"
      ],
      "execution_count": null,
      "outputs": [
        {
          "output_type": "execute_result",
          "data": {
            "text/plain": [
              "0          (11.0, 15.0]\n",
              "27           (4.2, 5.0]\n",
              "49          (7.7, 10.0]\n",
              "76           (4.2, 5.0]\n",
              "118          (2.0, 2.5]\n",
              "               ...     \n",
              "2747399     (7.7, 10.0]\n",
              "2747435      (4.2, 5.0]\n",
              "2747462      (4.2, 5.0]\n",
              "2747486      (4.2, 5.0]\n",
              "2747529     (7.7, 10.0]\n",
              "Name: Total Konsumsi Gula (Ons), Length: 63602, dtype: category\n",
              "Categories (12, interval[float64]): [(0.079, 1.0] < (1.0, 2.0] < (2.0, 2.5] < (2.5, 3.3] ... (7.7, 10.0] < (10.0, 11.0] < (11.0, 15.0] < (15.0, 80.0]]"
            ]
          },
          "metadata": {
            "tags": []
          },
          "execution_count": 143
        }
      ]
    },
    {
      "cell_type": "code",
      "metadata": {
        "id": "7CUD3KMAfCqa",
        "outputId": "745d64f0-48b1-44cb-9ea5-fcab8166594c"
      },
      "source": [
        "tabel_kotadesa['kuartil'] = kuartil\n",
        "tabel_kotadesa['Multiply'] = tabel_kotadesa['Total Konsumsi Gula (Ons)']*tabel_kotadesa['Weighting']\n",
        "\n",
        "tabel_kotadesa"
      ],
      "execution_count": null,
      "outputs": [
        {
          "output_type": "execute_result",
          "data": {
            "text/html": [
              "<div>\n",
              "<style scoped>\n",
              "    .dataframe tbody tr th:only-of-type {\n",
              "        vertical-align: middle;\n",
              "    }\n",
              "\n",
              "    .dataframe tbody tr th {\n",
              "        vertical-align: top;\n",
              "    }\n",
              "\n",
              "    .dataframe thead th {\n",
              "        text-align: right;\n",
              "    }\n",
              "</style>\n",
              "<table border=\"1\" class=\"dataframe\">\n",
              "  <thead>\n",
              "    <tr style=\"text-align: right;\">\n",
              "      <th></th>\n",
              "      <th>Urut</th>\n",
              "      <th>Total Konsumsi Gula (Ons)</th>\n",
              "      <th>Pernah Berobat Jalan 6 Bulan Terakhir?</th>\n",
              "      <th>Weighting</th>\n",
              "      <th>Kota/Desa</th>\n",
              "      <th>kuartil</th>\n",
              "      <th>Multiply</th>\n",
              "    </tr>\n",
              "  </thead>\n",
              "  <tbody>\n",
              "    <tr>\n",
              "      <th>0</th>\n",
              "      <td>2.750231e+07</td>\n",
              "      <td>15.0</td>\n",
              "      <td>Tidak</td>\n",
              "      <td>328.766850</td>\n",
              "      <td>Kota</td>\n",
              "      <td>(11.0, 15.0]</td>\n",
              "      <td>4931.502750</td>\n",
              "    </tr>\n",
              "    <tr>\n",
              "      <th>27</th>\n",
              "      <td>3.000125e+07</td>\n",
              "      <td>5.0</td>\n",
              "      <td>Tidak</td>\n",
              "      <td>30.502945</td>\n",
              "      <td>Kota</td>\n",
              "      <td>(4.2, 5.0]</td>\n",
              "      <td>152.514725</td>\n",
              "    </tr>\n",
              "    <tr>\n",
              "      <th>49</th>\n",
              "      <td>3.250134e+07</td>\n",
              "      <td>10.0</td>\n",
              "      <td>Tidak</td>\n",
              "      <td>65.848070</td>\n",
              "      <td>Kota</td>\n",
              "      <td>(7.7, 10.0]</td>\n",
              "      <td>658.480700</td>\n",
              "    </tr>\n",
              "    <tr>\n",
              "      <th>76</th>\n",
              "      <td>3.500848e+07</td>\n",
              "      <td>5.0</td>\n",
              "      <td>Tidak</td>\n",
              "      <td>626.282040</td>\n",
              "      <td>Kota</td>\n",
              "      <td>(4.2, 5.0]</td>\n",
              "      <td>3131.410200</td>\n",
              "    </tr>\n",
              "    <tr>\n",
              "      <th>118</th>\n",
              "      <td>3.502246e+07</td>\n",
              "      <td>2.5</td>\n",
              "      <td>Ya</td>\n",
              "      <td>1146.070900</td>\n",
              "      <td>Kota</td>\n",
              "      <td>(2.0, 2.5]</td>\n",
              "      <td>2865.177250</td>\n",
              "    </tr>\n",
              "    <tr>\n",
              "      <th>...</th>\n",
              "      <td>...</td>\n",
              "      <td>...</td>\n",
              "      <td>...</td>\n",
              "      <td>...</td>\n",
              "      <td>...</td>\n",
              "      <td>...</td>\n",
              "      <td>...</td>\n",
              "    </tr>\n",
              "    <tr>\n",
              "      <th>2747399</th>\n",
              "      <td>2.364676e+11</td>\n",
              "      <td>10.0</td>\n",
              "      <td>Tidak</td>\n",
              "      <td>523.004640</td>\n",
              "      <td>Desa</td>\n",
              "      <td>(7.7, 10.0]</td>\n",
              "      <td>5230.046400</td>\n",
              "    </tr>\n",
              "    <tr>\n",
              "      <th>2747435</th>\n",
              "      <td>2.365029e+11</td>\n",
              "      <td>5.0</td>\n",
              "      <td>Ya</td>\n",
              "      <td>267.552060</td>\n",
              "      <td>Desa</td>\n",
              "      <td>(4.2, 5.0]</td>\n",
              "      <td>1337.760300</td>\n",
              "    </tr>\n",
              "    <tr>\n",
              "      <th>2747462</th>\n",
              "      <td>2.365501e+11</td>\n",
              "      <td>5.0</td>\n",
              "      <td>Tidak</td>\n",
              "      <td>212.682130</td>\n",
              "      <td>Desa</td>\n",
              "      <td>(4.2, 5.0]</td>\n",
              "      <td>1063.410650</td>\n",
              "    </tr>\n",
              "    <tr>\n",
              "      <th>2747486</th>\n",
              "      <td>2.403726e+11</td>\n",
              "      <td>5.0</td>\n",
              "      <td>Tidak</td>\n",
              "      <td>593.981260</td>\n",
              "      <td>Desa</td>\n",
              "      <td>(4.2, 5.0]</td>\n",
              "      <td>2969.906300</td>\n",
              "    </tr>\n",
              "    <tr>\n",
              "      <th>2747529</th>\n",
              "      <td>2.670807e+11</td>\n",
              "      <td>10.0</td>\n",
              "      <td>Ya</td>\n",
              "      <td>494.199860</td>\n",
              "      <td>Desa</td>\n",
              "      <td>(7.7, 10.0]</td>\n",
              "      <td>4941.998600</td>\n",
              "    </tr>\n",
              "  </tbody>\n",
              "</table>\n",
              "<p>63602 rows × 7 columns</p>\n",
              "</div>"
            ],
            "text/plain": [
              "                 Urut  Total Konsumsi Gula (Ons)  \\\n",
              "0        2.750231e+07                       15.0   \n",
              "27       3.000125e+07                        5.0   \n",
              "49       3.250134e+07                       10.0   \n",
              "76       3.500848e+07                        5.0   \n",
              "118      3.502246e+07                        2.5   \n",
              "...               ...                        ...   \n",
              "2747399  2.364676e+11                       10.0   \n",
              "2747435  2.365029e+11                        5.0   \n",
              "2747462  2.365501e+11                        5.0   \n",
              "2747486  2.403726e+11                        5.0   \n",
              "2747529  2.670807e+11                       10.0   \n",
              "\n",
              "        Pernah Berobat Jalan 6 Bulan Terakhir?    Weighting Kota/Desa  \\\n",
              "0                                        Tidak   328.766850      Kota   \n",
              "27                                       Tidak    30.502945      Kota   \n",
              "49                                       Tidak    65.848070      Kota   \n",
              "76                                       Tidak   626.282040      Kota   \n",
              "118                                         Ya  1146.070900      Kota   \n",
              "...                                        ...          ...       ...   \n",
              "2747399                                  Tidak   523.004640      Desa   \n",
              "2747435                                     Ya   267.552060      Desa   \n",
              "2747462                                  Tidak   212.682130      Desa   \n",
              "2747486                                  Tidak   593.981260      Desa   \n",
              "2747529                                     Ya   494.199860      Desa   \n",
              "\n",
              "              kuartil     Multiply  \n",
              "0        (11.0, 15.0]  4931.502750  \n",
              "27         (4.2, 5.0]   152.514725  \n",
              "49        (7.7, 10.0]   658.480700  \n",
              "76         (4.2, 5.0]  3131.410200  \n",
              "118        (2.0, 2.5]  2865.177250  \n",
              "...               ...          ...  \n",
              "2747399   (7.7, 10.0]  5230.046400  \n",
              "2747435    (4.2, 5.0]  1337.760300  \n",
              "2747462    (4.2, 5.0]  1063.410650  \n",
              "2747486    (4.2, 5.0]  2969.906300  \n",
              "2747529   (7.7, 10.0]  4941.998600  \n",
              "\n",
              "[63602 rows x 7 columns]"
            ]
          },
          "metadata": {
            "tags": []
          },
          "execution_count": 144
        }
      ]
    },
    {
      "cell_type": "code",
      "metadata": {
        "id": "-xgIMS6SfCqb",
        "outputId": "fa4bacfb-18dc-4e31-84ca-3252d50bf94a"
      },
      "source": [
        "tabel_kuartil = tabel_kotadesa.groupby(['kuartil', 'Pernah Berobat Jalan 6 Bulan Terakhir?']).sum()['Multiply']\n",
        "tabel_kuartil"
      ],
      "execution_count": null,
      "outputs": [
        {
          "output_type": "execute_result",
          "data": {
            "text/plain": [
              "kuartil       Pernah Berobat Jalan 6 Bulan Terakhir?\n",
              "(0.079, 1.0]  Tidak                                     2.324036e+06\n",
              "              Ya                                        7.497227e+05\n",
              "(1.0, 2.0]    Tidak                                     4.606756e+06\n",
              "              Ya                                        1.739931e+06\n",
              "(2.0, 2.5]    Tidak                                     1.365514e+07\n",
              "              Ya                                        5.648353e+06\n",
              "(2.5, 3.3]    Tidak                                     5.561130e+06\n",
              "              Ya                                        1.856952e+06\n",
              "(3.3, 4.2]    Tidak                                     9.233305e+06\n",
              "              Ya                                        3.254309e+06\n",
              "(4.2, 5.0]    Tidak                                     4.904183e+07\n",
              "              Ya                                        1.615391e+07\n",
              "(5.0, 7.0]    Tidak                                     1.774953e+07\n",
              "              Ya                                        6.461800e+06\n",
              "(7.0, 7.7]    Tidak                                     1.062741e+07\n",
              "              Ya                                        4.827312e+06\n",
              "(7.7, 10.0]   Tidak                                     8.103798e+07\n",
              "              Ya                                        2.347768e+07\n",
              "(10.0, 11.0]  Tidak                                     4.711124e+06\n",
              "              Ya                                        1.445113e+06\n",
              "(11.0, 15.0]  Tidak                                     2.791243e+07\n",
              "              Ya                                        9.747635e+06\n",
              "(15.0, 80.0]  Tidak                                     2.999715e+07\n",
              "              Ya                                        9.368846e+06\n",
              "Name: Multiply, dtype: float64"
            ]
          },
          "metadata": {
            "tags": []
          },
          "execution_count": 145
        }
      ]
    },
    {
      "cell_type": "code",
      "metadata": {
        "id": "vTCHN1GlfCqb"
      },
      "source": [
        "Quartil= []\n",
        "persentase_berobat = []\n",
        "\n",
        "for K in range(0,len(tabel_kuartil.index)):\n",
        "    Quartil.append(str(tabel_kuartil.index[K][0])[1:-1])\n",
        "    persentase_berobat.append(tabel_kuartil[tabel_kuartil.index[K][0]][1]/(tabel_kuartil[tabel_kuartil.index[K][0]][1] + tabel_kuartil[tabel_kuartil.index[K][0]][0]))\n",
        "\n"
      ],
      "execution_count": null,
      "outputs": []
    },
    {
      "cell_type": "code",
      "metadata": {
        "id": "io616jWjfCqb"
      },
      "source": [
        "Quartil = list(dict.fromkeys(Quartil))\n",
        "persentase_berobat = list(dict.fromkeys(persentase_berobat))"
      ],
      "execution_count": null,
      "outputs": []
    },
    {
      "cell_type": "code",
      "metadata": {
        "id": "exHMiwK1fCqc",
        "outputId": "9b1c183d-7957-440a-905e-19031df773f6"
      },
      "source": [
        "plt.figure(figsize=[15,8])\n",
        "sns.scatterplot(x = Quartil, y = persentase_berobat)\n",
        "plt.xlabel('Konsumsi Gula (Ons)')\n",
        "plt.ylabel('Persentase Rawat Jalan')\n",
        "plt.show()"
      ],
      "execution_count": null,
      "outputs": [
        {
          "output_type": "display_data",
          "data": {
            "image/png": "[encoded data removed]",
            "text/plain": [
              "<Figure size 1080x576 with 1 Axes>"
            ]
          },
          "metadata": {
            "tags": [],
            "needs_background": "light"
          }
        }
      ]
    },
    {
      "cell_type": "markdown",
      "metadata": {
        "id": "n1WYg1ijfCqc"
      },
      "source": [
        "# Korelasi Jumlah Konsumsi Gula Per Jenis Dengan Rawat Jalan"
      ]
    },
    {
      "cell_type": "markdown",
      "metadata": {
        "id": "owP1J3LPfCqc"
      },
      "source": [
        "### Gula Pasir"
      ]
    },
    {
      "cell_type": "code",
      "metadata": {
        "id": "bmPnTYx4fCqc",
        "outputId": "abfe5bd6-5b3c-4311-ec8b-47d3d5ebf87e"
      },
      "source": [
        "tabel_pasir = gula_pasir.merge(sakit_6, how='left', on='urut')\n",
        "tabel_pasir.drop(['weind_y'], axis=1, inplace=True)\n",
        "tabel_pasir.rename(columns={'weind_x': 'weind'}, inplace=True)\n",
        "tabel_pasir['b5r7'] = tabel_pasir['b5r7'].map({1: 'Ya', 2: 'Tidak'})\n",
        "tabel_pasir"
      ],
      "execution_count": null,
      "outputs": [
        {
          "output_type": "execute_result",
          "data": {
            "text/html": [
              "<div>\n",
              "<style scoped>\n",
              "    .dataframe tbody tr th:only-of-type {\n",
              "        vertical-align: middle;\n",
              "    }\n",
              "\n",
              "    .dataframe tbody tr th {\n",
              "        vertical-align: top;\n",
              "    }\n",
              "\n",
              "    .dataframe thead th {\n",
              "        text-align: right;\n",
              "    }\n",
              "</style>\n",
              "<table border=\"1\" class=\"dataframe\">\n",
              "  <thead>\n",
              "    <tr style=\"text-align: right;\">\n",
              "      <th></th>\n",
              "      <th>urut</th>\n",
              "      <th>kode</th>\n",
              "      <th>b41k8</th>\n",
              "      <th>weind</th>\n",
              "      <th>multiply</th>\n",
              "      <th>b5r7</th>\n",
              "    </tr>\n",
              "  </thead>\n",
              "  <tbody>\n",
              "    <tr>\n",
              "      <th>0</th>\n",
              "      <td>4.408589e+07</td>\n",
              "      <td>159</td>\n",
              "      <td>10.00</td>\n",
              "      <td>802.58200</td>\n",
              "      <td>8025.820000</td>\n",
              "      <td>Tidak</td>\n",
              "    </tr>\n",
              "    <tr>\n",
              "      <th>1</th>\n",
              "      <td>8.817178e+07</td>\n",
              "      <td>159</td>\n",
              "      <td>5.00</td>\n",
              "      <td>583.20260</td>\n",
              "      <td>2916.013000</td>\n",
              "      <td>Tidak</td>\n",
              "    </tr>\n",
              "    <tr>\n",
              "      <th>2</th>\n",
              "      <td>1.763436e+08</td>\n",
              "      <td>159</td>\n",
              "      <td>2.50</td>\n",
              "      <td>120.22718</td>\n",
              "      <td>300.567950</td>\n",
              "      <td>Tidak</td>\n",
              "    </tr>\n",
              "    <tr>\n",
              "      <th>3</th>\n",
              "      <td>2.204294e+08</td>\n",
              "      <td>159</td>\n",
              "      <td>10.00</td>\n",
              "      <td>1498.96610</td>\n",
              "      <td>14989.661000</td>\n",
              "      <td>Tidak</td>\n",
              "    </tr>\n",
              "    <tr>\n",
              "      <th>4</th>\n",
              "      <td>2.645153e+08</td>\n",
              "      <td>159</td>\n",
              "      <td>5.00</td>\n",
              "      <td>504.61030</td>\n",
              "      <td>2523.051500</td>\n",
              "      <td>Tidak</td>\n",
              "    </tr>\n",
              "    <tr>\n",
              "      <th>...</th>\n",
              "      <td>...</td>\n",
              "      <td>...</td>\n",
              "      <td>...</td>\n",
              "      <td>...</td>\n",
              "      <td>...</td>\n",
              "      <td>...</td>\n",
              "    </tr>\n",
              "    <tr>\n",
              "      <th>63699</th>\n",
              "      <td>1.169259e+11</td>\n",
              "      <td>159</td>\n",
              "      <td>10.00</td>\n",
              "      <td>10037.11100</td>\n",
              "      <td>100371.110000</td>\n",
              "      <td>Tidak</td>\n",
              "    </tr>\n",
              "    <tr>\n",
              "      <th>63700</th>\n",
              "      <td>1.669035e+10</td>\n",
              "      <td>159</td>\n",
              "      <td>2.50</td>\n",
              "      <td>4480.41260</td>\n",
              "      <td>11201.031500</td>\n",
              "      <td>Tidak</td>\n",
              "    </tr>\n",
              "    <tr>\n",
              "      <th>63701</th>\n",
              "      <td>3.338069e+10</td>\n",
              "      <td>159</td>\n",
              "      <td>5.00</td>\n",
              "      <td>5828.87350</td>\n",
              "      <td>29144.367500</td>\n",
              "      <td>Tidak</td>\n",
              "    </tr>\n",
              "    <tr>\n",
              "      <th>63702</th>\n",
              "      <td>1.001421e+11</td>\n",
              "      <td>159</td>\n",
              "      <td>5.00</td>\n",
              "      <td>4122.54500</td>\n",
              "      <td>20612.725000</td>\n",
              "      <td>Tidak</td>\n",
              "    </tr>\n",
              "    <tr>\n",
              "      <th>63703</th>\n",
              "      <td>1.502131e+11</td>\n",
              "      <td>159</td>\n",
              "      <td>0.25</td>\n",
              "      <td>1497.86550</td>\n",
              "      <td>374.466375</td>\n",
              "      <td>Tidak</td>\n",
              "    </tr>\n",
              "  </tbody>\n",
              "</table>\n",
              "<p>63704 rows × 6 columns</p>\n",
              "</div>"
            ],
            "text/plain": [
              "               urut  kode  b41k8        weind       multiply   b5r7\n",
              "0      4.408589e+07   159  10.00    802.58200    8025.820000  Tidak\n",
              "1      8.817178e+07   159   5.00    583.20260    2916.013000  Tidak\n",
              "2      1.763436e+08   159   2.50    120.22718     300.567950  Tidak\n",
              "3      2.204294e+08   159  10.00   1498.96610   14989.661000  Tidak\n",
              "4      2.645153e+08   159   5.00    504.61030    2523.051500  Tidak\n",
              "...             ...   ...    ...          ...            ...    ...\n",
              "63699  1.169259e+11   159  10.00  10037.11100  100371.110000  Tidak\n",
              "63700  1.669035e+10   159   2.50   4480.41260   11201.031500  Tidak\n",
              "63701  3.338069e+10   159   5.00   5828.87350   29144.367500  Tidak\n",
              "63702  1.001421e+11   159   5.00   4122.54500   20612.725000  Tidak\n",
              "63703  1.502131e+11   159   0.25   1497.86550     374.466375  Tidak\n",
              "\n",
              "[63704 rows x 6 columns]"
            ]
          },
          "metadata": {
            "tags": []
          },
          "execution_count": 149
        }
      ]
    },
    {
      "cell_type": "code",
      "metadata": {
        "id": "R9G2_h37fCqd",
        "outputId": "2d1b28cc-ff6d-4398-bea7-febca438678e"
      },
      "source": [
        "kuartil_pasir = pd.qcut(tabel_pasir['b41k8'], 20, duplicates='drop', retbins= False)\n",
        "tabel_pasir['kuartil'] = kuartil_pasir\n",
        "tabel_kuartil_pasir = tabel_pasir.groupby(['kuartil', 'b5r7']).sum()['multiply']\n",
        "tabel_kuartil_pasir"
      ],
      "execution_count": null,
      "outputs": [
        {
          "output_type": "execute_result",
          "data": {
            "text/plain": [
              "kuartil       b5r7 \n",
              "(0.049, 1.0]  Tidak    9.161017e+06\n",
              "              Ya       2.853532e+06\n",
              "(1.0, 2.0]    Tidak    1.514159e+07\n",
              "              Ya       5.203373e+06\n",
              "(2.0, 2.5]    Tidak    6.230786e+07\n",
              "              Ya       2.392925e+07\n",
              "(2.5, 3.0]    Tidak    1.443498e+07\n",
              "              Ya       4.657387e+06\n",
              "(3.0, 4.0]    Tidak    2.549837e+07\n",
              "              Ya       8.358069e+06\n",
              "(4.0, 5.0]    Tidak    2.169619e+08\n",
              "              Ya       7.215565e+07\n",
              "(5.0, 5.7]    Tidak    6.981226e+06\n",
              "              Ya       1.886472e+06\n",
              "(5.7, 7.5]    Tidak    7.046093e+07\n",
              "              Ya       2.650132e+07\n",
              "(7.5, 9.0]    Tidak    4.009503e+07\n",
              "              Ya       1.293022e+07\n",
              "(9.0, 10.0]   Tidak    3.625178e+08\n",
              "              Ya       1.080619e+08\n",
              "(10.0, 15.0]  Tidak    9.995455e+07\n",
              "              Ya       3.312127e+07\n",
              "(15.0, 70.0]  Tidak    1.237522e+08\n",
              "              Ya       4.002607e+07\n",
              "Name: multiply, dtype: float64"
            ]
          },
          "metadata": {
            "tags": []
          },
          "execution_count": 150
        }
      ]
    },
    {
      "cell_type": "code",
      "metadata": {
        "id": "LQougH4TfCqd"
      },
      "source": [
        "Quartil_pasir = []\n",
        "persentase_berobat_pasir = []\n",
        "\n",
        "for K in range(0,len(tabel_kuartil_pasir.index)):\n",
        "    Quartil_pasir.append(str(tabel_kuartil_pasir.index[K][0])[1:-1])\n",
        "    persentase_berobat_pasir.append(tabel_kuartil_pasir[tabel_kuartil_pasir.index[K][0]][1]/(tabel_kuartil_pasir[tabel_kuartil_pasir.index[K][0]][1] + tabel_kuartil_pasir[tabel_kuartil_pasir.index[K][0]][0]))\n",
        "\n",
        "Quartil_pasir = list(dict.fromkeys(Quartil_pasir))\n",
        "persentase_berobat_pasir = list(dict.fromkeys(persentase_berobat_pasir))"
      ],
      "execution_count": null,
      "outputs": []
    },
    {
      "cell_type": "code",
      "metadata": {
        "id": "nyhuPE9ofCqd",
        "outputId": "5439495c-de34-43af-c255-ff8dd4e58b00"
      },
      "source": [
        "plt.figure(figsize=[10,6])\n",
        "sns.scatterplot(x = Quartil_pasir, y = persentase_berobat_pasir)\n",
        "plt.xlabel('Konsumsi Gula Pasir (Ons)')\n",
        "plt.ylabel('Persentase Rawat Jalan')\n",
        "plt.xticks(rotation = 90)\n",
        "plt.title('Konsumsi Gula Pasir vs Persentase Rawat Jalan Dalam 6 Bulan Terakhir')\n",
        "plt.show()"
      ],
      "execution_count": null,
      "outputs": [
        {
          "output_type": "display_data",
          "data": {
            "image/png": "[encoded data removed]",
            "text/plain": [
              "<Figure size 720x432 with 1 Axes>"
            ]
          },
          "metadata": {
            "tags": [],
            "needs_background": "light"
          }
        }
      ]
    },
    {
      "cell_type": "markdown",
      "metadata": {
        "id": "uF-K-UvmfCqe"
      },
      "source": [
        "### Gula Merah"
      ]
    },
    {
      "cell_type": "code",
      "metadata": {
        "id": "qdI6Kf8NfCqe",
        "outputId": "2d177535-4433-4fff-8848-ab0a98ff7579"
      },
      "source": [
        "tabel_merah = gula_merah.merge(sakit_6, how='left', on='urut')\n",
        "tabel_merah.drop(['weind_y'], axis=1, inplace=True)\n",
        "tabel_merah.rename(columns={'weind_x': 'weind'}, inplace=True)\n",
        "tabel_merah['b5r7'] = tabel_merah['b5r7'].map({1: 'Ya', 2: 'Tidak'})\n",
        "tabel_merah"
      ],
      "execution_count": null,
      "outputs": [
        {
          "output_type": "execute_result",
          "data": {
            "text/html": [
              "<div>\n",
              "<style scoped>\n",
              "    .dataframe tbody tr th:only-of-type {\n",
              "        vertical-align: middle;\n",
              "    }\n",
              "\n",
              "    .dataframe tbody tr th {\n",
              "        vertical-align: top;\n",
              "    }\n",
              "\n",
              "    .dataframe thead th {\n",
              "        text-align: right;\n",
              "    }\n",
              "</style>\n",
              "<table border=\"1\" class=\"dataframe\">\n",
              "  <thead>\n",
              "    <tr style=\"text-align: right;\">\n",
              "      <th></th>\n",
              "      <th>urut</th>\n",
              "      <th>kode</th>\n",
              "      <th>b41k8</th>\n",
              "      <th>weind</th>\n",
              "      <th>multiply</th>\n",
              "      <th>b5r7</th>\n",
              "    </tr>\n",
              "  </thead>\n",
              "  <tbody>\n",
              "    <tr>\n",
              "      <th>0</th>\n",
              "      <td>7.929912e+08</td>\n",
              "      <td>160</td>\n",
              "      <td>5.00</td>\n",
              "      <td>1631.19800</td>\n",
              "      <td>8155.99000</td>\n",
              "      <td>Tidak</td>\n",
              "    </tr>\n",
              "    <tr>\n",
              "      <th>1</th>\n",
              "      <td>5.292688e+08</td>\n",
              "      <td>160</td>\n",
              "      <td>10.00</td>\n",
              "      <td>1526.50870</td>\n",
              "      <td>15265.08700</td>\n",
              "      <td>Tidak</td>\n",
              "    </tr>\n",
              "    <tr>\n",
              "      <th>2</th>\n",
              "      <td>4.400458e+08</td>\n",
              "      <td>160</td>\n",
              "      <td>1.00</td>\n",
              "      <td>1001.39557</td>\n",
              "      <td>1001.39557</td>\n",
              "      <td>Tidak</td>\n",
              "    </tr>\n",
              "    <tr>\n",
              "      <th>3</th>\n",
              "      <td>1.650991e+08</td>\n",
              "      <td>160</td>\n",
              "      <td>1.00</td>\n",
              "      <td>823.56995</td>\n",
              "      <td>823.56995</td>\n",
              "      <td>Tidak</td>\n",
              "    </tr>\n",
              "    <tr>\n",
              "      <th>4</th>\n",
              "      <td>2.201321e+08</td>\n",
              "      <td>160</td>\n",
              "      <td>5.00</td>\n",
              "      <td>2288.79130</td>\n",
              "      <td>11443.95650</td>\n",
              "      <td>Tidak</td>\n",
              "    </tr>\n",
              "    <tr>\n",
              "      <th>...</th>\n",
              "      <td>...</td>\n",
              "      <td>...</td>\n",
              "      <td>...</td>\n",
              "      <td>...</td>\n",
              "      <td>...</td>\n",
              "      <td>...</td>\n",
              "    </tr>\n",
              "    <tr>\n",
              "      <th>9426</th>\n",
              "      <td>1.904983e+10</td>\n",
              "      <td>160</td>\n",
              "      <td>5.00</td>\n",
              "      <td>4162.71400</td>\n",
              "      <td>20813.57000</td>\n",
              "      <td>Ya</td>\n",
              "    </tr>\n",
              "    <tr>\n",
              "      <th>9427</th>\n",
              "      <td>2.369160e+10</td>\n",
              "      <td>160</td>\n",
              "      <td>2.00</td>\n",
              "      <td>1964.05430</td>\n",
              "      <td>3928.10860</td>\n",
              "      <td>Tidak</td>\n",
              "    </tr>\n",
              "    <tr>\n",
              "      <th>9428</th>\n",
              "      <td>1.975264e+10</td>\n",
              "      <td>160</td>\n",
              "      <td>5.00</td>\n",
              "      <td>1512.66160</td>\n",
              "      <td>7563.30800</td>\n",
              "      <td>Tidak</td>\n",
              "    </tr>\n",
              "    <tr>\n",
              "      <th>9429</th>\n",
              "      <td>2.106655e+10</td>\n",
              "      <td>160</td>\n",
              "      <td>2.44</td>\n",
              "      <td>511.53525</td>\n",
              "      <td>1248.14601</td>\n",
              "      <td>Ya</td>\n",
              "    </tr>\n",
              "    <tr>\n",
              "      <th>9430</th>\n",
              "      <td>1.168978e+11</td>\n",
              "      <td>160</td>\n",
              "      <td>1.10</td>\n",
              "      <td>3401.19340</td>\n",
              "      <td>3741.31274</td>\n",
              "      <td>Tidak</td>\n",
              "    </tr>\n",
              "  </tbody>\n",
              "</table>\n",
              "<p>9431 rows × 6 columns</p>\n",
              "</div>"
            ],
            "text/plain": [
              "              urut  kode  b41k8       weind     multiply   b5r7\n",
              "0     7.929912e+08   160   5.00  1631.19800   8155.99000  Tidak\n",
              "1     5.292688e+08   160  10.00  1526.50870  15265.08700  Tidak\n",
              "2     4.400458e+08   160   1.00  1001.39557   1001.39557  Tidak\n",
              "3     1.650991e+08   160   1.00   823.56995    823.56995  Tidak\n",
              "4     2.201321e+08   160   5.00  2288.79130  11443.95650  Tidak\n",
              "...            ...   ...    ...         ...          ...    ...\n",
              "9426  1.904983e+10   160   5.00  4162.71400  20813.57000     Ya\n",
              "9427  2.369160e+10   160   2.00  1964.05430   3928.10860  Tidak\n",
              "9428  1.975264e+10   160   5.00  1512.66160   7563.30800  Tidak\n",
              "9429  2.106655e+10   160   2.44   511.53525   1248.14601     Ya\n",
              "9430  1.168978e+11   160   1.10  3401.19340   3741.31274  Tidak\n",
              "\n",
              "[9431 rows x 6 columns]"
            ]
          },
          "metadata": {
            "tags": []
          },
          "execution_count": 153
        }
      ]
    },
    {
      "cell_type": "code",
      "metadata": {
        "id": "NmBT2bsGfCqe",
        "outputId": "62b143da-d1a0-424d-df7b-896a63f069b1"
      },
      "source": [
        "kuartil_merah = pd.qcut(tabel_merah['b41k8'], 20, duplicates='drop', retbins= False)\n",
        "tabel_merah['kuartil'] = kuartil_merah\n",
        "tabel_kuartil_merah = tabel_merah.groupby(['kuartil', 'b5r7']).sum()['multiply']\n",
        "tabel_kuartil_merah"
      ],
      "execution_count": null,
      "outputs": [
        {
          "output_type": "execute_result",
          "data": {
            "text/plain": [
              "kuartil                      b5r7 \n",
              "(0.028999999999999998, 0.5]  Tidak    1.323626e+06\n",
              "                             Ya       5.847835e+05\n",
              "(0.5, 0.85]                  Tidak    1.181905e+06\n",
              "                             Ya       5.135242e+05\n",
              "(0.85, 1.0]                  Tidak    8.025263e+06\n",
              "                             Ya       2.829836e+06\n",
              "(1.0, 1.5]                   Tidak    3.620405e+06\n",
              "                             Ya       1.656757e+06\n",
              "(1.5, 1.89]                  Tidak    7.105989e+05\n",
              "                             Ya       6.182455e+05\n",
              "(1.89, 2.0]                  Tidak    1.019716e+07\n",
              "                             Ya       3.893331e+06\n",
              "(2.0, 2.5]                   Tidak    1.967728e+07\n",
              "                             Ya       9.154989e+06\n",
              "(2.5, 3.465]                 Tidak    4.025359e+06\n",
              "                             Ya       1.816269e+06\n",
              "(3.465, 5.0]                 Tidak    1.630816e+07\n",
              "                             Ya       6.164848e+06\n",
              "(5.0, 40.0]                  Tidak    1.484261e+07\n",
              "                             Ya       4.282883e+06\n",
              "Name: multiply, dtype: float64"
            ]
          },
          "metadata": {
            "tags": []
          },
          "execution_count": 154
        }
      ]
    },
    {
      "cell_type": "code",
      "metadata": {
        "id": "U3djdTFVfCqf"
      },
      "source": [
        "Quartil_merah= []\n",
        "persentase_berobat_merah = []\n",
        "\n",
        "for K in range(0,len(tabel_kuartil_merah.index)):\n",
        "    Quartil_merah.append(str(tabel_kuartil_merah.index[K][0])[1:-1])\n",
        "    persentase_berobat_merah.append(tabel_kuartil_merah[tabel_kuartil_merah.index[K][0]][1]/(tabel_kuartil_merah[tabel_kuartil_merah.index[K][0]][1] + tabel_kuartil_merah[tabel_kuartil_merah.index[K][0]][0]))\n",
        "\n",
        "Quartil_merah = list(dict.fromkeys(Quartil_merah))\n",
        "persentase_berobat_merah = list(dict.fromkeys(persentase_berobat_merah))"
      ],
      "execution_count": null,
      "outputs": []
    },
    {
      "cell_type": "code",
      "metadata": {
        "id": "RO5R3jTDfCqf",
        "outputId": "c5239ae9-9d63-4da5-902b-f37b31afa1e2"
      },
      "source": [
        "plt.figure(figsize=[10,6])\n",
        "sns.scatterplot(x = Quartil_merah, y = persentase_berobat_merah)\n",
        "plt.xlabel('Konsumsi Gula Merah (Ons)')\n",
        "plt.ylabel('Persentase Rawat Jalan')\n",
        "plt.xticks(rotation = 90)\n",
        "plt.title('Konsumsi Gula Merah vs Persentase Rawat Jalan Dalam 6 Bulan Terakhir')\n",
        "plt.show()"
      ],
      "execution_count": null,
      "outputs": [
        {
          "output_type": "display_data",
          "data": {
            "image/png": "[encoded data removed]",
            "text/plain": [
              "<Figure size 720x432 with 1 Axes>"
            ]
          },
          "metadata": {
            "tags": [],
            "needs_background": "light"
          }
        }
      ]
    },
    {
      "cell_type": "markdown",
      "metadata": {
        "id": "EBZmKq0pfCqf"
      },
      "source": [
        "# KONSUMSI MINYAK"
      ]
    },
    {
      "cell_type": "markdown",
      "metadata": {
        "id": "wfY7aARLfCqg"
      },
      "source": [
        "Konsumsi Minyak kelapa/Liter [152]"
      ]
    },
    {
      "cell_type": "code",
      "metadata": {
        "id": "uVpDf5prfCqg"
      },
      "source": [
        "minyak_kelapa = data[data['kode'] == 152]\n",
        "\n",
        "minyak_kelapa = minyak_kelapa.loc[:, ['urut', 'kode', 'b41k8']]"
      ],
      "execution_count": null,
      "outputs": []
    },
    {
      "cell_type": "markdown",
      "metadata": {
        "id": "1AKUpAKffCqg"
      },
      "source": [
        "Konsumsi Minyak Jagung/Liter [153]"
      ]
    },
    {
      "cell_type": "code",
      "metadata": {
        "id": "yooYJv5tfCqg"
      },
      "source": [
        "minyak_jagung = data[data['kode'] == 153]\n",
        "\n",
        "minyak_jagung = minyak_jagung.loc[:, ['urut', 'kode', 'b41k8']]"
      ],
      "execution_count": null,
      "outputs": []
    },
    {
      "cell_type": "markdown",
      "metadata": {
        "id": "bXCfPc2UfCqh"
      },
      "source": [
        "Konsumsi Minyak Goreng Lainnya/Liter [154]"
      ]
    },
    {
      "cell_type": "code",
      "metadata": {
        "id": "RUbVeGn7fCqh"
      },
      "source": [
        "minyak_lain = data[data['kode'] == 154]\n",
        "\n",
        "minyak_lain = minyak_lain.loc[:, ['urut', 'kode', 'b41k8']]"
      ],
      "execution_count": null,
      "outputs": []
    },
    {
      "cell_type": "code",
      "metadata": {
        "id": "eRJFy2HEfCqh",
        "outputId": "d60a36a8-e470-4efd-d722-f35093dc0a89"
      },
      "source": [
        "minyaque = pd.concat([minyak_kelapa, minyak_jagung, minyak_lain])\n",
        "minyaque.drop(['kode'], axis=1, inplace=True)\n",
        "minyaque = minyaque.groupby('urut').sum()\n",
        "minyaque.reset_index(inplace=True)\n",
        "minyaque.head()"
      ],
      "execution_count": null,
      "outputs": [
        {
          "output_type": "execute_result",
          "data": {
            "text/html": [
              "<div>\n",
              "<style scoped>\n",
              "    .dataframe tbody tr th:only-of-type {\n",
              "        vertical-align: middle;\n",
              "    }\n",
              "\n",
              "    .dataframe tbody tr th {\n",
              "        vertical-align: top;\n",
              "    }\n",
              "\n",
              "    .dataframe thead th {\n",
              "        text-align: right;\n",
              "    }\n",
              "</style>\n",
              "<table border=\"1\" class=\"dataframe\">\n",
              "  <thead>\n",
              "    <tr style=\"text-align: right;\">\n",
              "      <th></th>\n",
              "      <th>urut</th>\n",
              "      <th>b41k8</th>\n",
              "    </tr>\n",
              "  </thead>\n",
              "  <tbody>\n",
              "    <tr>\n",
              "      <th>0</th>\n",
              "      <td>27502310.0</td>\n",
              "      <td>1.00</td>\n",
              "    </tr>\n",
              "    <tr>\n",
              "      <th>1</th>\n",
              "      <td>30001248.0</td>\n",
              "      <td>1.12</td>\n",
              "    </tr>\n",
              "    <tr>\n",
              "      <th>2</th>\n",
              "      <td>32501339.0</td>\n",
              "      <td>0.50</td>\n",
              "    </tr>\n",
              "    <tr>\n",
              "      <th>3</th>\n",
              "      <td>35008484.0</td>\n",
              "      <td>1.00</td>\n",
              "    </tr>\n",
              "    <tr>\n",
              "      <th>4</th>\n",
              "      <td>35022456.0</td>\n",
              "      <td>2.00</td>\n",
              "    </tr>\n",
              "  </tbody>\n",
              "</table>\n",
              "</div>"
            ],
            "text/plain": [
              "         urut  b41k8\n",
              "0  27502310.0   1.00\n",
              "1  30001248.0   1.12\n",
              "2  32501339.0   0.50\n",
              "3  35008484.0   1.00\n",
              "4  35022456.0   2.00"
            ]
          },
          "metadata": {
            "tags": []
          },
          "execution_count": 160
        }
      ]
    },
    {
      "cell_type": "code",
      "metadata": {
        "id": "dORlDxjVfCqi",
        "outputId": "b49b3117-b9e6-4f77-bd53-a44aca0fa959"
      },
      "source": [
        "sakit_6 = data_kor.loc[:, ['urut', 'b5r7','weind']]\n",
        "sakit_6.drop_duplicates(subset=['urut'], inplace=True)\n",
        "sakit_6"
      ],
      "execution_count": null,
      "outputs": [
        {
          "output_type": "execute_result",
          "data": {
            "text/html": [
              "<div>\n",
              "<style scoped>\n",
              "    .dataframe tbody tr th:only-of-type {\n",
              "        vertical-align: middle;\n",
              "    }\n",
              "\n",
              "    .dataframe tbody tr th {\n",
              "        vertical-align: top;\n",
              "    }\n",
              "\n",
              "    .dataframe thead th {\n",
              "        text-align: right;\n",
              "    }\n",
              "</style>\n",
              "<table border=\"1\" class=\"dataframe\">\n",
              "  <thead>\n",
              "    <tr style=\"text-align: right;\">\n",
              "      <th></th>\n",
              "      <th>urut</th>\n",
              "      <th>b5r7</th>\n",
              "      <th>weind</th>\n",
              "    </tr>\n",
              "  </thead>\n",
              "  <tbody>\n",
              "    <tr>\n",
              "      <th>0</th>\n",
              "      <td>2.750231e+07</td>\n",
              "      <td>2</td>\n",
              "      <td>328.766850</td>\n",
              "    </tr>\n",
              "    <tr>\n",
              "      <th>8</th>\n",
              "      <td>3.000125e+07</td>\n",
              "      <td>2</td>\n",
              "      <td>30.502945</td>\n",
              "    </tr>\n",
              "    <tr>\n",
              "      <th>12</th>\n",
              "      <td>3.250134e+07</td>\n",
              "      <td>2</td>\n",
              "      <td>65.848070</td>\n",
              "    </tr>\n",
              "    <tr>\n",
              "      <th>14</th>\n",
              "      <td>3.500848e+07</td>\n",
              "      <td>2</td>\n",
              "      <td>626.282040</td>\n",
              "    </tr>\n",
              "    <tr>\n",
              "      <th>19</th>\n",
              "      <td>3.502246e+07</td>\n",
              "      <td>1</td>\n",
              "      <td>1146.070900</td>\n",
              "    </tr>\n",
              "    <tr>\n",
              "      <th>...</th>\n",
              "      <td>...</td>\n",
              "      <td>...</td>\n",
              "      <td>...</td>\n",
              "    </tr>\n",
              "    <tr>\n",
              "      <th>274034</th>\n",
              "      <td>2.364676e+11</td>\n",
              "      <td>2</td>\n",
              "      <td>523.004640</td>\n",
              "    </tr>\n",
              "    <tr>\n",
              "      <th>274040</th>\n",
              "      <td>2.365029e+11</td>\n",
              "      <td>1</td>\n",
              "      <td>267.552060</td>\n",
              "    </tr>\n",
              "    <tr>\n",
              "      <th>274042</th>\n",
              "      <td>2.365501e+11</td>\n",
              "      <td>2</td>\n",
              "      <td>212.682130</td>\n",
              "    </tr>\n",
              "    <tr>\n",
              "      <th>274044</th>\n",
              "      <td>2.403726e+11</td>\n",
              "      <td>2</td>\n",
              "      <td>593.981260</td>\n",
              "    </tr>\n",
              "    <tr>\n",
              "      <th>274049</th>\n",
              "      <td>2.670807e+11</td>\n",
              "      <td>1</td>\n",
              "      <td>494.199860</td>\n",
              "    </tr>\n",
              "  </tbody>\n",
              "</table>\n",
              "<p>69514 rows × 3 columns</p>\n",
              "</div>"
            ],
            "text/plain": [
              "                urut  b5r7        weind\n",
              "0       2.750231e+07     2   328.766850\n",
              "8       3.000125e+07     2    30.502945\n",
              "12      3.250134e+07     2    65.848070\n",
              "14      3.500848e+07     2   626.282040\n",
              "19      3.502246e+07     1  1146.070900\n",
              "...              ...   ...          ...\n",
              "274034  2.364676e+11     2   523.004640\n",
              "274040  2.365029e+11     1   267.552060\n",
              "274042  2.365501e+11     2   212.682130\n",
              "274044  2.403726e+11     2   593.981260\n",
              "274049  2.670807e+11     1   494.199860\n",
              "\n",
              "[69514 rows x 3 columns]"
            ]
          },
          "metadata": {
            "tags": []
          },
          "execution_count": 161
        }
      ]
    },
    {
      "cell_type": "code",
      "metadata": {
        "id": "FgUq5jFRfCqi",
        "outputId": "1b85b499-2660-44e9-8a8d-4350718e7a72"
      },
      "source": [
        "tabel_akhir = minyaque.merge(sakit_6, how='left', on='urut')\n",
        "tabel_akhir['b5r7'] = tabel_akhir['b5r7'].map({1:'Ya',2:'Tidak'})\n",
        "tabel_akhir.rename(columns={ 'urut': 'Urut', 'b41k8': 'Total Konsumsi Minyak (liter)', 'b5r7': 'Pernah Berobat Jalan 6 Bulan Terakhir?', 'weind':'Weighting'}, inplace=True)\n",
        "tabel_akhir.drop_duplicates(subset=['Urut'], inplace=True)\n",
        "tabel_akhir"
      ],
      "execution_count": null,
      "outputs": [
        {
          "output_type": "execute_result",
          "data": {
            "text/html": [
              "<div>\n",
              "<style scoped>\n",
              "    .dataframe tbody tr th:only-of-type {\n",
              "        vertical-align: middle;\n",
              "    }\n",
              "\n",
              "    .dataframe tbody tr th {\n",
              "        vertical-align: top;\n",
              "    }\n",
              "\n",
              "    .dataframe thead th {\n",
              "        text-align: right;\n",
              "    }\n",
              "</style>\n",
              "<table border=\"1\" class=\"dataframe\">\n",
              "  <thead>\n",
              "    <tr style=\"text-align: right;\">\n",
              "      <th></th>\n",
              "      <th>Urut</th>\n",
              "      <th>Total Konsumsi Minyak (liter)</th>\n",
              "      <th>Pernah Berobat Jalan 6 Bulan Terakhir?</th>\n",
              "      <th>Weighting</th>\n",
              "    </tr>\n",
              "  </thead>\n",
              "  <tbody>\n",
              "    <tr>\n",
              "      <th>0</th>\n",
              "      <td>2.750231e+07</td>\n",
              "      <td>1.00</td>\n",
              "      <td>Tidak</td>\n",
              "      <td>328.766850</td>\n",
              "    </tr>\n",
              "    <tr>\n",
              "      <th>1</th>\n",
              "      <td>3.000125e+07</td>\n",
              "      <td>1.12</td>\n",
              "      <td>Tidak</td>\n",
              "      <td>30.502945</td>\n",
              "    </tr>\n",
              "    <tr>\n",
              "      <th>2</th>\n",
              "      <td>3.250134e+07</td>\n",
              "      <td>0.50</td>\n",
              "      <td>Tidak</td>\n",
              "      <td>65.848070</td>\n",
              "    </tr>\n",
              "    <tr>\n",
              "      <th>3</th>\n",
              "      <td>3.500848e+07</td>\n",
              "      <td>1.00</td>\n",
              "      <td>Tidak</td>\n",
              "      <td>626.282040</td>\n",
              "    </tr>\n",
              "    <tr>\n",
              "      <th>4</th>\n",
              "      <td>3.502246e+07</td>\n",
              "      <td>2.00</td>\n",
              "      <td>Ya</td>\n",
              "      <td>1146.070900</td>\n",
              "    </tr>\n",
              "    <tr>\n",
              "      <th>...</th>\n",
              "      <td>...</td>\n",
              "      <td>...</td>\n",
              "      <td>...</td>\n",
              "      <td>...</td>\n",
              "    </tr>\n",
              "    <tr>\n",
              "      <th>65063</th>\n",
              "      <td>2.364676e+11</td>\n",
              "      <td>2.00</td>\n",
              "      <td>Tidak</td>\n",
              "      <td>523.004640</td>\n",
              "    </tr>\n",
              "    <tr>\n",
              "      <th>65064</th>\n",
              "      <td>2.365029e+11</td>\n",
              "      <td>0.62</td>\n",
              "      <td>Ya</td>\n",
              "      <td>267.552060</td>\n",
              "    </tr>\n",
              "    <tr>\n",
              "      <th>65065</th>\n",
              "      <td>2.365501e+11</td>\n",
              "      <td>0.31</td>\n",
              "      <td>Tidak</td>\n",
              "      <td>212.682130</td>\n",
              "    </tr>\n",
              "    <tr>\n",
              "      <th>65066</th>\n",
              "      <td>2.403726e+11</td>\n",
              "      <td>1.00</td>\n",
              "      <td>Tidak</td>\n",
              "      <td>593.981260</td>\n",
              "    </tr>\n",
              "    <tr>\n",
              "      <th>65067</th>\n",
              "      <td>2.670807e+11</td>\n",
              "      <td>0.50</td>\n",
              "      <td>Ya</td>\n",
              "      <td>494.199860</td>\n",
              "    </tr>\n",
              "  </tbody>\n",
              "</table>\n",
              "<p>65068 rows × 4 columns</p>\n",
              "</div>"
            ],
            "text/plain": [
              "               Urut  Total Konsumsi Minyak (liter)  \\\n",
              "0      2.750231e+07                           1.00   \n",
              "1      3.000125e+07                           1.12   \n",
              "2      3.250134e+07                           0.50   \n",
              "3      3.500848e+07                           1.00   \n",
              "4      3.502246e+07                           2.00   \n",
              "...             ...                            ...   \n",
              "65063  2.364676e+11                           2.00   \n",
              "65064  2.365029e+11                           0.62   \n",
              "65065  2.365501e+11                           0.31   \n",
              "65066  2.403726e+11                           1.00   \n",
              "65067  2.670807e+11                           0.50   \n",
              "\n",
              "      Pernah Berobat Jalan 6 Bulan Terakhir?    Weighting  \n",
              "0                                      Tidak   328.766850  \n",
              "1                                      Tidak    30.502945  \n",
              "2                                      Tidak    65.848070  \n",
              "3                                      Tidak   626.282040  \n",
              "4                                         Ya  1146.070900  \n",
              "...                                      ...          ...  \n",
              "65063                                  Tidak   523.004640  \n",
              "65064                                     Ya   267.552060  \n",
              "65065                                  Tidak   212.682130  \n",
              "65066                                  Tidak   593.981260  \n",
              "65067                                     Ya   494.199860  \n",
              "\n",
              "[65068 rows x 4 columns]"
            ]
          },
          "metadata": {
            "tags": []
          },
          "execution_count": 162
        }
      ]
    },
    {
      "cell_type": "markdown",
      "metadata": {
        "id": "5804dfuVfCqi"
      },
      "source": [
        "# Jenis minyak apa yang paling banyak dikonsumsi"
      ]
    },
    {
      "cell_type": "code",
      "metadata": {
        "id": "EodswlKyfCqj",
        "outputId": "337e9101-8c0e-49cf-88ef-59b5d97ba1ab"
      },
      "source": [
        "minyak_kelapa = data[data['kode'] == 152]\n",
        "\n",
        "minyak_kelapa = minyak_kelapa.loc[:, ['urut', 'kode', 'b41k8', 'weind']]\n",
        "\n",
        "minyak_kelapa['multiply'] = minyak_kelapa['b41k8']*minyak_kelapa['weind']\n",
        "\n",
        "minyak_kelapa['multiply'].sum()"
      ],
      "execution_count": null,
      "outputs": [
        {
          "output_type": "execute_result",
          "data": {
            "text/plain": [
              "27953486.70909374"
            ]
          },
          "metadata": {
            "tags": []
          },
          "execution_count": 163
        }
      ]
    },
    {
      "cell_type": "code",
      "metadata": {
        "id": "KadsV9mWfCqj",
        "outputId": "5c730e86-bbaa-46a2-885e-14854995401e"
      },
      "source": [
        "minyak_jagung = data[data['kode'] == 153]\n",
        "\n",
        "minyak_jagung = minyak_jagung.loc[:, ['urut', 'kode', 'b41k8', 'weind']]\n",
        "\n",
        "minyak_jagung['multiply'] = minyak_jagung['b41k8']*minyak_jagung['weind']\n",
        "\n",
        "minyak_jagung['multiply'].sum()"
      ],
      "execution_count": null,
      "outputs": [
        {
          "output_type": "execute_result",
          "data": {
            "text/plain": [
              "927229.28116737"
            ]
          },
          "metadata": {
            "tags": []
          },
          "execution_count": 164
        }
      ]
    },
    {
      "cell_type": "code",
      "metadata": {
        "id": "64w06iLafCqj",
        "outputId": "8574d0d3-2cd9-481a-f7e5-137e50e7c5c7"
      },
      "source": [
        "minyak_lain = data[data['kode'] == 154]\n",
        "\n",
        "minyak_lain = minyak_lain.loc[:, ['urut', 'kode', 'b41k8', 'weind']]\n",
        "\n",
        "minyak_lain['multiply'] = minyak_lain['b41k8']*minyak_lain['weind']\n",
        "\n",
        "minyak_lain['multiply'].sum()"
      ],
      "execution_count": null,
      "outputs": [
        {
          "output_type": "execute_result",
          "data": {
            "text/plain": [
              "183108610.61106917"
            ]
          },
          "metadata": {
            "tags": []
          },
          "execution_count": 165
        }
      ]
    },
    {
      "cell_type": "code",
      "metadata": {
        "id": "t9PjcYVVfCqk"
      },
      "source": [
        "data2 = {'Jenis Minyak': ['Minyak Kelapa', 'Minyak Jagung', 'Minyak Lainnya'], \n",
        "        'Jumlah Konsumsi (liter)': [minyak_kelapa['multiply'].sum(), minyak_jagung['multiply'].sum(),minyak_lain['multiply'].sum()]\n",
        "        }"
      ],
      "execution_count": null,
      "outputs": []
    },
    {
      "cell_type": "code",
      "metadata": {
        "id": "e-aCsjITfCqk"
      },
      "source": [
        "total_konsumsi_jenis = pd.DataFrame(data2)"
      ],
      "execution_count": null,
      "outputs": []
    },
    {
      "cell_type": "code",
      "metadata": {
        "id": "kdI7aXZcfCqk",
        "outputId": "fa1d5b1a-ce78-43a6-fbbb-f1ad271df0e1"
      },
      "source": [
        "total_konsumsi_jenis"
      ],
      "execution_count": null,
      "outputs": [
        {
          "output_type": "execute_result",
          "data": {
            "text/html": [
              "<div>\n",
              "<style scoped>\n",
              "    .dataframe tbody tr th:only-of-type {\n",
              "        vertical-align: middle;\n",
              "    }\n",
              "\n",
              "    .dataframe tbody tr th {\n",
              "        vertical-align: top;\n",
              "    }\n",
              "\n",
              "    .dataframe thead th {\n",
              "        text-align: right;\n",
              "    }\n",
              "</style>\n",
              "<table border=\"1\" class=\"dataframe\">\n",
              "  <thead>\n",
              "    <tr style=\"text-align: right;\">\n",
              "      <th></th>\n",
              "      <th>Jenis Minyak</th>\n",
              "      <th>Jumlah Konsumsi (liter)</th>\n",
              "    </tr>\n",
              "  </thead>\n",
              "  <tbody>\n",
              "    <tr>\n",
              "      <th>0</th>\n",
              "      <td>Minyak Kelapa</td>\n",
              "      <td>2.795349e+07</td>\n",
              "    </tr>\n",
              "    <tr>\n",
              "      <th>1</th>\n",
              "      <td>Minyak Jagung</td>\n",
              "      <td>9.272293e+05</td>\n",
              "    </tr>\n",
              "    <tr>\n",
              "      <th>2</th>\n",
              "      <td>Minyak Lainnya</td>\n",
              "      <td>1.831086e+08</td>\n",
              "    </tr>\n",
              "  </tbody>\n",
              "</table>\n",
              "</div>"
            ],
            "text/plain": [
              "     Jenis Minyak  Jumlah Konsumsi (liter)\n",
              "0   Minyak Kelapa             2.795349e+07\n",
              "1   Minyak Jagung             9.272293e+05\n",
              "2  Minyak Lainnya             1.831086e+08"
            ]
          },
          "metadata": {
            "tags": []
          },
          "execution_count": 168
        }
      ]
    },
    {
      "cell_type": "code",
      "metadata": {
        "scrolled": true,
        "id": "YvgCH_DWfCqk",
        "outputId": "8028e195-e70c-4b77-9225-f104cf72f547"
      },
      "source": [
        "sns.barplot(x = total_konsumsi_jenis['Jenis Minyak'], y= total_konsumsi_jenis['Jumlah Konsumsi (liter)'])"
      ],
      "execution_count": null,
      "outputs": [
        {
          "output_type": "execute_result",
          "data": {
            "text/plain": [
              "<AxesSubplot:xlabel='Jenis Minyak', ylabel='Jumlah Konsumsi (liter)'>"
            ]
          },
          "metadata": {
            "tags": []
          },
          "execution_count": 169
        },
        {
          "output_type": "display_data",
          "data": {
            "image/png": "[encoded data removed]",
            "text/plain": [
              "<Figure size 432x288 with 1 Axes>"
            ]
          },
          "metadata": {
            "tags": [],
            "needs_background": "light"
          }
        }
      ]
    },
    {
      "cell_type": "markdown",
      "metadata": {
        "id": "9F3I6u1LfCql"
      },
      "source": [
        "# Konsumsi minyak perkotaan/pedesaan"
      ]
    },
    {
      "cell_type": "code",
      "metadata": {
        "id": "LCTcu8trfCql",
        "outputId": "ec38e48f-088f-4316-ca14-fa7cfb5ccc02"
      },
      "source": [
        "kotadesa = data[['urut', 'b1r5']]\n",
        "kotadesa"
      ],
      "execution_count": null,
      "outputs": [
        {
          "output_type": "execute_result",
          "data": {
            "text/html": [
              "<div>\n",
              "<style scoped>\n",
              "    .dataframe tbody tr th:only-of-type {\n",
              "        vertical-align: middle;\n",
              "    }\n",
              "\n",
              "    .dataframe tbody tr th {\n",
              "        vertical-align: top;\n",
              "    }\n",
              "\n",
              "    .dataframe thead th {\n",
              "        text-align: right;\n",
              "    }\n",
              "</style>\n",
              "<table border=\"1\" class=\"dataframe\">\n",
              "  <thead>\n",
              "    <tr style=\"text-align: right;\">\n",
              "      <th></th>\n",
              "      <th>urut</th>\n",
              "      <th>b1r5</th>\n",
              "    </tr>\n",
              "  </thead>\n",
              "  <tbody>\n",
              "    <tr>\n",
              "      <th>0</th>\n",
              "      <td>4.408589e+07</td>\n",
              "      <td>2</td>\n",
              "    </tr>\n",
              "    <tr>\n",
              "      <th>1</th>\n",
              "      <td>4.408589e+07</td>\n",
              "      <td>2</td>\n",
              "    </tr>\n",
              "    <tr>\n",
              "      <th>2</th>\n",
              "      <td>4.408589e+07</td>\n",
              "      <td>2</td>\n",
              "    </tr>\n",
              "    <tr>\n",
              "      <th>3</th>\n",
              "      <td>4.408589e+07</td>\n",
              "      <td>2</td>\n",
              "    </tr>\n",
              "    <tr>\n",
              "      <th>4</th>\n",
              "      <td>4.408589e+07</td>\n",
              "      <td>2</td>\n",
              "    </tr>\n",
              "    <tr>\n",
              "      <th>...</th>\n",
              "      <td>...</td>\n",
              "      <td>...</td>\n",
              "    </tr>\n",
              "    <tr>\n",
              "      <th>2899084</th>\n",
              "      <td>1.669035e+11</td>\n",
              "      <td>1</td>\n",
              "    </tr>\n",
              "    <tr>\n",
              "      <th>2899085</th>\n",
              "      <td>1.669035e+11</td>\n",
              "      <td>1</td>\n",
              "    </tr>\n",
              "    <tr>\n",
              "      <th>2899086</th>\n",
              "      <td>1.669035e+11</td>\n",
              "      <td>1</td>\n",
              "    </tr>\n",
              "    <tr>\n",
              "      <th>2899087</th>\n",
              "      <td>1.669035e+11</td>\n",
              "      <td>1</td>\n",
              "    </tr>\n",
              "    <tr>\n",
              "      <th>2899088</th>\n",
              "      <td>1.669035e+11</td>\n",
              "      <td>1</td>\n",
              "    </tr>\n",
              "  </tbody>\n",
              "</table>\n",
              "<p>2899089 rows × 2 columns</p>\n",
              "</div>"
            ],
            "text/plain": [
              "                 urut  b1r5\n",
              "0        4.408589e+07     2\n",
              "1        4.408589e+07     2\n",
              "2        4.408589e+07     2\n",
              "3        4.408589e+07     2\n",
              "4        4.408589e+07     2\n",
              "...               ...   ...\n",
              "2899084  1.669035e+11     1\n",
              "2899085  1.669035e+11     1\n",
              "2899086  1.669035e+11     1\n",
              "2899087  1.669035e+11     1\n",
              "2899088  1.669035e+11     1\n",
              "\n",
              "[2899089 rows x 2 columns]"
            ]
          },
          "metadata": {
            "tags": []
          },
          "execution_count": 170
        }
      ]
    },
    {
      "cell_type": "code",
      "metadata": {
        "id": "TSM5QIXLfCql"
      },
      "source": [
        "tabel_kotadesa = tabel_akhir.rename(columns={'Urut':'urut'})"
      ],
      "execution_count": null,
      "outputs": []
    },
    {
      "cell_type": "code",
      "metadata": {
        "id": "xwXeRssmfCqm"
      },
      "source": [
        "tabel_kotadesa = tabel_kotadesa.merge(kotadesa, how='left', on='urut')"
      ],
      "execution_count": null,
      "outputs": []
    },
    {
      "cell_type": "code",
      "metadata": {
        "id": "k4h-88M0fCqm",
        "outputId": "5766858e-7a24-4622-c027-e10fac34abae"
      },
      "source": [
        "tabel_kotadesa.rename(columns={'b1r5': 'Kota/Desa', 'urut':'Urut'}, inplace=True)\n",
        "tabel_kotadesa['Kota/Desa'] = tabel_kotadesa['Kota/Desa'].map({1:'Kota', 2:'Desa'})\n",
        "tabel_kotadesa.drop_duplicates(subset=['Urut'], inplace=True)\n",
        "tabel_kotadesa"
      ],
      "execution_count": null,
      "outputs": [
        {
          "output_type": "execute_result",
          "data": {
            "text/html": [
              "<div>\n",
              "<style scoped>\n",
              "    .dataframe tbody tr th:only-of-type {\n",
              "        vertical-align: middle;\n",
              "    }\n",
              "\n",
              "    .dataframe tbody tr th {\n",
              "        vertical-align: top;\n",
              "    }\n",
              "\n",
              "    .dataframe thead th {\n",
              "        text-align: right;\n",
              "    }\n",
              "</style>\n",
              "<table border=\"1\" class=\"dataframe\">\n",
              "  <thead>\n",
              "    <tr style=\"text-align: right;\">\n",
              "      <th></th>\n",
              "      <th>Urut</th>\n",
              "      <th>Total Konsumsi Minyak (liter)</th>\n",
              "      <th>Pernah Berobat Jalan 6 Bulan Terakhir?</th>\n",
              "      <th>Weighting</th>\n",
              "      <th>Kota/Desa</th>\n",
              "    </tr>\n",
              "  </thead>\n",
              "  <tbody>\n",
              "    <tr>\n",
              "      <th>0</th>\n",
              "      <td>2.750231e+07</td>\n",
              "      <td>1.00</td>\n",
              "      <td>Tidak</td>\n",
              "      <td>328.766850</td>\n",
              "      <td>Kota</td>\n",
              "    </tr>\n",
              "    <tr>\n",
              "      <th>27</th>\n",
              "      <td>3.000125e+07</td>\n",
              "      <td>1.12</td>\n",
              "      <td>Tidak</td>\n",
              "      <td>30.502945</td>\n",
              "      <td>Kota</td>\n",
              "    </tr>\n",
              "    <tr>\n",
              "      <th>49</th>\n",
              "      <td>3.250134e+07</td>\n",
              "      <td>0.50</td>\n",
              "      <td>Tidak</td>\n",
              "      <td>65.848070</td>\n",
              "      <td>Kota</td>\n",
              "    </tr>\n",
              "    <tr>\n",
              "      <th>76</th>\n",
              "      <td>3.500848e+07</td>\n",
              "      <td>1.00</td>\n",
              "      <td>Tidak</td>\n",
              "      <td>626.282040</td>\n",
              "      <td>Kota</td>\n",
              "    </tr>\n",
              "    <tr>\n",
              "      <th>118</th>\n",
              "      <td>3.502246e+07</td>\n",
              "      <td>2.00</td>\n",
              "      <td>Ya</td>\n",
              "      <td>1146.070900</td>\n",
              "      <td>Kota</td>\n",
              "    </tr>\n",
              "    <tr>\n",
              "      <th>...</th>\n",
              "      <td>...</td>\n",
              "      <td>...</td>\n",
              "      <td>...</td>\n",
              "      <td>...</td>\n",
              "      <td>...</td>\n",
              "    </tr>\n",
              "    <tr>\n",
              "      <th>2807361</th>\n",
              "      <td>2.364676e+11</td>\n",
              "      <td>2.00</td>\n",
              "      <td>Tidak</td>\n",
              "      <td>523.004640</td>\n",
              "      <td>Desa</td>\n",
              "    </tr>\n",
              "    <tr>\n",
              "      <th>2807397</th>\n",
              "      <td>2.365029e+11</td>\n",
              "      <td>0.62</td>\n",
              "      <td>Ya</td>\n",
              "      <td>267.552060</td>\n",
              "      <td>Desa</td>\n",
              "    </tr>\n",
              "    <tr>\n",
              "      <th>2807424</th>\n",
              "      <td>2.365501e+11</td>\n",
              "      <td>0.31</td>\n",
              "      <td>Tidak</td>\n",
              "      <td>212.682130</td>\n",
              "      <td>Desa</td>\n",
              "    </tr>\n",
              "    <tr>\n",
              "      <th>2807448</th>\n",
              "      <td>2.403726e+11</td>\n",
              "      <td>1.00</td>\n",
              "      <td>Tidak</td>\n",
              "      <td>593.981260</td>\n",
              "      <td>Desa</td>\n",
              "    </tr>\n",
              "    <tr>\n",
              "      <th>2807491</th>\n",
              "      <td>2.670807e+11</td>\n",
              "      <td>0.50</td>\n",
              "      <td>Ya</td>\n",
              "      <td>494.199860</td>\n",
              "      <td>Desa</td>\n",
              "    </tr>\n",
              "  </tbody>\n",
              "</table>\n",
              "<p>65068 rows × 5 columns</p>\n",
              "</div>"
            ],
            "text/plain": [
              "                 Urut  Total Konsumsi Minyak (liter)  \\\n",
              "0        2.750231e+07                           1.00   \n",
              "27       3.000125e+07                           1.12   \n",
              "49       3.250134e+07                           0.50   \n",
              "76       3.500848e+07                           1.00   \n",
              "118      3.502246e+07                           2.00   \n",
              "...               ...                            ...   \n",
              "2807361  2.364676e+11                           2.00   \n",
              "2807397  2.365029e+11                           0.62   \n",
              "2807424  2.365501e+11                           0.31   \n",
              "2807448  2.403726e+11                           1.00   \n",
              "2807491  2.670807e+11                           0.50   \n",
              "\n",
              "        Pernah Berobat Jalan 6 Bulan Terakhir?    Weighting Kota/Desa  \n",
              "0                                        Tidak   328.766850      Kota  \n",
              "27                                       Tidak    30.502945      Kota  \n",
              "49                                       Tidak    65.848070      Kota  \n",
              "76                                       Tidak   626.282040      Kota  \n",
              "118                                         Ya  1146.070900      Kota  \n",
              "...                                        ...          ...       ...  \n",
              "2807361                                  Tidak   523.004640      Desa  \n",
              "2807397                                     Ya   267.552060      Desa  \n",
              "2807424                                  Tidak   212.682130      Desa  \n",
              "2807448                                  Tidak   593.981260      Desa  \n",
              "2807491                                     Ya   494.199860      Desa  \n",
              "\n",
              "[65068 rows x 5 columns]"
            ]
          },
          "metadata": {
            "tags": []
          },
          "execution_count": 173
        }
      ]
    },
    {
      "cell_type": "code",
      "metadata": {
        "id": "X8sRsX2IfCqn"
      },
      "source": [
        "summary_konsumsi_kotadesa = tabel_kotadesa.groupby(['Kota/Desa']).mean()['Total Konsumsi Minyak (liter)']"
      ],
      "execution_count": null,
      "outputs": []
    },
    {
      "cell_type": "code",
      "metadata": {
        "id": "_ySgXYZJfCqo",
        "outputId": "727d9b72-f4a2-46ad-a61c-66f129657a38"
      },
      "source": [
        "summary_konsumsi_kotadesa.plot.bar()\n",
        "plt.ylabel('Liter')"
      ],
      "execution_count": null,
      "outputs": [
        {
          "output_type": "execute_result",
          "data": {
            "text/plain": [
              "Text(0, 0.5, 'Liter')"
            ]
          },
          "metadata": {
            "tags": []
          },
          "execution_count": 175
        },
        {
          "output_type": "display_data",
          "data": {
            "image/png": "[encoded data removed]",
            "text/plain": [
              "<Figure size 432x288 with 1 Axes>"
            ]
          },
          "metadata": {
            "tags": [],
            "needs_background": "light"
          }
        }
      ]
    },
    {
      "cell_type": "markdown",
      "metadata": {
        "id": "pAYAo8IkfCqp"
      },
      "source": [
        "# Distribusi berobat jalan kota/desa"
      ]
    },
    {
      "cell_type": "code",
      "metadata": {
        "id": "cCtWeMzgfCqp",
        "outputId": "2a62efdc-44f5-4629-c9ec-7fc2d664c165"
      },
      "source": [
        "tabel_kotadesa"
      ],
      "execution_count": null,
      "outputs": [
        {
          "output_type": "execute_result",
          "data": {
            "text/html": [
              "<div>\n",
              "<style scoped>\n",
              "    .dataframe tbody tr th:only-of-type {\n",
              "        vertical-align: middle;\n",
              "    }\n",
              "\n",
              "    .dataframe tbody tr th {\n",
              "        vertical-align: top;\n",
              "    }\n",
              "\n",
              "    .dataframe thead th {\n",
              "        text-align: right;\n",
              "    }\n",
              "</style>\n",
              "<table border=\"1\" class=\"dataframe\">\n",
              "  <thead>\n",
              "    <tr style=\"text-align: right;\">\n",
              "      <th></th>\n",
              "      <th>Urut</th>\n",
              "      <th>Total Konsumsi Minyak (liter)</th>\n",
              "      <th>Pernah Berobat Jalan 6 Bulan Terakhir?</th>\n",
              "      <th>Weighting</th>\n",
              "      <th>Kota/Desa</th>\n",
              "    </tr>\n",
              "  </thead>\n",
              "  <tbody>\n",
              "    <tr>\n",
              "      <th>0</th>\n",
              "      <td>2.750231e+07</td>\n",
              "      <td>1.00</td>\n",
              "      <td>Tidak</td>\n",
              "      <td>328.766850</td>\n",
              "      <td>Kota</td>\n",
              "    </tr>\n",
              "    <tr>\n",
              "      <th>27</th>\n",
              "      <td>3.000125e+07</td>\n",
              "      <td>1.12</td>\n",
              "      <td>Tidak</td>\n",
              "      <td>30.502945</td>\n",
              "      <td>Kota</td>\n",
              "    </tr>\n",
              "    <tr>\n",
              "      <th>49</th>\n",
              "      <td>3.250134e+07</td>\n",
              "      <td>0.50</td>\n",
              "      <td>Tidak</td>\n",
              "      <td>65.848070</td>\n",
              "      <td>Kota</td>\n",
              "    </tr>\n",
              "    <tr>\n",
              "      <th>76</th>\n",
              "      <td>3.500848e+07</td>\n",
              "      <td>1.00</td>\n",
              "      <td>Tidak</td>\n",
              "      <td>626.282040</td>\n",
              "      <td>Kota</td>\n",
              "    </tr>\n",
              "    <tr>\n",
              "      <th>118</th>\n",
              "      <td>3.502246e+07</td>\n",
              "      <td>2.00</td>\n",
              "      <td>Ya</td>\n",
              "      <td>1146.070900</td>\n",
              "      <td>Kota</td>\n",
              "    </tr>\n",
              "    <tr>\n",
              "      <th>...</th>\n",
              "      <td>...</td>\n",
              "      <td>...</td>\n",
              "      <td>...</td>\n",
              "      <td>...</td>\n",
              "      <td>...</td>\n",
              "    </tr>\n",
              "    <tr>\n",
              "      <th>2807361</th>\n",
              "      <td>2.364676e+11</td>\n",
              "      <td>2.00</td>\n",
              "      <td>Tidak</td>\n",
              "      <td>523.004640</td>\n",
              "      <td>Desa</td>\n",
              "    </tr>\n",
              "    <tr>\n",
              "      <th>2807397</th>\n",
              "      <td>2.365029e+11</td>\n",
              "      <td>0.62</td>\n",
              "      <td>Ya</td>\n",
              "      <td>267.552060</td>\n",
              "      <td>Desa</td>\n",
              "    </tr>\n",
              "    <tr>\n",
              "      <th>2807424</th>\n",
              "      <td>2.365501e+11</td>\n",
              "      <td>0.31</td>\n",
              "      <td>Tidak</td>\n",
              "      <td>212.682130</td>\n",
              "      <td>Desa</td>\n",
              "    </tr>\n",
              "    <tr>\n",
              "      <th>2807448</th>\n",
              "      <td>2.403726e+11</td>\n",
              "      <td>1.00</td>\n",
              "      <td>Tidak</td>\n",
              "      <td>593.981260</td>\n",
              "      <td>Desa</td>\n",
              "    </tr>\n",
              "    <tr>\n",
              "      <th>2807491</th>\n",
              "      <td>2.670807e+11</td>\n",
              "      <td>0.50</td>\n",
              "      <td>Ya</td>\n",
              "      <td>494.199860</td>\n",
              "      <td>Desa</td>\n",
              "    </tr>\n",
              "  </tbody>\n",
              "</table>\n",
              "<p>65068 rows × 5 columns</p>\n",
              "</div>"
            ],
            "text/plain": [
              "                 Urut  Total Konsumsi Minyak (liter)  \\\n",
              "0        2.750231e+07                           1.00   \n",
              "27       3.000125e+07                           1.12   \n",
              "49       3.250134e+07                           0.50   \n",
              "76       3.500848e+07                           1.00   \n",
              "118      3.502246e+07                           2.00   \n",
              "...               ...                            ...   \n",
              "2807361  2.364676e+11                           2.00   \n",
              "2807397  2.365029e+11                           0.62   \n",
              "2807424  2.365501e+11                           0.31   \n",
              "2807448  2.403726e+11                           1.00   \n",
              "2807491  2.670807e+11                           0.50   \n",
              "\n",
              "        Pernah Berobat Jalan 6 Bulan Terakhir?    Weighting Kota/Desa  \n",
              "0                                        Tidak   328.766850      Kota  \n",
              "27                                       Tidak    30.502945      Kota  \n",
              "49                                       Tidak    65.848070      Kota  \n",
              "76                                       Tidak   626.282040      Kota  \n",
              "118                                         Ya  1146.070900      Kota  \n",
              "...                                        ...          ...       ...  \n",
              "2807361                                  Tidak   523.004640      Desa  \n",
              "2807397                                     Ya   267.552060      Desa  \n",
              "2807424                                  Tidak   212.682130      Desa  \n",
              "2807448                                  Tidak   593.981260      Desa  \n",
              "2807491                                     Ya   494.199860      Desa  \n",
              "\n",
              "[65068 rows x 5 columns]"
            ]
          },
          "metadata": {
            "tags": []
          },
          "execution_count": 176
        }
      ]
    },
    {
      "cell_type": "code",
      "metadata": {
        "id": "8LqeZ_35fCqp",
        "outputId": "caec9084-624e-4f37-f7cd-b5a03f170ef2"
      },
      "source": [
        "persentase_berobat_kotadesa = tabel_kotadesa.groupby(['Kota/Desa', 'Pernah Berobat Jalan 6 Bulan Terakhir?']).sum()['Weighting']\n",
        "persentase_berobat_kotadesa"
      ],
      "execution_count": null,
      "outputs": [
        {
          "output_type": "execute_result",
          "data": {
            "text/plain": [
              "Kota/Desa  Pernah Berobat Jalan 6 Bulan Terakhir?\n",
              "Desa       Tidak                                     2.237007e+07\n",
              "           Ya                                        7.434030e+06\n",
              "Kota       Tidak                                     2.078987e+07\n",
              "           Ya                                        7.484022e+06\n",
              "Name: Weighting, dtype: float64"
            ]
          },
          "metadata": {
            "tags": []
          },
          "execution_count": 177
        }
      ]
    },
    {
      "cell_type": "code",
      "metadata": {
        "scrolled": false,
        "id": "f7r_Z0hEfCqq",
        "outputId": "ce4919df-f575-4ce3-9675-0e32821ddc64"
      },
      "source": [
        "persentase_berobat_kotadesa.plot.bar()\n",
        "plt.ylabel('Jumlah Penduduk (10 Juta)')"
      ],
      "execution_count": null,
      "outputs": [
        {
          "output_type": "execute_result",
          "data": {
            "text/plain": [
              "Text(0, 0.5, 'Jumlah Penduduk (10 Juta)')"
            ]
          },
          "metadata": {
            "tags": []
          },
          "execution_count": 178
        },
        {
          "output_type": "display_data",
          "data": {
            "image/png": "[encoded data removed]",
            "text/plain": [
              "<Figure size 432x288 with 1 Axes>"
            ]
          },
          "metadata": {
            "tags": [],
            "needs_background": "light"
          }
        }
      ]
    },
    {
      "cell_type": "code",
      "metadata": {
        "id": "XREncZSSfCqq",
        "outputId": "c245f783-620d-413a-8ca5-8c9f1500f3ee"
      },
      "source": [
        "persentase_berobat_desa = persentase_berobat_kotadesa['Desa']['Ya']/(persentase_berobat_kotadesa['Desa']['Ya']+persentase_berobat_kotadesa['Desa']['Tidak'])\n",
        "persentase_berobat_kota = persentase_berobat_kotadesa['Kota']['Ya']/(persentase_berobat_kotadesa['Kota']['Ya']+persentase_berobat_kotadesa['Kota']['Tidak'])\n",
        "\n",
        "persentase_berobat = pd.DataFrame({\n",
        "    'Lokasi': ['Perkotaan', 'Pedesaan'],\n",
        "    'Persentase': [persentase_berobat_kota, persentase_berobat_desa]\n",
        "})\n",
        "\n",
        "sns.barplot(x= persentase_berobat['Lokasi'], y= persentase_berobat['Persentase'])"
      ],
      "execution_count": null,
      "outputs": [
        {
          "output_type": "execute_result",
          "data": {
            "text/plain": [
              "<AxesSubplot:xlabel='Lokasi', ylabel='Persentase'>"
            ]
          },
          "metadata": {
            "tags": []
          },
          "execution_count": 179
        },
        {
          "output_type": "display_data",
          "data": {
            "image/png": "[encoded data removed]",
            "text/plain": [
              "<Figure size 432x288 with 1 Axes>"
            ]
          },
          "metadata": {
            "tags": [],
            "needs_background": "light"
          }
        }
      ]
    },
    {
      "cell_type": "markdown",
      "metadata": {
        "id": "Dv6Dy3mDfCqr"
      },
      "source": [
        "# Korelasi Konsumsi Minyak dengan Berobat Jalan"
      ]
    },
    {
      "cell_type": "code",
      "metadata": {
        "id": "XERxk85_fCqs",
        "outputId": "6d059f89-88d1-49a3-fc0e-d559477bfa8c"
      },
      "source": [
        "tabel_kotadesa.describe()"
      ],
      "execution_count": null,
      "outputs": [
        {
          "output_type": "execute_result",
          "data": {
            "text/html": [
              "<div>\n",
              "<style scoped>\n",
              "    .dataframe tbody tr th:only-of-type {\n",
              "        vertical-align: middle;\n",
              "    }\n",
              "\n",
              "    .dataframe tbody tr th {\n",
              "        vertical-align: top;\n",
              "    }\n",
              "\n",
              "    .dataframe thead th {\n",
              "        text-align: right;\n",
              "    }\n",
              "</style>\n",
              "<table border=\"1\" class=\"dataframe\">\n",
              "  <thead>\n",
              "    <tr style=\"text-align: right;\">\n",
              "      <th></th>\n",
              "      <th>Urut</th>\n",
              "      <th>Total Konsumsi Minyak (liter)</th>\n",
              "      <th>Weighting</th>\n",
              "    </tr>\n",
              "  </thead>\n",
              "  <tbody>\n",
              "    <tr>\n",
              "      <th>count</th>\n",
              "      <td>6.506800e+04</td>\n",
              "      <td>65068.000000</td>\n",
              "      <td>65068.000000</td>\n",
              "    </tr>\n",
              "    <tr>\n",
              "      <th>mean</th>\n",
              "      <td>1.358819e+10</td>\n",
              "      <td>0.845938</td>\n",
              "      <td>892.573785</td>\n",
              "    </tr>\n",
              "    <tr>\n",
              "      <th>std</th>\n",
              "      <td>2.195888e+10</td>\n",
              "      <td>0.499894</td>\n",
              "      <td>842.095610</td>\n",
              "    </tr>\n",
              "    <tr>\n",
              "      <th>min</th>\n",
              "      <td>2.750231e+07</td>\n",
              "      <td>0.020000</td>\n",
              "      <td>1.000000</td>\n",
              "    </tr>\n",
              "    <tr>\n",
              "      <th>25%</th>\n",
              "      <td>1.890417e+09</td>\n",
              "      <td>0.500000</td>\n",
              "      <td>328.938040</td>\n",
              "    </tr>\n",
              "    <tr>\n",
              "      <th>50%</th>\n",
              "      <td>5.406576e+09</td>\n",
              "      <td>0.800000</td>\n",
              "      <td>597.823550</td>\n",
              "    </tr>\n",
              "    <tr>\n",
              "      <th>75%</th>\n",
              "      <td>1.515576e+10</td>\n",
              "      <td>1.000000</td>\n",
              "      <td>1179.998700</td>\n",
              "    </tr>\n",
              "    <tr>\n",
              "      <th>max</th>\n",
              "      <td>2.670807e+11</td>\n",
              "      <td>11.200000</td>\n",
              "      <td>8614.077000</td>\n",
              "    </tr>\n",
              "  </tbody>\n",
              "</table>\n",
              "</div>"
            ],
            "text/plain": [
              "               Urut  Total Konsumsi Minyak (liter)     Weighting\n",
              "count  6.506800e+04                   65068.000000  65068.000000\n",
              "mean   1.358819e+10                       0.845938    892.573785\n",
              "std    2.195888e+10                       0.499894    842.095610\n",
              "min    2.750231e+07                       0.020000      1.000000\n",
              "25%    1.890417e+09                       0.500000    328.938040\n",
              "50%    5.406576e+09                       0.800000    597.823550\n",
              "75%    1.515576e+10                       1.000000   1179.998700\n",
              "max    2.670807e+11                      11.200000   8614.077000"
            ]
          },
          "metadata": {
            "tags": []
          },
          "execution_count": 180
        }
      ]
    },
    {
      "cell_type": "code",
      "metadata": {
        "scrolled": false,
        "id": "Zx5JyiH-fCqs",
        "outputId": "c8b17ed8-0192-4cba-a742-e58f5cc49b20"
      },
      "source": [
        "plt.figure(figsize=(15,8))\n",
        "sns.histplot(tabel_kotadesa['Total Konsumsi Minyak (liter)'], bins=20)"
      ],
      "execution_count": null,
      "outputs": [
        {
          "output_type": "execute_result",
          "data": {
            "text/plain": [
              "<AxesSubplot:xlabel='Total Konsumsi Minyak (liter)', ylabel='Count'>"
            ]
          },
          "metadata": {
            "tags": []
          },
          "execution_count": 181
        },
        {
          "output_type": "display_data",
          "data": {
            "image/png": "[encoded data removed]",
            "text/plain": [
              "<Figure size 1080x576 with 1 Axes>"
            ]
          },
          "metadata": {
            "tags": [],
            "needs_background": "light"
          }
        }
      ]
    },
    {
      "cell_type": "code",
      "metadata": {
        "scrolled": true,
        "id": "Ilpm79kxfCqt",
        "outputId": "249b452d-be41-45de-f261-f6ebf3f85b53"
      },
      "source": [
        "tabel_kotadesa['Total Konsumsi Minyak (liter)']"
      ],
      "execution_count": null,
      "outputs": [
        {
          "output_type": "execute_result",
          "data": {
            "text/plain": [
              "0          1.00\n",
              "27         1.12\n",
              "49         0.50\n",
              "76         1.00\n",
              "118        2.00\n",
              "           ... \n",
              "2807361    2.00\n",
              "2807397    0.62\n",
              "2807424    0.31\n",
              "2807448    1.00\n",
              "2807491    0.50\n",
              "Name: Total Konsumsi Minyak (liter), Length: 65068, dtype: float64"
            ]
          },
          "metadata": {
            "tags": []
          },
          "execution_count": 182
        }
      ]
    },
    {
      "cell_type": "code",
      "metadata": {
        "id": "tvpUxeH-fCqt"
      },
      "source": [
        "kuartil = pd.qcut(tabel_kotadesa['Total Konsumsi Minyak (liter)'], 20, duplicates='drop', retbins= False)"
      ],
      "execution_count": null,
      "outputs": []
    },
    {
      "cell_type": "code",
      "metadata": {
        "id": "ArOVfxPbfCqt",
        "outputId": "20de4aae-c8b6-4e44-e032-a91adbf0d9ef"
      },
      "source": [
        "kuartil"
      ],
      "execution_count": null,
      "outputs": [
        {
          "output_type": "execute_result",
          "data": {
            "text/plain": [
              "0            (0.8, 1.0]\n",
              "27           (1.0, 1.2]\n",
              "49          (0.45, 0.5]\n",
              "76           (0.8, 1.0]\n",
              "118        (1.83, 11.2]\n",
              "               ...     \n",
              "2807361    (1.83, 11.2]\n",
              "2807397     (0.6, 0.71]\n",
              "2807424     (0.3, 0.45]\n",
              "2807448      (0.8, 1.0]\n",
              "2807491     (0.45, 0.5]\n",
              "Name: Total Konsumsi Minyak (liter), Length: 65068, dtype: category\n",
              "Categories (13, interval[float64]): [(0.019, 0.25] < (0.25, 0.3] < (0.3, 0.45] < (0.45, 0.5] ... (1.0, 1.2] < (1.2, 1.4] < (1.4, 1.83] < (1.83, 11.2]]"
            ]
          },
          "metadata": {
            "tags": []
          },
          "execution_count": 184
        }
      ]
    },
    {
      "cell_type": "code",
      "metadata": {
        "id": "lHC5VQ-2fCqu",
        "outputId": "3fb61f85-5788-43f9-89b8-bf2e782fd87d"
      },
      "source": [
        "tabel_kotadesa['kuartil'] = kuartil\n",
        "tabel_kotadesa['Multiply'] = tabel_kotadesa['Total Konsumsi Minyak (liter)']*tabel_kotadesa['Weighting']\n",
        "\n",
        "tabel_kotadesa"
      ],
      "execution_count": null,
      "outputs": [
        {
          "output_type": "execute_result",
          "data": {
            "text/html": [
              "<div>\n",
              "<style scoped>\n",
              "    .dataframe tbody tr th:only-of-type {\n",
              "        vertical-align: middle;\n",
              "    }\n",
              "\n",
              "    .dataframe tbody tr th {\n",
              "        vertical-align: top;\n",
              "    }\n",
              "\n",
              "    .dataframe thead th {\n",
              "        text-align: right;\n",
              "    }\n",
              "</style>\n",
              "<table border=\"1\" class=\"dataframe\">\n",
              "  <thead>\n",
              "    <tr style=\"text-align: right;\">\n",
              "      <th></th>\n",
              "      <th>Urut</th>\n",
              "      <th>Total Konsumsi Minyak (liter)</th>\n",
              "      <th>Pernah Berobat Jalan 6 Bulan Terakhir?</th>\n",
              "      <th>Weighting</th>\n",
              "      <th>Kota/Desa</th>\n",
              "      <th>kuartil</th>\n",
              "      <th>Multiply</th>\n",
              "    </tr>\n",
              "  </thead>\n",
              "  <tbody>\n",
              "    <tr>\n",
              "      <th>0</th>\n",
              "      <td>2.750231e+07</td>\n",
              "      <td>1.00</td>\n",
              "      <td>Tidak</td>\n",
              "      <td>328.766850</td>\n",
              "      <td>Kota</td>\n",
              "      <td>(0.8, 1.0]</td>\n",
              "      <td>328.766850</td>\n",
              "    </tr>\n",
              "    <tr>\n",
              "      <th>27</th>\n",
              "      <td>3.000125e+07</td>\n",
              "      <td>1.12</td>\n",
              "      <td>Tidak</td>\n",
              "      <td>30.502945</td>\n",
              "      <td>Kota</td>\n",
              "      <td>(1.0, 1.2]</td>\n",
              "      <td>34.163298</td>\n",
              "    </tr>\n",
              "    <tr>\n",
              "      <th>49</th>\n",
              "      <td>3.250134e+07</td>\n",
              "      <td>0.50</td>\n",
              "      <td>Tidak</td>\n",
              "      <td>65.848070</td>\n",
              "      <td>Kota</td>\n",
              "      <td>(0.45, 0.5]</td>\n",
              "      <td>32.924035</td>\n",
              "    </tr>\n",
              "    <tr>\n",
              "      <th>76</th>\n",
              "      <td>3.500848e+07</td>\n",
              "      <td>1.00</td>\n",
              "      <td>Tidak</td>\n",
              "      <td>626.282040</td>\n",
              "      <td>Kota</td>\n",
              "      <td>(0.8, 1.0]</td>\n",
              "      <td>626.282040</td>\n",
              "    </tr>\n",
              "    <tr>\n",
              "      <th>118</th>\n",
              "      <td>3.502246e+07</td>\n",
              "      <td>2.00</td>\n",
              "      <td>Ya</td>\n",
              "      <td>1146.070900</td>\n",
              "      <td>Kota</td>\n",
              "      <td>(1.83, 11.2]</td>\n",
              "      <td>2292.141800</td>\n",
              "    </tr>\n",
              "    <tr>\n",
              "      <th>...</th>\n",
              "      <td>...</td>\n",
              "      <td>...</td>\n",
              "      <td>...</td>\n",
              "      <td>...</td>\n",
              "      <td>...</td>\n",
              "      <td>...</td>\n",
              "      <td>...</td>\n",
              "    </tr>\n",
              "    <tr>\n",
              "      <th>2807361</th>\n",
              "      <td>2.364676e+11</td>\n",
              "      <td>2.00</td>\n",
              "      <td>Tidak</td>\n",
              "      <td>523.004640</td>\n",
              "      <td>Desa</td>\n",
              "      <td>(1.83, 11.2]</td>\n",
              "      <td>1046.009280</td>\n",
              "    </tr>\n",
              "    <tr>\n",
              "      <th>2807397</th>\n",
              "      <td>2.365029e+11</td>\n",
              "      <td>0.62</td>\n",
              "      <td>Ya</td>\n",
              "      <td>267.552060</td>\n",
              "      <td>Desa</td>\n",
              "      <td>(0.6, 0.71]</td>\n",
              "      <td>165.882277</td>\n",
              "    </tr>\n",
              "    <tr>\n",
              "      <th>2807424</th>\n",
              "      <td>2.365501e+11</td>\n",
              "      <td>0.31</td>\n",
              "      <td>Tidak</td>\n",
              "      <td>212.682130</td>\n",
              "      <td>Desa</td>\n",
              "      <td>(0.3, 0.45]</td>\n",
              "      <td>65.931460</td>\n",
              "    </tr>\n",
              "    <tr>\n",
              "      <th>2807448</th>\n",
              "      <td>2.403726e+11</td>\n",
              "      <td>1.00</td>\n",
              "      <td>Tidak</td>\n",
              "      <td>593.981260</td>\n",
              "      <td>Desa</td>\n",
              "      <td>(0.8, 1.0]</td>\n",
              "      <td>593.981260</td>\n",
              "    </tr>\n",
              "    <tr>\n",
              "      <th>2807491</th>\n",
              "      <td>2.670807e+11</td>\n",
              "      <td>0.50</td>\n",
              "      <td>Ya</td>\n",
              "      <td>494.199860</td>\n",
              "      <td>Desa</td>\n",
              "      <td>(0.45, 0.5]</td>\n",
              "      <td>247.099930</td>\n",
              "    </tr>\n",
              "  </tbody>\n",
              "</table>\n",
              "<p>65068 rows × 7 columns</p>\n",
              "</div>"
            ],
            "text/plain": [
              "                 Urut  Total Konsumsi Minyak (liter)  \\\n",
              "0        2.750231e+07                           1.00   \n",
              "27       3.000125e+07                           1.12   \n",
              "49       3.250134e+07                           0.50   \n",
              "76       3.500848e+07                           1.00   \n",
              "118      3.502246e+07                           2.00   \n",
              "...               ...                            ...   \n",
              "2807361  2.364676e+11                           2.00   \n",
              "2807397  2.365029e+11                           0.62   \n",
              "2807424  2.365501e+11                           0.31   \n",
              "2807448  2.403726e+11                           1.00   \n",
              "2807491  2.670807e+11                           0.50   \n",
              "\n",
              "        Pernah Berobat Jalan 6 Bulan Terakhir?    Weighting Kota/Desa  \\\n",
              "0                                        Tidak   328.766850      Kota   \n",
              "27                                       Tidak    30.502945      Kota   \n",
              "49                                       Tidak    65.848070      Kota   \n",
              "76                                       Tidak   626.282040      Kota   \n",
              "118                                         Ya  1146.070900      Kota   \n",
              "...                                        ...          ...       ...   \n",
              "2807361                                  Tidak   523.004640      Desa   \n",
              "2807397                                     Ya   267.552060      Desa   \n",
              "2807424                                  Tidak   212.682130      Desa   \n",
              "2807448                                  Tidak   593.981260      Desa   \n",
              "2807491                                     Ya   494.199860      Desa   \n",
              "\n",
              "              kuartil     Multiply  \n",
              "0          (0.8, 1.0]   328.766850  \n",
              "27         (1.0, 1.2]    34.163298  \n",
              "49        (0.45, 0.5]    32.924035  \n",
              "76         (0.8, 1.0]   626.282040  \n",
              "118      (1.83, 11.2]  2292.141800  \n",
              "...               ...          ...  \n",
              "2807361  (1.83, 11.2]  1046.009280  \n",
              "2807397   (0.6, 0.71]   165.882277  \n",
              "2807424   (0.3, 0.45]    65.931460  \n",
              "2807448    (0.8, 1.0]   593.981260  \n",
              "2807491   (0.45, 0.5]   247.099930  \n",
              "\n",
              "[65068 rows x 7 columns]"
            ]
          },
          "metadata": {
            "tags": []
          },
          "execution_count": 185
        }
      ]
    },
    {
      "cell_type": "code",
      "metadata": {
        "id": "weknIgCefCqu",
        "outputId": "fd3c9780-f655-47e4-caf1-de8cbce619ef"
      },
      "source": [
        "tabel_kuartil = tabel_kotadesa.groupby(['kuartil', 'Pernah Berobat Jalan 6 Bulan Terakhir?']).sum()['Multiply']\n",
        "tabel_kuartil"
      ],
      "execution_count": null,
      "outputs": [
        {
          "output_type": "execute_result",
          "data": {
            "text/plain": [
              "kuartil        Pernah Berobat Jalan 6 Bulan Terakhir?\n",
              "(0.019, 0.25]  Tidak                                     7.874346e+05\n",
              "               Ya                                        3.149528e+05\n",
              "(0.25, 0.3]    Tidak                                     2.623513e+05\n",
              "               Ya                                        1.149485e+05\n",
              "(0.3, 0.45]    Tidak                                     6.878437e+05\n",
              "               Ya                                        2.653095e+05\n",
              "(0.45, 0.5]    Tidak                                     4.532125e+06\n",
              "               Ya                                        1.499200e+06\n",
              "(0.5, 0.53]    Tidak                                     5.384611e+04\n",
              "               Ya                                        1.756477e+04\n",
              "(0.53, 0.6]    Tidak                                     1.189389e+06\n",
              "               Ya                                        4.666814e+05\n",
              "(0.6, 0.71]    Tidak                                     1.249107e+06\n",
              "               Ya                                        4.869013e+05\n",
              "(0.71, 0.8]    Tidak                                     2.370603e+06\n",
              "               Ya                                        9.078232e+05\n",
              "(0.8, 1.0]     Tidak                                     1.328718e+07\n",
              "               Ya                                        3.894029e+06\n",
              "(1.0, 1.2]     Tidak                                     2.233852e+06\n",
              "               Ya                                        8.346040e+05\n",
              "(1.2, 1.4]     Tidak                                     1.888689e+06\n",
              "               Ya                                        7.535580e+05\n",
              "(1.4, 1.83]    Tidak                                     3.281368e+06\n",
              "               Ya                                        1.222091e+06\n",
              "(1.83, 11.2]   Tidak                                     4.470241e+06\n",
              "               Ya                                        1.592451e+06\n",
              "Name: Multiply, dtype: float64"
            ]
          },
          "metadata": {
            "tags": []
          },
          "execution_count": 186
        }
      ]
    },
    {
      "cell_type": "code",
      "metadata": {
        "id": "79ZJKzL8fCqv"
      },
      "source": [
        "Quartil= []\n",
        "persentase_berobat = []\n",
        "\n",
        "for K in range(0,len(tabel_kuartil.index)):\n",
        "    Quartil.append(str(tabel_kuartil.index[K][0])[1:-1])\n",
        "    persentase_berobat.append(tabel_kuartil[tabel_kuartil.index[K][0]][1]/(tabel_kuartil[tabel_kuartil.index[K][0]][1] + tabel_kuartil[tabel_kuartil.index[K][0]][0]))\n"
      ],
      "execution_count": null,
      "outputs": []
    },
    {
      "cell_type": "code",
      "metadata": {
        "id": "bXsDecdUfCqv"
      },
      "source": [
        "Quartil = list(dict.fromkeys(Quartil))\n",
        "persentase_berobat = list(dict.fromkeys(persentase_berobat))"
      ],
      "execution_count": null,
      "outputs": []
    },
    {
      "cell_type": "code",
      "metadata": {
        "id": "njBxpj6ZfCqv",
        "outputId": "128489f4-54fc-4007-c2d2-854be040d2d9"
      },
      "source": [
        "plt.figure(figsize=[15,8])\n",
        "sns.scatterplot(x = Quartil, y = persentase_berobat)\n",
        "plt.xlabel('Konsumsi Minyak (liter)')\n",
        "plt.ylabel('Persentase Rawat Jalan')\n",
        "plt.show()"
      ],
      "execution_count": null,
      "outputs": [
        {
          "output_type": "display_data",
          "data": {
            "image/png": "[encoded data removed]",
            "text/plain": [
              "<Figure size 1080x576 with 1 Axes>"
            ]
          },
          "metadata": {
            "tags": [],
            "needs_background": "light"
          }
        }
      ]
    },
    {
      "cell_type": "markdown",
      "metadata": {
        "id": "CGHqIy0ffCqw"
      },
      "source": [
        "# Korelasi Jumlah Konsumsi Minyak Per Jenis Dengan Rawat Jalan"
      ]
    },
    {
      "cell_type": "markdown",
      "metadata": {
        "id": "mRajuIWzfCqw"
      },
      "source": [
        "### Minyak Kelapa"
      ]
    },
    {
      "cell_type": "code",
      "metadata": {
        "id": "88fTtl7cfCqw",
        "outputId": "bd7c79bf-4f25-41d3-9ba8-e16f219fc9c8"
      },
      "source": [
        "tabel_kelapa = minyak_kelapa.merge(sakit_6, how='left', on='urut')\n",
        "tabel_kelapa.drop(['weind_y'], axis=1, inplace=True)\n",
        "tabel_kelapa.rename(columns={'weind_x': 'weind'}, inplace=True)\n",
        "tabel_kelapa['b5r7'] = tabel_kelapa['b5r7'].map({1: 'Ya', 2: 'Tidak'})\n",
        "tabel_kelapa"
      ],
      "execution_count": null,
      "outputs": [
        {
          "output_type": "execute_result",
          "data": {
            "text/html": [
              "<div>\n",
              "<style scoped>\n",
              "    .dataframe tbody tr th:only-of-type {\n",
              "        vertical-align: middle;\n",
              "    }\n",
              "\n",
              "    .dataframe tbody tr th {\n",
              "        vertical-align: top;\n",
              "    }\n",
              "\n",
              "    .dataframe thead th {\n",
              "        text-align: right;\n",
              "    }\n",
              "</style>\n",
              "<table border=\"1\" class=\"dataframe\">\n",
              "  <thead>\n",
              "    <tr style=\"text-align: right;\">\n",
              "      <th></th>\n",
              "      <th>urut</th>\n",
              "      <th>kode</th>\n",
              "      <th>b41k8</th>\n",
              "      <th>weind</th>\n",
              "      <th>multiply</th>\n",
              "      <th>b5r7</th>\n",
              "    </tr>\n",
              "  </thead>\n",
              "  <tbody>\n",
              "    <tr>\n",
              "      <th>0</th>\n",
              "      <td>4.401331e+07</td>\n",
              "      <td>152</td>\n",
              "      <td>0.50</td>\n",
              "      <td>956.882750</td>\n",
              "      <td>478.441375</td>\n",
              "      <td>Tidak</td>\n",
              "    </tr>\n",
              "    <tr>\n",
              "      <th>1</th>\n",
              "      <td>8.802662e+07</td>\n",
              "      <td>152</td>\n",
              "      <td>1.00</td>\n",
              "      <td>120.211975</td>\n",
              "      <td>120.211975</td>\n",
              "      <td>Tidak</td>\n",
              "    </tr>\n",
              "    <tr>\n",
              "      <th>2</th>\n",
              "      <td>1.320399e+08</td>\n",
              "      <td>152</td>\n",
              "      <td>1.00</td>\n",
              "      <td>766.422800</td>\n",
              "      <td>766.422800</td>\n",
              "      <td>Tidak</td>\n",
              "    </tr>\n",
              "    <tr>\n",
              "      <th>3</th>\n",
              "      <td>1.760532e+08</td>\n",
              "      <td>152</td>\n",
              "      <td>1.00</td>\n",
              "      <td>115.236570</td>\n",
              "      <td>115.236570</td>\n",
              "      <td>Tidak</td>\n",
              "    </tr>\n",
              "    <tr>\n",
              "      <th>4</th>\n",
              "      <td>2.200666e+08</td>\n",
              "      <td>152</td>\n",
              "      <td>0.50</td>\n",
              "      <td>985.166140</td>\n",
              "      <td>492.583070</td>\n",
              "      <td>Tidak</td>\n",
              "    </tr>\n",
              "    <tr>\n",
              "      <th>...</th>\n",
              "      <td>...</td>\n",
              "      <td>...</td>\n",
              "      <td>...</td>\n",
              "      <td>...</td>\n",
              "      <td>...</td>\n",
              "      <td>...</td>\n",
              "    </tr>\n",
              "    <tr>\n",
              "      <th>11834</th>\n",
              "      <td>5.008513e+10</td>\n",
              "      <td>152</td>\n",
              "      <td>1.00</td>\n",
              "      <td>653.155200</td>\n",
              "      <td>653.155200</td>\n",
              "      <td>Tidak</td>\n",
              "    </tr>\n",
              "    <tr>\n",
              "      <th>11835</th>\n",
              "      <td>1.168653e+11</td>\n",
              "      <td>152</td>\n",
              "      <td>1.00</td>\n",
              "      <td>3029.209000</td>\n",
              "      <td>3029.209000</td>\n",
              "      <td>Tidak</td>\n",
              "    </tr>\n",
              "    <tr>\n",
              "      <th>11836</th>\n",
              "      <td>1.502554e+11</td>\n",
              "      <td>152</td>\n",
              "      <td>0.50</td>\n",
              "      <td>945.510800</td>\n",
              "      <td>472.755400</td>\n",
              "      <td>Tidak</td>\n",
              "    </tr>\n",
              "    <tr>\n",
              "      <th>11837</th>\n",
              "      <td>1.670369e+10</td>\n",
              "      <td>152</td>\n",
              "      <td>1.00</td>\n",
              "      <td>6911.852500</td>\n",
              "      <td>6911.852500</td>\n",
              "      <td>Tidak</td>\n",
              "    </tr>\n",
              "    <tr>\n",
              "      <th>11838</th>\n",
              "      <td>8.351847e+10</td>\n",
              "      <td>152</td>\n",
              "      <td>1.75</td>\n",
              "      <td>4011.530000</td>\n",
              "      <td>7020.177500</td>\n",
              "      <td>Tidak</td>\n",
              "    </tr>\n",
              "  </tbody>\n",
              "</table>\n",
              "<p>11839 rows × 6 columns</p>\n",
              "</div>"
            ],
            "text/plain": [
              "               urut  kode  b41k8        weind     multiply   b5r7\n",
              "0      4.401331e+07   152   0.50   956.882750   478.441375  Tidak\n",
              "1      8.802662e+07   152   1.00   120.211975   120.211975  Tidak\n",
              "2      1.320399e+08   152   1.00   766.422800   766.422800  Tidak\n",
              "3      1.760532e+08   152   1.00   115.236570   115.236570  Tidak\n",
              "4      2.200666e+08   152   0.50   985.166140   492.583070  Tidak\n",
              "...             ...   ...    ...          ...          ...    ...\n",
              "11834  5.008513e+10   152   1.00   653.155200   653.155200  Tidak\n",
              "11835  1.168653e+11   152   1.00  3029.209000  3029.209000  Tidak\n",
              "11836  1.502554e+11   152   0.50   945.510800   472.755400  Tidak\n",
              "11837  1.670369e+10   152   1.00  6911.852500  6911.852500  Tidak\n",
              "11838  8.351847e+10   152   1.75  4011.530000  7020.177500  Tidak\n",
              "\n",
              "[11839 rows x 6 columns]"
            ]
          },
          "metadata": {
            "tags": []
          },
          "execution_count": 190
        }
      ]
    },
    {
      "cell_type": "code",
      "metadata": {
        "id": "UGaoH0UafCqx",
        "outputId": "57e96213-001c-4a1c-a1ac-3f24664eb245"
      },
      "source": [
        "kuartil_kelapa= pd.qcut(tabel_kelapa['b41k8'], 20, duplicates='drop', retbins= False)\n",
        "tabel_kelapa['kuartil'] = kuartil_kelapa\n",
        "tabel_kuartil_kelapa = tabel_kelapa.groupby(['kuartil', 'b5r7']).sum()['multiply']\n",
        "tabel_kuartil_kelapa"
      ],
      "execution_count": null,
      "outputs": [
        {
          "output_type": "execute_result",
          "data": {
            "text/plain": [
              "kuartil        b5r7 \n",
              "(0.019, 0.25]  Tidak    3.184834e+05\n",
              "               Ya       9.175572e+04\n",
              "(0.25, 0.3]    Tidak    1.304353e+05\n",
              "               Ya       3.652949e+04\n",
              "(0.3, 0.4]     Tidak    3.039222e+05\n",
              "               Ya       8.782442e+04\n",
              "(0.4, 0.5]     Tidak    2.324367e+06\n",
              "               Ya       5.740674e+05\n",
              "(0.5, 0.52]    Tidak    2.986938e+04\n",
              "               Ya       7.439936e+03\n",
              "(0.52, 0.6]    Tidak    5.514703e+05\n",
              "               Ya       1.653622e+05\n",
              "(0.6, 0.63]    Tidak    4.907525e+05\n",
              "               Ya       1.649002e+05\n",
              "(0.63, 0.75]   Tidak    1.194715e+06\n",
              "               Ya       3.917057e+05\n",
              "(0.75, 0.8]    Tidak    5.743483e+05\n",
              "               Ya       2.101414e+05\n",
              "(0.8, 1.0]     Tidak    8.319258e+06\n",
              "               Ya       1.892094e+06\n",
              "(1.0, 1.08]    Tidak    9.408557e+04\n",
              "               Ya       3.807615e+04\n",
              "(1.08, 1.25]   Tidak    1.696518e+06\n",
              "               Ya       6.446062e+05\n",
              "(1.25, 1.6]    Tidak    1.917767e+06\n",
              "               Ya       6.714157e+05\n",
              "(1.6, 6.0]     Tidak    3.950621e+06\n",
              "               Ya       1.080956e+06\n",
              "Name: multiply, dtype: float64"
            ]
          },
          "metadata": {
            "tags": []
          },
          "execution_count": 191
        }
      ]
    },
    {
      "cell_type": "code",
      "metadata": {
        "id": "J5yd-Zp2fCqx"
      },
      "source": [
        "Quartil_kelapa= []\n",
        "persentase_berobat_kelapa = []\n",
        "\n",
        "for K in range(0,len(tabel_kuartil_kelapa.index)):\n",
        "    Quartil_kelapa.append(str(tabel_kuartil_kelapa.index[K][0])[1:-1])\n",
        "    persentase_berobat_kelapa.append(tabel_kuartil_kelapa[tabel_kuartil_kelapa.index[K][0]][1]/(tabel_kuartil_kelapa[tabel_kuartil_kelapa.index[K][0]][1] + tabel_kuartil_kelapa[tabel_kuartil_kelapa.index[K][0]][0]))\n",
        "\n",
        "Quartil_kelapa = list(dict.fromkeys(Quartil_kelapa))\n",
        "persentase_berobat_kelapa = list(dict.fromkeys(persentase_berobat_kelapa))"
      ],
      "execution_count": null,
      "outputs": []
    },
    {
      "cell_type": "code",
      "metadata": {
        "id": "5jZxLdJFfCqx",
        "outputId": "dbf4fb16-bc27-4b0e-cf2d-72a960532e2f"
      },
      "source": [
        "plt.figure(figsize=[10,6])\n",
        "sns.scatterplot(x = Quartil_kelapa, y = persentase_berobat_kelapa)\n",
        "plt.xlabel('Konsumsi Minyak Kelapa (liter)')\n",
        "plt.ylabel('Persentase Rawat Jalan')\n",
        "plt.xticks(rotation = 90)\n",
        "plt.title('Konsumsi Minyak Kelapa vs Persentase Rawat Jalan Dalam 6 Bulan Terakhir')\n",
        "plt.show()"
      ],
      "execution_count": null,
      "outputs": [
        {
          "output_type": "display_data",
          "data": {
            "image/png": "[encoded data removed]",
            "text/plain": [
              "<Figure size 720x432 with 1 Axes>"
            ]
          },
          "metadata": {
            "tags": [],
            "needs_background": "light"
          }
        }
      ]
    },
    {
      "cell_type": "markdown",
      "metadata": {
        "id": "6sETNlSOfCqy"
      },
      "source": [
        "### Minyak Jagung"
      ]
    },
    {
      "cell_type": "code",
      "metadata": {
        "id": "Ve2frZcwfCqy",
        "outputId": "2d971e50-8b18-4e24-9323-75cc7e5df16b"
      },
      "source": [
        "tabel_jagung = minyak_jagung.merge(sakit_6, how='left', on='urut')\n",
        "tabel_jagung.drop(['weind_y'], axis=1, inplace=True)\n",
        "tabel_jagung.rename(columns={'weind_x': 'weind'}, inplace=True)\n",
        "tabel_jagung['b5r7'] = tabel_jagung['b5r7'].map({1: 'Ya', 2: 'Tidak'})\n",
        "tabel_jagung"
      ],
      "execution_count": null,
      "outputs": [
        {
          "output_type": "execute_result",
          "data": {
            "text/html": [
              "<div>\n",
              "<style scoped>\n",
              "    .dataframe tbody tr th:only-of-type {\n",
              "        vertical-align: middle;\n",
              "    }\n",
              "\n",
              "    .dataframe tbody tr th {\n",
              "        vertical-align: top;\n",
              "    }\n",
              "\n",
              "    .dataframe thead th {\n",
              "        text-align: right;\n",
              "    }\n",
              "</style>\n",
              "<table border=\"1\" class=\"dataframe\">\n",
              "  <thead>\n",
              "    <tr style=\"text-align: right;\">\n",
              "      <th></th>\n",
              "      <th>urut</th>\n",
              "      <th>kode</th>\n",
              "      <th>b41k8</th>\n",
              "      <th>weind</th>\n",
              "      <th>multiply</th>\n",
              "      <th>b5r7</th>\n",
              "    </tr>\n",
              "  </thead>\n",
              "  <tbody>\n",
              "    <tr>\n",
              "      <th>0</th>\n",
              "      <td>4.405282e+08</td>\n",
              "      <td>153</td>\n",
              "      <td>1.0</td>\n",
              "      <td>1442.20390</td>\n",
              "      <td>1442.203900</td>\n",
              "      <td>Ya</td>\n",
              "    </tr>\n",
              "    <tr>\n",
              "      <th>1</th>\n",
              "      <td>1.061071e+09</td>\n",
              "      <td>153</td>\n",
              "      <td>1.0</td>\n",
              "      <td>3391.73000</td>\n",
              "      <td>3391.730000</td>\n",
              "      <td>Tidak</td>\n",
              "    </tr>\n",
              "    <tr>\n",
              "      <th>2</th>\n",
              "      <td>6.618820e+08</td>\n",
              "      <td>153</td>\n",
              "      <td>1.0</td>\n",
              "      <td>1754.09100</td>\n",
              "      <td>1754.091000</td>\n",
              "      <td>Ya</td>\n",
              "    </tr>\n",
              "    <tr>\n",
              "      <th>3</th>\n",
              "      <td>1.323764e+09</td>\n",
              "      <td>153</td>\n",
              "      <td>1.0</td>\n",
              "      <td>2512.07980</td>\n",
              "      <td>2512.079800</td>\n",
              "      <td>Tidak</td>\n",
              "    </tr>\n",
              "    <tr>\n",
              "      <th>4</th>\n",
              "      <td>7.054798e+08</td>\n",
              "      <td>153</td>\n",
              "      <td>0.6</td>\n",
              "      <td>738.86206</td>\n",
              "      <td>443.317236</td>\n",
              "      <td>Tidak</td>\n",
              "    </tr>\n",
              "    <tr>\n",
              "      <th>...</th>\n",
              "      <td>...</td>\n",
              "      <td>...</td>\n",
              "      <td>...</td>\n",
              "      <td>...</td>\n",
              "      <td>...</td>\n",
              "      <td>...</td>\n",
              "    </tr>\n",
              "    <tr>\n",
              "      <th>304</th>\n",
              "      <td>9.031697e+09</td>\n",
              "      <td>153</td>\n",
              "      <td>0.7</td>\n",
              "      <td>3510.18650</td>\n",
              "      <td>2457.130550</td>\n",
              "      <td>Tidak</td>\n",
              "    </tr>\n",
              "    <tr>\n",
              "      <th>305</th>\n",
              "      <td>2.257445e+10</td>\n",
              "      <td>153</td>\n",
              "      <td>1.0</td>\n",
              "      <td>839.45660</td>\n",
              "      <td>839.456600</td>\n",
              "      <td>Tidak</td>\n",
              "    </tr>\n",
              "    <tr>\n",
              "      <th>306</th>\n",
              "      <td>7.933510e+10</td>\n",
              "      <td>153</td>\n",
              "      <td>1.0</td>\n",
              "      <td>67.10514</td>\n",
              "      <td>67.105140</td>\n",
              "      <td>Tidak</td>\n",
              "    </tr>\n",
              "    <tr>\n",
              "      <th>307</th>\n",
              "      <td>3.849780e+10</td>\n",
              "      <td>153</td>\n",
              "      <td>0.3</td>\n",
              "      <td>1182.20520</td>\n",
              "      <td>354.661560</td>\n",
              "      <td>Ya</td>\n",
              "    </tr>\n",
              "    <tr>\n",
              "      <th>308</th>\n",
              "      <td>1.278978e+10</td>\n",
              "      <td>153</td>\n",
              "      <td>2.0</td>\n",
              "      <td>2674.41700</td>\n",
              "      <td>5348.834000</td>\n",
              "      <td>Tidak</td>\n",
              "    </tr>\n",
              "  </tbody>\n",
              "</table>\n",
              "<p>309 rows × 6 columns</p>\n",
              "</div>"
            ],
            "text/plain": [
              "             urut  kode  b41k8       weind     multiply   b5r7\n",
              "0    4.405282e+08   153    1.0  1442.20390  1442.203900     Ya\n",
              "1    1.061071e+09   153    1.0  3391.73000  3391.730000  Tidak\n",
              "2    6.618820e+08   153    1.0  1754.09100  1754.091000     Ya\n",
              "3    1.323764e+09   153    1.0  2512.07980  2512.079800  Tidak\n",
              "4    7.054798e+08   153    0.6   738.86206   443.317236  Tidak\n",
              "..            ...   ...    ...         ...          ...    ...\n",
              "304  9.031697e+09   153    0.7  3510.18650  2457.130550  Tidak\n",
              "305  2.257445e+10   153    1.0   839.45660   839.456600  Tidak\n",
              "306  7.933510e+10   153    1.0    67.10514    67.105140  Tidak\n",
              "307  3.849780e+10   153    0.3  1182.20520   354.661560     Ya\n",
              "308  1.278978e+10   153    2.0  2674.41700  5348.834000  Tidak\n",
              "\n",
              "[309 rows x 6 columns]"
            ]
          },
          "metadata": {
            "tags": []
          },
          "execution_count": 194
        }
      ]
    },
    {
      "cell_type": "code",
      "metadata": {
        "id": "adjfUMMZfCqy",
        "outputId": "4384c696-b322-4025-fd1c-4d3a1c6f5dbb"
      },
      "source": [
        "kuartil_jagung= pd.qcut(tabel_jagung['b41k8'], 20, duplicates='drop', retbins= False)\n",
        "tabel_jagung['kuartil'] = kuartil_jagung\n",
        "tabel_kuartil_jagung = tabel_jagung.groupby(['kuartil', 'b5r7']).sum()['multiply']\n",
        "tabel_kuartil_jagung"
      ],
      "execution_count": null,
      "outputs": [
        {
          "output_type": "execute_result",
          "data": {
            "text/plain": [
              "kuartil         b5r7 \n",
              "(0.099, 0.25]   Tidak      8141.730167\n",
              "                Ya         6241.353735\n",
              "(0.25, 0.3]     Tidak      1800.321453\n",
              "                Ya         5759.302641\n",
              "(0.3, 0.458]    Tidak     13513.601955\n",
              "                Ya         4486.680052\n",
              "(0.458, 0.5]    Tidak     54905.137715\n",
              "                Ya        22431.721382\n",
              "(0.5, 0.6]      Tidak     18926.847681\n",
              "                Ya        14557.022316\n",
              "(0.6, 0.7]      Tidak     16123.905152\n",
              "                Ya        12767.691696\n",
              "(0.7, 0.8]      Tidak     38467.033570\n",
              "                Ya        10485.602805\n",
              "(0.8, 1.0]      Tidak    200334.372425\n",
              "                Ya        83967.163390\n",
              "(1.0, 1.2]      Tidak     49031.402628\n",
              "                Ya        13199.368360\n",
              "(1.2, 1.448]    Tidak     24012.981750\n",
              "                Ya         4854.497329\n",
              "(1.448, 1.552]  Tidak     79198.456367\n",
              "                Ya         3387.244971\n",
              "(1.552, 2.0]    Tidak    128569.481353\n",
              "                Ya        56778.386198\n",
              "(2.0, 5.5]      Tidak     53045.839327\n",
              "                Ya         2242.134750\n",
              "Name: multiply, dtype: float64"
            ]
          },
          "metadata": {
            "tags": []
          },
          "execution_count": 195
        }
      ]
    },
    {
      "cell_type": "code",
      "metadata": {
        "id": "UB36fWrffCqy"
      },
      "source": [
        "Quartil_jagung= []\n",
        "persentase_berobat_jagung = []\n",
        "\n",
        "for K in range(0,len(tabel_kuartil_jagung.index)):\n",
        "    Quartil_jagung.append(str(tabel_kuartil_jagung.index[K][0])[1:-1])\n",
        "    persentase_berobat_jagung.append(tabel_kuartil_jagung[tabel_kuartil_jagung.index[K][0]][1]/(tabel_kuartil_jagung[tabel_kuartil_jagung.index[K][0]][1] + tabel_kuartil_jagung[tabel_kuartil_jagung.index[K][0]][0]))\n",
        "\n",
        "Quartil_jagung = list(dict.fromkeys(Quartil_jagung))\n",
        "persentase_berobat_jagung = list(dict.fromkeys(persentase_berobat_jagung))"
      ],
      "execution_count": null,
      "outputs": []
    },
    {
      "cell_type": "code",
      "metadata": {
        "scrolled": false,
        "id": "DO--rj_yfCqz",
        "outputId": "75102b41-e52d-4fd1-bf42-b42d4ff54ea2"
      },
      "source": [
        "plt.figure(figsize=[10,6])\n",
        "sns.scatterplot(x = Quartil_jagung, y = persentase_berobat_jagung)\n",
        "plt.xlabel('Konsumsi Minyak Jagung (liter)')\n",
        "plt.ylabel('Persentase Rawat Jalan')\n",
        "plt.xticks(rotation = 90)\n",
        "plt.title('Konsumsi Minyak Jagung vs Persentase Rawat Jalan Dalam 6 Bulan Terakhir')\n",
        "plt.show()"
      ],
      "execution_count": null,
      "outputs": [
        {
          "output_type": "display_data",
          "data": {
            "image/png": "[encoded data removed]",
            "text/plain": [
              "<Figure size 720x432 with 1 Axes>"
            ]
          },
          "metadata": {
            "tags": [],
            "needs_background": "light"
          }
        }
      ]
    },
    {
      "cell_type": "markdown",
      "metadata": {
        "id": "V8JhBzXNfCqz"
      },
      "source": [
        "### Minyak Lain"
      ]
    },
    {
      "cell_type": "code",
      "metadata": {
        "id": "teaibE4ufCq0",
        "outputId": "d04d01dc-ab30-43d5-b8ed-a414db5a2419"
      },
      "source": [
        "tabel_lain = minyak_lain.merge(sakit_6, how='left', on='urut')\n",
        "tabel_lain.drop(['weind_y'], axis=1, inplace=True)\n",
        "tabel_lain.rename(columns={'weind_x': 'weind'}, inplace=True)\n",
        "tabel_lain['b5r7'] = tabel_lain['b5r7'].map({1: 'Ya', 2: 'Tidak'})\n",
        "tabel_lain"
      ],
      "execution_count": null,
      "outputs": [
        {
          "output_type": "execute_result",
          "data": {
            "text/html": [
              "<div>\n",
              "<style scoped>\n",
              "    .dataframe tbody tr th:only-of-type {\n",
              "        vertical-align: middle;\n",
              "    }\n",
              "\n",
              "    .dataframe tbody tr th {\n",
              "        vertical-align: top;\n",
              "    }\n",
              "\n",
              "    .dataframe thead th {\n",
              "        text-align: right;\n",
              "    }\n",
              "</style>\n",
              "<table border=\"1\" class=\"dataframe\">\n",
              "  <thead>\n",
              "    <tr style=\"text-align: right;\">\n",
              "      <th></th>\n",
              "      <th>urut</th>\n",
              "      <th>kode</th>\n",
              "      <th>b41k8</th>\n",
              "      <th>weind</th>\n",
              "      <th>multiply</th>\n",
              "      <th>b5r7</th>\n",
              "    </tr>\n",
              "  </thead>\n",
              "  <tbody>\n",
              "    <tr>\n",
              "      <th>0</th>\n",
              "      <td>4.408589e+07</td>\n",
              "      <td>154</td>\n",
              "      <td>0.60</td>\n",
              "      <td>802.58200</td>\n",
              "      <td>481.549200</td>\n",
              "      <td>Tidak</td>\n",
              "    </tr>\n",
              "    <tr>\n",
              "      <th>1</th>\n",
              "      <td>8.817178e+07</td>\n",
              "      <td>154</td>\n",
              "      <td>1.00</td>\n",
              "      <td>583.20260</td>\n",
              "      <td>583.202600</td>\n",
              "      <td>Tidak</td>\n",
              "    </tr>\n",
              "    <tr>\n",
              "      <th>2</th>\n",
              "      <td>1.322577e+08</td>\n",
              "      <td>154</td>\n",
              "      <td>0.25</td>\n",
              "      <td>133.75847</td>\n",
              "      <td>33.439617</td>\n",
              "      <td>Tidak</td>\n",
              "    </tr>\n",
              "    <tr>\n",
              "      <th>3</th>\n",
              "      <td>1.763436e+08</td>\n",
              "      <td>154</td>\n",
              "      <td>0.50</td>\n",
              "      <td>120.22718</td>\n",
              "      <td>60.113590</td>\n",
              "      <td>Tidak</td>\n",
              "    </tr>\n",
              "    <tr>\n",
              "      <th>4</th>\n",
              "      <td>2.204294e+08</td>\n",
              "      <td>154</td>\n",
              "      <td>1.20</td>\n",
              "      <td>1498.96610</td>\n",
              "      <td>1798.759320</td>\n",
              "      <td>Tidak</td>\n",
              "    </tr>\n",
              "    <tr>\n",
              "      <th>...</th>\n",
              "      <td>...</td>\n",
              "      <td>...</td>\n",
              "      <td>...</td>\n",
              "      <td>...</td>\n",
              "      <td>...</td>\n",
              "      <td>...</td>\n",
              "    </tr>\n",
              "    <tr>\n",
              "      <th>54398</th>\n",
              "      <td>8.345173e+10</td>\n",
              "      <td>154</td>\n",
              "      <td>0.06</td>\n",
              "      <td>1272.24670</td>\n",
              "      <td>76.334802</td>\n",
              "      <td>Tidak</td>\n",
              "    </tr>\n",
              "    <tr>\n",
              "      <th>54399</th>\n",
              "      <td>1.001421e+11</td>\n",
              "      <td>154</td>\n",
              "      <td>0.50</td>\n",
              "      <td>4122.54500</td>\n",
              "      <td>2061.272500</td>\n",
              "      <td>Tidak</td>\n",
              "    </tr>\n",
              "    <tr>\n",
              "      <th>54400</th>\n",
              "      <td>1.168324e+11</td>\n",
              "      <td>154</td>\n",
              "      <td>0.75</td>\n",
              "      <td>2568.02600</td>\n",
              "      <td>1926.019500</td>\n",
              "      <td>Tidak</td>\n",
              "    </tr>\n",
              "    <tr>\n",
              "      <th>54401</th>\n",
              "      <td>1.502131e+11</td>\n",
              "      <td>154</td>\n",
              "      <td>0.25</td>\n",
              "      <td>1497.86550</td>\n",
              "      <td>374.466375</td>\n",
              "      <td>Tidak</td>\n",
              "    </tr>\n",
              "    <tr>\n",
              "      <th>54402</th>\n",
              "      <td>1.669035e+11</td>\n",
              "      <td>154</td>\n",
              "      <td>0.50</td>\n",
              "      <td>3588.11400</td>\n",
              "      <td>1794.057000</td>\n",
              "      <td>Tidak</td>\n",
              "    </tr>\n",
              "  </tbody>\n",
              "</table>\n",
              "<p>54403 rows × 6 columns</p>\n",
              "</div>"
            ],
            "text/plain": [
              "               urut  kode  b41k8       weind     multiply   b5r7\n",
              "0      4.408589e+07   154   0.60   802.58200   481.549200  Tidak\n",
              "1      8.817178e+07   154   1.00   583.20260   583.202600  Tidak\n",
              "2      1.322577e+08   154   0.25   133.75847    33.439617  Tidak\n",
              "3      1.763436e+08   154   0.50   120.22718    60.113590  Tidak\n",
              "4      2.204294e+08   154   1.20  1498.96610  1798.759320  Tidak\n",
              "...             ...   ...    ...         ...          ...    ...\n",
              "54398  8.345173e+10   154   0.06  1272.24670    76.334802  Tidak\n",
              "54399  1.001421e+11   154   0.50  4122.54500  2061.272500  Tidak\n",
              "54400  1.168324e+11   154   0.75  2568.02600  1926.019500  Tidak\n",
              "54401  1.502131e+11   154   0.25  1497.86550   374.466375  Tidak\n",
              "54402  1.669035e+11   154   0.50  3588.11400  1794.057000  Tidak\n",
              "\n",
              "[54403 rows x 6 columns]"
            ]
          },
          "metadata": {
            "tags": []
          },
          "execution_count": 198
        }
      ]
    },
    {
      "cell_type": "code",
      "metadata": {
        "id": "0Joq3YJtfCq0",
        "outputId": "f67e9dee-a217-4349-912d-8e204c3fa058"
      },
      "source": [
        "kuartil_lain= pd.qcut(tabel_lain['b41k8'], 20, duplicates='drop', retbins= False)\n",
        "tabel_lain['kuartil'] = kuartil_lain\n",
        "tabel_kuartil_lain = tabel_lain.groupby(['kuartil', 'b5r7']).sum()['multiply']\n",
        "tabel_kuartil_lain"
      ],
      "execution_count": null,
      "outputs": [
        {
          "output_type": "execute_result",
          "data": {
            "text/plain": [
              "kuartil        b5r7 \n",
              "(0.019, 0.25]  Tidak    2.105345e+06\n",
              "               Ya       7.888242e+05\n",
              "(0.25, 0.3]    Tidak    7.572184e+05\n",
              "               Ya       3.064993e+05\n",
              "(0.3, 0.45]    Tidak    2.016179e+06\n",
              "               Ya       7.438302e+05\n",
              "(0.45, 0.5]    Tidak    1.451461e+07\n",
              "               Ya       4.731171e+06\n",
              "(0.5, 0.6]     Tidak    4.244428e+06\n",
              "               Ya       1.634957e+06\n",
              "(0.6, 0.7]     Tidak    4.027024e+06\n",
              "               Ya       1.539964e+06\n",
              "(0.7, 0.8]     Tidak    8.489289e+06\n",
              "               Ya       3.320498e+06\n",
              "(0.8, 1.0]     Tidak    5.084772e+07\n",
              "               Ya       1.539505e+07\n",
              "(1.0, 1.2]     Tidak    9.222680e+06\n",
              "               Ya       3.398828e+06\n",
              "(1.2, 1.25]    Tidak    5.683706e+06\n",
              "               Ya       2.225652e+06\n",
              "(1.25, 1.7]    Tidak    1.319256e+07\n",
              "               Ya       5.018749e+06\n",
              "(1.7, 11.2]    Tidak    2.045558e+07\n",
              "               Ya       8.448244e+06\n",
              "Name: multiply, dtype: float64"
            ]
          },
          "metadata": {
            "tags": []
          },
          "execution_count": 199
        }
      ]
    },
    {
      "cell_type": "code",
      "metadata": {
        "id": "f66NBErAfCq0"
      },
      "source": [
        "Quartil_lain= []\n",
        "persentase_berobat_lain = []\n",
        "\n",
        "for K in range(0,len(tabel_kuartil_lain.index)):\n",
        "    Quartil_lain.append(str(tabel_kuartil_lain.index[K][0])[1:-1])\n",
        "    persentase_berobat_lain.append(tabel_kuartil_lain[tabel_kuartil_lain.index[K][0]][1]/(tabel_kuartil_lain[tabel_kuartil_lain.index[K][0]][1] + tabel_kuartil_lain[tabel_kuartil_lain.index[K][0]][0]))\n",
        "\n",
        "Quartil_lain = list(dict.fromkeys(Quartil_lain))\n",
        "persentase_berobat_lain = list(dict.fromkeys(persentase_berobat_lain))"
      ],
      "execution_count": null,
      "outputs": []
    },
    {
      "cell_type": "code",
      "metadata": {
        "id": "w4qBppwEfCq1",
        "outputId": "e24eb917-4338-444e-eafb-35667717bcd3"
      },
      "source": [
        "plt.figure(figsize=[10,6])\n",
        "sns.scatterplot(x = Quartil_lain, y = persentase_berobat_lain)\n",
        "plt.xlabel('Konsumsi Minyak Lain (liter)')\n",
        "plt.ylabel('Persentase Rawat Jalan')\n",
        "plt.xticks(rotation = 90)\n",
        "plt.title('Konsumsi Minyak Lain vs Persentase Rawat Jalan Dalam 6 Bulan Terakhir')\n",
        "plt.show()"
      ],
      "execution_count": null,
      "outputs": [
        {
          "output_type": "display_data",
          "data": {
            "image/png": "[encoded data removed]",
            "text/plain": [
              "<Figure size 720x432 with 1 Axes>"
            ]
          },
          "metadata": {
            "tags": [],
            "needs_background": "light"
          }
        }
      ]
    },
    {
      "cell_type": "markdown",
      "metadata": {
        "id": "GUt_T9kZfCq1"
      },
      "source": [
        "# KONSUMSI MIE"
      ]
    },
    {
      "cell_type": "code",
      "metadata": {
        "id": "zzO14bTHfCq1"
      },
      "source": [
        "mie_instan = data[data['kode'] == 206]\n",
        "\n",
        "mie_instan = mie_instan.loc[:, ['urut', 'kode', 'b41k8']]"
      ],
      "execution_count": null,
      "outputs": []
    },
    {
      "cell_type": "code",
      "metadata": {
        "id": "VSSA8j7mfCq2"
      },
      "source": [
        "mie_bakso = data[data['kode'] == 205]\n",
        "\n",
        "mie_bakso = mie_bakso.loc[:, ['urut', 'kode', 'b41k8']]"
      ],
      "execution_count": null,
      "outputs": []
    },
    {
      "cell_type": "code",
      "metadata": {
        "id": "vjCp4HvMfCq2",
        "outputId": "9cac0698-de91-4d73-893a-b3ffc17ed4fa"
      },
      "source": [
        "miequ = pd.concat([mie_instan, mie_instan])\n",
        "miequ.drop(['kode'], axis=1, inplace=True)\n",
        "miequ = miequ.groupby('urut').sum()\n",
        "miequ.reset_index(inplace=True)\n",
        "miequ.head()"
      ],
      "execution_count": null,
      "outputs": [
        {
          "output_type": "execute_result",
          "data": {
            "text/html": [
              "<div>\n",
              "<style scoped>\n",
              "    .dataframe tbody tr th:only-of-type {\n",
              "        vertical-align: middle;\n",
              "    }\n",
              "\n",
              "    .dataframe tbody tr th {\n",
              "        vertical-align: top;\n",
              "    }\n",
              "\n",
              "    .dataframe thead th {\n",
              "        text-align: right;\n",
              "    }\n",
              "</style>\n",
              "<table border=\"1\" class=\"dataframe\">\n",
              "  <thead>\n",
              "    <tr style=\"text-align: right;\">\n",
              "      <th></th>\n",
              "      <th>urut</th>\n",
              "      <th>b41k8</th>\n",
              "    </tr>\n",
              "  </thead>\n",
              "  <tbody>\n",
              "    <tr>\n",
              "      <th>0</th>\n",
              "      <td>44013310.0</td>\n",
              "      <td>2.0</td>\n",
              "    </tr>\n",
              "    <tr>\n",
              "      <th>1</th>\n",
              "      <td>60096150.0</td>\n",
              "      <td>4.0</td>\n",
              "    </tr>\n",
              "    <tr>\n",
              "      <th>2</th>\n",
              "      <td>64108960.0</td>\n",
              "      <td>4.0</td>\n",
              "    </tr>\n",
              "    <tr>\n",
              "      <th>3</th>\n",
              "      <td>80086592.0</td>\n",
              "      <td>2.0</td>\n",
              "    </tr>\n",
              "    <tr>\n",
              "      <th>4</th>\n",
              "      <td>80201824.0</td>\n",
              "      <td>8.0</td>\n",
              "    </tr>\n",
              "  </tbody>\n",
              "</table>\n",
              "</div>"
            ],
            "text/plain": [
              "         urut  b41k8\n",
              "0  44013310.0    2.0\n",
              "1  60096150.0    4.0\n",
              "2  64108960.0    4.0\n",
              "3  80086592.0    2.0\n",
              "4  80201824.0    8.0"
            ]
          },
          "metadata": {
            "tags": []
          },
          "execution_count": 217
        }
      ]
    },
    {
      "cell_type": "code",
      "metadata": {
        "id": "RXNsXhinfCq2",
        "outputId": "29a4ae1f-bd5f-4c14-8576-d21fca6a72f1"
      },
      "source": [
        "sakit_6 = data_kor.loc[:, ['urut', 'b5r7','weind']]\n",
        "sakit_6.drop_duplicates(subset=['urut'], inplace=True)\n",
        "sakit_6"
      ],
      "execution_count": null,
      "outputs": [
        {
          "output_type": "execute_result",
          "data": {
            "text/html": [
              "<div>\n",
              "<style scoped>\n",
              "    .dataframe tbody tr th:only-of-type {\n",
              "        vertical-align: middle;\n",
              "    }\n",
              "\n",
              "    .dataframe tbody tr th {\n",
              "        vertical-align: top;\n",
              "    }\n",
              "\n",
              "    .dataframe thead th {\n",
              "        text-align: right;\n",
              "    }\n",
              "</style>\n",
              "<table border=\"1\" class=\"dataframe\">\n",
              "  <thead>\n",
              "    <tr style=\"text-align: right;\">\n",
              "      <th></th>\n",
              "      <th>urut</th>\n",
              "      <th>b5r7</th>\n",
              "      <th>weind</th>\n",
              "    </tr>\n",
              "  </thead>\n",
              "  <tbody>\n",
              "    <tr>\n",
              "      <th>0</th>\n",
              "      <td>2.750231e+07</td>\n",
              "      <td>2</td>\n",
              "      <td>328.766850</td>\n",
              "    </tr>\n",
              "    <tr>\n",
              "      <th>8</th>\n",
              "      <td>3.000125e+07</td>\n",
              "      <td>2</td>\n",
              "      <td>30.502945</td>\n",
              "    </tr>\n",
              "    <tr>\n",
              "      <th>12</th>\n",
              "      <td>3.250134e+07</td>\n",
              "      <td>2</td>\n",
              "      <td>65.848070</td>\n",
              "    </tr>\n",
              "    <tr>\n",
              "      <th>14</th>\n",
              "      <td>3.500848e+07</td>\n",
              "      <td>2</td>\n",
              "      <td>626.282040</td>\n",
              "    </tr>\n",
              "    <tr>\n",
              "      <th>19</th>\n",
              "      <td>3.502246e+07</td>\n",
              "      <td>1</td>\n",
              "      <td>1146.070900</td>\n",
              "    </tr>\n",
              "    <tr>\n",
              "      <th>...</th>\n",
              "      <td>...</td>\n",
              "      <td>...</td>\n",
              "      <td>...</td>\n",
              "    </tr>\n",
              "    <tr>\n",
              "      <th>274034</th>\n",
              "      <td>2.364676e+11</td>\n",
              "      <td>2</td>\n",
              "      <td>523.004640</td>\n",
              "    </tr>\n",
              "    <tr>\n",
              "      <th>274040</th>\n",
              "      <td>2.365029e+11</td>\n",
              "      <td>1</td>\n",
              "      <td>267.552060</td>\n",
              "    </tr>\n",
              "    <tr>\n",
              "      <th>274042</th>\n",
              "      <td>2.365501e+11</td>\n",
              "      <td>2</td>\n",
              "      <td>212.682130</td>\n",
              "    </tr>\n",
              "    <tr>\n",
              "      <th>274044</th>\n",
              "      <td>2.403726e+11</td>\n",
              "      <td>2</td>\n",
              "      <td>593.981260</td>\n",
              "    </tr>\n",
              "    <tr>\n",
              "      <th>274049</th>\n",
              "      <td>2.670807e+11</td>\n",
              "      <td>1</td>\n",
              "      <td>494.199860</td>\n",
              "    </tr>\n",
              "  </tbody>\n",
              "</table>\n",
              "<p>69514 rows × 3 columns</p>\n",
              "</div>"
            ],
            "text/plain": [
              "                urut  b5r7        weind\n",
              "0       2.750231e+07     2   328.766850\n",
              "8       3.000125e+07     2    30.502945\n",
              "12      3.250134e+07     2    65.848070\n",
              "14      3.500848e+07     2   626.282040\n",
              "19      3.502246e+07     1  1146.070900\n",
              "...              ...   ...          ...\n",
              "274034  2.364676e+11     2   523.004640\n",
              "274040  2.365029e+11     1   267.552060\n",
              "274042  2.365501e+11     2   212.682130\n",
              "274044  2.403726e+11     2   593.981260\n",
              "274049  2.670807e+11     1   494.199860\n",
              "\n",
              "[69514 rows x 3 columns]"
            ]
          },
          "metadata": {
            "tags": []
          },
          "execution_count": 218
        }
      ]
    },
    {
      "cell_type": "code",
      "metadata": {
        "id": "ARPciHO0fCq3",
        "outputId": "c134358a-60f2-416a-c88b-af1886005e40"
      },
      "source": [
        "tabel_merge_miequ_sakit = miequ.merge(sakit_6, how='left', on='urut')\n",
        "tabel_merge_miequ_sakit['b5r7'] = tabel_merge_miequ_sakit['b5r7'].map({1:'Ya',2:'Tidak'})\n",
        "tabel_merge_miequ_sakit.rename(columns={ 'urut': 'Urut', 'b41k8': 'Total Konsumsi Mie (Porsi)', 'b5r7': 'Pernah Berobat Jalan 6 Bulan Terakhir?', 'weind':'Weighting'}, inplace=True)\n",
        "tabel_merge_miequ_sakit.drop_duplicates(subset=['Urut'], inplace=True)\n",
        "tabel_merge_miequ_sakit"
      ],
      "execution_count": null,
      "outputs": [
        {
          "output_type": "execute_result",
          "data": {
            "text/html": [
              "<div>\n",
              "<style scoped>\n",
              "    .dataframe tbody tr th:only-of-type {\n",
              "        vertical-align: middle;\n",
              "    }\n",
              "\n",
              "    .dataframe tbody tr th {\n",
              "        vertical-align: top;\n",
              "    }\n",
              "\n",
              "    .dataframe thead th {\n",
              "        text-align: right;\n",
              "    }\n",
              "</style>\n",
              "<table border=\"1\" class=\"dataframe\">\n",
              "  <thead>\n",
              "    <tr style=\"text-align: right;\">\n",
              "      <th></th>\n",
              "      <th>Urut</th>\n",
              "      <th>Total Konsumsi Mie (Porsi)</th>\n",
              "      <th>Pernah Berobat Jalan 6 Bulan Terakhir?</th>\n",
              "      <th>Weighting</th>\n",
              "    </tr>\n",
              "  </thead>\n",
              "  <tbody>\n",
              "    <tr>\n",
              "      <th>0</th>\n",
              "      <td>4.401331e+07</td>\n",
              "      <td>2.0</td>\n",
              "      <td>Tidak</td>\n",
              "      <td>191.37656</td>\n",
              "    </tr>\n",
              "    <tr>\n",
              "      <th>1</th>\n",
              "      <td>6.009615e+07</td>\n",
              "      <td>4.0</td>\n",
              "      <td>Tidak</td>\n",
              "      <td>189.35805</td>\n",
              "    </tr>\n",
              "    <tr>\n",
              "      <th>2</th>\n",
              "      <td>6.410896e+07</td>\n",
              "      <td>4.0</td>\n",
              "      <td>Tidak</td>\n",
              "      <td>479.29642</td>\n",
              "    </tr>\n",
              "    <tr>\n",
              "      <th>3</th>\n",
              "      <td>8.008659e+07</td>\n",
              "      <td>2.0</td>\n",
              "      <td>Tidak</td>\n",
              "      <td>3332.32100</td>\n",
              "    </tr>\n",
              "    <tr>\n",
              "      <th>4</th>\n",
              "      <td>8.020182e+07</td>\n",
              "      <td>8.0</td>\n",
              "      <td>Tidak</td>\n",
              "      <td>6566.43700</td>\n",
              "    </tr>\n",
              "    <tr>\n",
              "      <th>...</th>\n",
              "      <td>...</td>\n",
              "      <td>...</td>\n",
              "      <td>...</td>\n",
              "      <td>...</td>\n",
              "    </tr>\n",
              "    <tr>\n",
              "      <th>2187</th>\n",
              "      <td>1.472519e+11</td>\n",
              "      <td>4.0</td>\n",
              "      <td>Tidak</td>\n",
              "      <td>405.47833</td>\n",
              "    </tr>\n",
              "    <tr>\n",
              "      <th>2188</th>\n",
              "      <td>1.582783e+11</td>\n",
              "      <td>8.0</td>\n",
              "      <td>Tidak</td>\n",
              "      <td>682.96880</td>\n",
              "    </tr>\n",
              "    <tr>\n",
              "      <th>2189</th>\n",
              "      <td>1.610523e+11</td>\n",
              "      <td>4.0</td>\n",
              "      <td>Tidak</td>\n",
              "      <td>628.57110</td>\n",
              "    </tr>\n",
              "    <tr>\n",
              "      <th>2190</th>\n",
              "      <td>1.669771e+11</td>\n",
              "      <td>6.0</td>\n",
              "      <td>Tidak</td>\n",
              "      <td>256.22934</td>\n",
              "    </tr>\n",
              "    <tr>\n",
              "      <th>2191</th>\n",
              "      <td>2.333853e+11</td>\n",
              "      <td>2.0</td>\n",
              "      <td>Tidak</td>\n",
              "      <td>110.15549</td>\n",
              "    </tr>\n",
              "  </tbody>\n",
              "</table>\n",
              "<p>2192 rows × 4 columns</p>\n",
              "</div>"
            ],
            "text/plain": [
              "              Urut  Total Konsumsi Mie (Porsi)  \\\n",
              "0     4.401331e+07                         2.0   \n",
              "1     6.009615e+07                         4.0   \n",
              "2     6.410896e+07                         4.0   \n",
              "3     8.008659e+07                         2.0   \n",
              "4     8.020182e+07                         8.0   \n",
              "...            ...                         ...   \n",
              "2187  1.472519e+11                         4.0   \n",
              "2188  1.582783e+11                         8.0   \n",
              "2189  1.610523e+11                         4.0   \n",
              "2190  1.669771e+11                         6.0   \n",
              "2191  2.333853e+11                         2.0   \n",
              "\n",
              "     Pernah Berobat Jalan 6 Bulan Terakhir?   Weighting  \n",
              "0                                     Tidak   191.37656  \n",
              "1                                     Tidak   189.35805  \n",
              "2                                     Tidak   479.29642  \n",
              "3                                     Tidak  3332.32100  \n",
              "4                                     Tidak  6566.43700  \n",
              "...                                     ...         ...  \n",
              "2187                                  Tidak   405.47833  \n",
              "2188                                  Tidak   682.96880  \n",
              "2189                                  Tidak   628.57110  \n",
              "2190                                  Tidak   256.22934  \n",
              "2191                                  Tidak   110.15549  \n",
              "\n",
              "[2192 rows x 4 columns]"
            ]
          },
          "metadata": {
            "tags": []
          },
          "execution_count": 219
        }
      ]
    },
    {
      "cell_type": "markdown",
      "metadata": {
        "id": "-0foU3NBfCq3"
      },
      "source": [
        "# Jenis mie apa yang paling banyak dikonsumsi"
      ]
    },
    {
      "cell_type": "code",
      "metadata": {
        "id": "ao4QQsE7fCq4",
        "outputId": "695a86b7-840e-437b-9e35-9a1d9d346308"
      },
      "source": [
        "mie_instan = data[data['kode'] == 206]\n",
        "\n",
        "mie_instan = mie_instan.loc[:, ['urut', 'kode', 'b41k8', 'weind']]\n",
        "\n",
        "mie_instan['multiply'] = mie_instan['b41k8']*mie_instan['weind']\n",
        "\n",
        "mie_instan['multiply'].sum()"
      ],
      "execution_count": null,
      "outputs": [
        {
          "output_type": "execute_result",
          "data": {
            "text/plain": [
              "25832343.616317697"
            ]
          },
          "metadata": {
            "tags": []
          },
          "execution_count": 220
        }
      ]
    },
    {
      "cell_type": "code",
      "metadata": {
        "id": "gJRgpVMEfCq-",
        "outputId": "1843c2db-f579-48bb-b65e-8c3f42ff7aae"
      },
      "source": [
        "mie_bakso = data[data['kode'] == 205]\n",
        "\n",
        "mie_bakso = mie_bakso.loc[:, ['urut', 'kode', 'b41k8', 'weind']]\n",
        "\n",
        "mie_bakso['multiply'] = mie_bakso['b41k8']*mie_bakso['weind']\n",
        "\n",
        "mie_bakso['multiply'].sum()"
      ],
      "execution_count": null,
      "outputs": [
        {
          "output_type": "execute_result",
          "data": {
            "text/plain": [
              "377906871.8601186"
            ]
          },
          "metadata": {
            "tags": []
          },
          "execution_count": 221
        }
      ]
    },
    {
      "cell_type": "code",
      "metadata": {
        "id": "dOz632iGfCq-"
      },
      "source": [
        "data_konsumsi_mie = {'Jenis Mie': ['Mie Instan', 'Mie Bakso'], \n",
        "        'Jumlah Konsumsi Mie (Porsi)': [mie_instan['multiply'].sum(),mie_bakso['multiply'].sum()]\n",
        "        }"
      ],
      "execution_count": null,
      "outputs": []
    },
    {
      "cell_type": "code",
      "metadata": {
        "id": "Zuv6CikNfCq-"
      },
      "source": [
        "total_konsumsi_jenis_mie = pd.DataFrame(data_konsumsi_mie)"
      ],
      "execution_count": null,
      "outputs": []
    },
    {
      "cell_type": "code",
      "metadata": {
        "id": "53nCPeBTfCq_",
        "outputId": "14db4b8a-931e-497e-f85d-b5aacb224c75"
      },
      "source": [
        "total_konsumsi_jenis_mie"
      ],
      "execution_count": null,
      "outputs": [
        {
          "output_type": "execute_result",
          "data": {
            "text/html": [
              "<div>\n",
              "<style scoped>\n",
              "    .dataframe tbody tr th:only-of-type {\n",
              "        vertical-align: middle;\n",
              "    }\n",
              "\n",
              "    .dataframe tbody tr th {\n",
              "        vertical-align: top;\n",
              "    }\n",
              "\n",
              "    .dataframe thead th {\n",
              "        text-align: right;\n",
              "    }\n",
              "</style>\n",
              "<table border=\"1\" class=\"dataframe\">\n",
              "  <thead>\n",
              "    <tr style=\"text-align: right;\">\n",
              "      <th></th>\n",
              "      <th>Jenis Mie</th>\n",
              "      <th>Jumlah Konsumsi Mie (Porsi)</th>\n",
              "    </tr>\n",
              "  </thead>\n",
              "  <tbody>\n",
              "    <tr>\n",
              "      <th>0</th>\n",
              "      <td>Mie Instan</td>\n",
              "      <td>2.583234e+07</td>\n",
              "    </tr>\n",
              "    <tr>\n",
              "      <th>1</th>\n",
              "      <td>Mie Bakso</td>\n",
              "      <td>3.779069e+08</td>\n",
              "    </tr>\n",
              "  </tbody>\n",
              "</table>\n",
              "</div>"
            ],
            "text/plain": [
              "    Jenis Mie  Jumlah Konsumsi Mie (Porsi)\n",
              "0  Mie Instan                 2.583234e+07\n",
              "1   Mie Bakso                 3.779069e+08"
            ]
          },
          "metadata": {
            "tags": []
          },
          "execution_count": 224
        }
      ]
    },
    {
      "cell_type": "code",
      "metadata": {
        "id": "KmVlvV_gfCq_",
        "outputId": "0f5fea2b-2508-465c-dec5-1db11428c80d"
      },
      "source": [
        "sns.barplot(x = total_konsumsi_jenis_mie['Jenis Mie'], y= total_konsumsi_jenis_mie['Jumlah Konsumsi Mie (Porsi)'])"
      ],
      "execution_count": null,
      "outputs": [
        {
          "output_type": "execute_result",
          "data": {
            "text/plain": [
              "<AxesSubplot:xlabel='Jenis Mie', ylabel='Jumlah Konsumsi Mie (Porsi)'>"
            ]
          },
          "metadata": {
            "tags": []
          },
          "execution_count": 225
        },
        {
          "output_type": "display_data",
          "data": {
            "image/png": "[encoded data removed]",
            "text/plain": [
              "<Figure size 432x288 with 1 Axes>"
            ]
          },
          "metadata": {
            "tags": [],
            "needs_background": "light"
          }
        }
      ]
    },
    {
      "cell_type": "markdown",
      "metadata": {
        "id": "3jtu92x9fCq_"
      },
      "source": [
        "# Konsumsi Mie perkotaan/pedesaan"
      ]
    },
    {
      "cell_type": "code",
      "metadata": {
        "id": "xYl0W2bIfCq_",
        "outputId": "1b7b45a8-56ce-4072-f5ba-d6571a72c11b"
      },
      "source": [
        "kotadesa = data[['urut', 'b1r5']]\n",
        "kotadesa"
      ],
      "execution_count": null,
      "outputs": [
        {
          "output_type": "execute_result",
          "data": {
            "text/html": [
              "<div>\n",
              "<style scoped>\n",
              "    .dataframe tbody tr th:only-of-type {\n",
              "        vertical-align: middle;\n",
              "    }\n",
              "\n",
              "    .dataframe tbody tr th {\n",
              "        vertical-align: top;\n",
              "    }\n",
              "\n",
              "    .dataframe thead th {\n",
              "        text-align: right;\n",
              "    }\n",
              "</style>\n",
              "<table border=\"1\" class=\"dataframe\">\n",
              "  <thead>\n",
              "    <tr style=\"text-align: right;\">\n",
              "      <th></th>\n",
              "      <th>urut</th>\n",
              "      <th>b1r5</th>\n",
              "    </tr>\n",
              "  </thead>\n",
              "  <tbody>\n",
              "    <tr>\n",
              "      <th>0</th>\n",
              "      <td>4.408589e+07</td>\n",
              "      <td>2</td>\n",
              "    </tr>\n",
              "    <tr>\n",
              "      <th>1</th>\n",
              "      <td>4.408589e+07</td>\n",
              "      <td>2</td>\n",
              "    </tr>\n",
              "    <tr>\n",
              "      <th>2</th>\n",
              "      <td>4.408589e+07</td>\n",
              "      <td>2</td>\n",
              "    </tr>\n",
              "    <tr>\n",
              "      <th>3</th>\n",
              "      <td>4.408589e+07</td>\n",
              "      <td>2</td>\n",
              "    </tr>\n",
              "    <tr>\n",
              "      <th>4</th>\n",
              "      <td>4.408589e+07</td>\n",
              "      <td>2</td>\n",
              "    </tr>\n",
              "    <tr>\n",
              "      <th>...</th>\n",
              "      <td>...</td>\n",
              "      <td>...</td>\n",
              "    </tr>\n",
              "    <tr>\n",
              "      <th>2899084</th>\n",
              "      <td>1.669035e+11</td>\n",
              "      <td>1</td>\n",
              "    </tr>\n",
              "    <tr>\n",
              "      <th>2899085</th>\n",
              "      <td>1.669035e+11</td>\n",
              "      <td>1</td>\n",
              "    </tr>\n",
              "    <tr>\n",
              "      <th>2899086</th>\n",
              "      <td>1.669035e+11</td>\n",
              "      <td>1</td>\n",
              "    </tr>\n",
              "    <tr>\n",
              "      <th>2899087</th>\n",
              "      <td>1.669035e+11</td>\n",
              "      <td>1</td>\n",
              "    </tr>\n",
              "    <tr>\n",
              "      <th>2899088</th>\n",
              "      <td>1.669035e+11</td>\n",
              "      <td>1</td>\n",
              "    </tr>\n",
              "  </tbody>\n",
              "</table>\n",
              "<p>2899089 rows × 2 columns</p>\n",
              "</div>"
            ],
            "text/plain": [
              "                 urut  b1r5\n",
              "0        4.408589e+07     2\n",
              "1        4.408589e+07     2\n",
              "2        4.408589e+07     2\n",
              "3        4.408589e+07     2\n",
              "4        4.408589e+07     2\n",
              "...               ...   ...\n",
              "2899084  1.669035e+11     1\n",
              "2899085  1.669035e+11     1\n",
              "2899086  1.669035e+11     1\n",
              "2899087  1.669035e+11     1\n",
              "2899088  1.669035e+11     1\n",
              "\n",
              "[2899089 rows x 2 columns]"
            ]
          },
          "metadata": {
            "tags": []
          },
          "execution_count": 226
        }
      ]
    },
    {
      "cell_type": "code",
      "metadata": {
        "id": "Qi6_nI_JfCrA"
      },
      "source": [
        "tabel_kotadesa = tabel_merge_miequ_sakit.rename(columns={'Urut':'urut'})"
      ],
      "execution_count": null,
      "outputs": []
    },
    {
      "cell_type": "code",
      "metadata": {
        "id": "cVbOtYaSfCrA"
      },
      "source": [
        "tabel_kotadesa = tabel_kotadesa.merge(kotadesa, how='left', on='urut')"
      ],
      "execution_count": null,
      "outputs": []
    },
    {
      "cell_type": "code",
      "metadata": {
        "id": "v4FQjKv8fCrA",
        "outputId": "d69d7c20-3a39-4b73-9833-a7ebf53f41e5"
      },
      "source": [
        "tabel_kotadesa.rename(columns={'b1r5': 'Kota/Desa', 'urut':'Urut'}, inplace=True)\n",
        "tabel_kotadesa['Kota/Desa'] = tabel_kotadesa['Kota/Desa'].map({1:'Kota', 2:'Desa'})\n",
        "tabel_kotadesa.drop_duplicates(subset=['Urut'], inplace=True)\n",
        "tabel_kotadesa"
      ],
      "execution_count": null,
      "outputs": [
        {
          "output_type": "execute_result",
          "data": {
            "text/html": [
              "<div>\n",
              "<style scoped>\n",
              "    .dataframe tbody tr th:only-of-type {\n",
              "        vertical-align: middle;\n",
              "    }\n",
              "\n",
              "    .dataframe tbody tr th {\n",
              "        vertical-align: top;\n",
              "    }\n",
              "\n",
              "    .dataframe thead th {\n",
              "        text-align: right;\n",
              "    }\n",
              "</style>\n",
              "<table border=\"1\" class=\"dataframe\">\n",
              "  <thead>\n",
              "    <tr style=\"text-align: right;\">\n",
              "      <th></th>\n",
              "      <th>Urut</th>\n",
              "      <th>Total Konsumsi Mie (Porsi)</th>\n",
              "      <th>Pernah Berobat Jalan 6 Bulan Terakhir?</th>\n",
              "      <th>Weighting</th>\n",
              "      <th>Kota/Desa</th>\n",
              "    </tr>\n",
              "  </thead>\n",
              "  <tbody>\n",
              "    <tr>\n",
              "      <th>0</th>\n",
              "      <td>4.401331e+07</td>\n",
              "      <td>2.0</td>\n",
              "      <td>Tidak</td>\n",
              "      <td>191.37656</td>\n",
              "      <td>Desa</td>\n",
              "    </tr>\n",
              "    <tr>\n",
              "      <th>34</th>\n",
              "      <td>6.009615e+07</td>\n",
              "      <td>4.0</td>\n",
              "      <td>Tidak</td>\n",
              "      <td>189.35805</td>\n",
              "      <td>Desa</td>\n",
              "    </tr>\n",
              "    <tr>\n",
              "      <th>65</th>\n",
              "      <td>6.410896e+07</td>\n",
              "      <td>4.0</td>\n",
              "      <td>Tidak</td>\n",
              "      <td>479.29642</td>\n",
              "      <td>Desa</td>\n",
              "    </tr>\n",
              "    <tr>\n",
              "      <th>117</th>\n",
              "      <td>8.008659e+07</td>\n",
              "      <td>2.0</td>\n",
              "      <td>Tidak</td>\n",
              "      <td>3332.32100</td>\n",
              "      <td>Kota</td>\n",
              "    </tr>\n",
              "    <tr>\n",
              "      <th>170</th>\n",
              "      <td>8.020182e+07</td>\n",
              "      <td>8.0</td>\n",
              "      <td>Tidak</td>\n",
              "      <td>6566.43700</td>\n",
              "      <td>Kota</td>\n",
              "    </tr>\n",
              "    <tr>\n",
              "      <th>...</th>\n",
              "      <td>...</td>\n",
              "      <td>...</td>\n",
              "      <td>...</td>\n",
              "      <td>...</td>\n",
              "      <td>...</td>\n",
              "    </tr>\n",
              "    <tr>\n",
              "      <th>103620</th>\n",
              "      <td>1.472519e+11</td>\n",
              "      <td>4.0</td>\n",
              "      <td>Tidak</td>\n",
              "      <td>405.47833</td>\n",
              "      <td>Desa</td>\n",
              "    </tr>\n",
              "    <tr>\n",
              "      <th>103653</th>\n",
              "      <td>1.582783e+11</td>\n",
              "      <td>8.0</td>\n",
              "      <td>Tidak</td>\n",
              "      <td>682.96880</td>\n",
              "      <td>Desa</td>\n",
              "    </tr>\n",
              "    <tr>\n",
              "      <th>103688</th>\n",
              "      <td>1.610523e+11</td>\n",
              "      <td>4.0</td>\n",
              "      <td>Tidak</td>\n",
              "      <td>628.57110</td>\n",
              "      <td>Desa</td>\n",
              "    </tr>\n",
              "    <tr>\n",
              "      <th>103731</th>\n",
              "      <td>1.669771e+11</td>\n",
              "      <td>6.0</td>\n",
              "      <td>Tidak</td>\n",
              "      <td>256.22934</td>\n",
              "      <td>Kota</td>\n",
              "    </tr>\n",
              "    <tr>\n",
              "      <th>103781</th>\n",
              "      <td>2.333853e+11</td>\n",
              "      <td>2.0</td>\n",
              "      <td>Tidak</td>\n",
              "      <td>110.15549</td>\n",
              "      <td>Desa</td>\n",
              "    </tr>\n",
              "  </tbody>\n",
              "</table>\n",
              "<p>2192 rows × 5 columns</p>\n",
              "</div>"
            ],
            "text/plain": [
              "                Urut  Total Konsumsi Mie (Porsi)  \\\n",
              "0       4.401331e+07                         2.0   \n",
              "34      6.009615e+07                         4.0   \n",
              "65      6.410896e+07                         4.0   \n",
              "117     8.008659e+07                         2.0   \n",
              "170     8.020182e+07                         8.0   \n",
              "...              ...                         ...   \n",
              "103620  1.472519e+11                         4.0   \n",
              "103653  1.582783e+11                         8.0   \n",
              "103688  1.610523e+11                         4.0   \n",
              "103731  1.669771e+11                         6.0   \n",
              "103781  2.333853e+11                         2.0   \n",
              "\n",
              "       Pernah Berobat Jalan 6 Bulan Terakhir?   Weighting Kota/Desa  \n",
              "0                                       Tidak   191.37656      Desa  \n",
              "34                                      Tidak   189.35805      Desa  \n",
              "65                                      Tidak   479.29642      Desa  \n",
              "117                                     Tidak  3332.32100      Kota  \n",
              "170                                     Tidak  6566.43700      Kota  \n",
              "...                                       ...         ...       ...  \n",
              "103620                                  Tidak   405.47833      Desa  \n",
              "103653                                  Tidak   682.96880      Desa  \n",
              "103688                                  Tidak   628.57110      Desa  \n",
              "103731                                  Tidak   256.22934      Kota  \n",
              "103781                                  Tidak   110.15549      Desa  \n",
              "\n",
              "[2192 rows x 5 columns]"
            ]
          },
          "metadata": {
            "tags": []
          },
          "execution_count": 229
        }
      ]
    },
    {
      "cell_type": "code",
      "metadata": {
        "id": "uGDaOmK2fCrA"
      },
      "source": [
        "summary_konsumsi_mie_kotadesa = tabel_kotadesa.groupby(['Kota/Desa']).mean()['Total Konsumsi Mie (Porsi)']"
      ],
      "execution_count": null,
      "outputs": []
    },
    {
      "cell_type": "code",
      "metadata": {
        "id": "Aa9-psp-fCrB",
        "outputId": "0e5568a8-5e6a-4324-b625-6c93667c1815"
      },
      "source": [
        "summary_konsumsi_mie_kotadesa.plot.bar()\n",
        "plt.ylabel('Porsi')"
      ],
      "execution_count": null,
      "outputs": [
        {
          "output_type": "execute_result",
          "data": {
            "text/plain": [
              "Text(0, 0.5, 'Porsi')"
            ]
          },
          "metadata": {
            "tags": []
          },
          "execution_count": 233
        },
        {
          "output_type": "display_data",
          "data": {
            "image/png": "[encoded data removed]",
            "text/plain": [
              "<Figure size 432x288 with 1 Axes>"
            ]
          },
          "metadata": {
            "tags": [],
            "needs_background": "light"
          }
        }
      ]
    },
    {
      "cell_type": "markdown",
      "metadata": {
        "id": "vUfY7mpzfCrB"
      },
      "source": [
        "# Distribusi berobat jalan kota/desa"
      ]
    },
    {
      "cell_type": "code",
      "metadata": {
        "id": "nNo3lSKRfCrB",
        "outputId": "8e22720e-ccc2-4066-83ac-20e4ad50164a"
      },
      "source": [
        "tabel_kotadesa"
      ],
      "execution_count": null,
      "outputs": [
        {
          "output_type": "execute_result",
          "data": {
            "text/html": [
              "<div>\n",
              "<style scoped>\n",
              "    .dataframe tbody tr th:only-of-type {\n",
              "        vertical-align: middle;\n",
              "    }\n",
              "\n",
              "    .dataframe tbody tr th {\n",
              "        vertical-align: top;\n",
              "    }\n",
              "\n",
              "    .dataframe thead th {\n",
              "        text-align: right;\n",
              "    }\n",
              "</style>\n",
              "<table border=\"1\" class=\"dataframe\">\n",
              "  <thead>\n",
              "    <tr style=\"text-align: right;\">\n",
              "      <th></th>\n",
              "      <th>Urut</th>\n",
              "      <th>Total Konsumsi Mie (Porsi)</th>\n",
              "      <th>Pernah Berobat Jalan 6 Bulan Terakhir?</th>\n",
              "      <th>Weighting</th>\n",
              "      <th>Kota/Desa</th>\n",
              "    </tr>\n",
              "  </thead>\n",
              "  <tbody>\n",
              "    <tr>\n",
              "      <th>0</th>\n",
              "      <td>4.401331e+07</td>\n",
              "      <td>2.0</td>\n",
              "      <td>Tidak</td>\n",
              "      <td>191.37656</td>\n",
              "      <td>Desa</td>\n",
              "    </tr>\n",
              "    <tr>\n",
              "      <th>34</th>\n",
              "      <td>6.009615e+07</td>\n",
              "      <td>4.0</td>\n",
              "      <td>Tidak</td>\n",
              "      <td>189.35805</td>\n",
              "      <td>Desa</td>\n",
              "    </tr>\n",
              "    <tr>\n",
              "      <th>65</th>\n",
              "      <td>6.410896e+07</td>\n",
              "      <td>4.0</td>\n",
              "      <td>Tidak</td>\n",
              "      <td>479.29642</td>\n",
              "      <td>Desa</td>\n",
              "    </tr>\n",
              "    <tr>\n",
              "      <th>117</th>\n",
              "      <td>8.008659e+07</td>\n",
              "      <td>2.0</td>\n",
              "      <td>Tidak</td>\n",
              "      <td>3332.32100</td>\n",
              "      <td>Kota</td>\n",
              "    </tr>\n",
              "    <tr>\n",
              "      <th>170</th>\n",
              "      <td>8.020182e+07</td>\n",
              "      <td>8.0</td>\n",
              "      <td>Tidak</td>\n",
              "      <td>6566.43700</td>\n",
              "      <td>Kota</td>\n",
              "    </tr>\n",
              "    <tr>\n",
              "      <th>...</th>\n",
              "      <td>...</td>\n",
              "      <td>...</td>\n",
              "      <td>...</td>\n",
              "      <td>...</td>\n",
              "      <td>...</td>\n",
              "    </tr>\n",
              "    <tr>\n",
              "      <th>103620</th>\n",
              "      <td>1.472519e+11</td>\n",
              "      <td>4.0</td>\n",
              "      <td>Tidak</td>\n",
              "      <td>405.47833</td>\n",
              "      <td>Desa</td>\n",
              "    </tr>\n",
              "    <tr>\n",
              "      <th>103653</th>\n",
              "      <td>1.582783e+11</td>\n",
              "      <td>8.0</td>\n",
              "      <td>Tidak</td>\n",
              "      <td>682.96880</td>\n",
              "      <td>Desa</td>\n",
              "    </tr>\n",
              "    <tr>\n",
              "      <th>103688</th>\n",
              "      <td>1.610523e+11</td>\n",
              "      <td>4.0</td>\n",
              "      <td>Tidak</td>\n",
              "      <td>628.57110</td>\n",
              "      <td>Desa</td>\n",
              "    </tr>\n",
              "    <tr>\n",
              "      <th>103731</th>\n",
              "      <td>1.669771e+11</td>\n",
              "      <td>6.0</td>\n",
              "      <td>Tidak</td>\n",
              "      <td>256.22934</td>\n",
              "      <td>Kota</td>\n",
              "    </tr>\n",
              "    <tr>\n",
              "      <th>103781</th>\n",
              "      <td>2.333853e+11</td>\n",
              "      <td>2.0</td>\n",
              "      <td>Tidak</td>\n",
              "      <td>110.15549</td>\n",
              "      <td>Desa</td>\n",
              "    </tr>\n",
              "  </tbody>\n",
              "</table>\n",
              "<p>2192 rows × 5 columns</p>\n",
              "</div>"
            ],
            "text/plain": [
              "                Urut  Total Konsumsi Mie (Porsi)  \\\n",
              "0       4.401331e+07                         2.0   \n",
              "34      6.009615e+07                         4.0   \n",
              "65      6.410896e+07                         4.0   \n",
              "117     8.008659e+07                         2.0   \n",
              "170     8.020182e+07                         8.0   \n",
              "...              ...                         ...   \n",
              "103620  1.472519e+11                         4.0   \n",
              "103653  1.582783e+11                         8.0   \n",
              "103688  1.610523e+11                         4.0   \n",
              "103731  1.669771e+11                         6.0   \n",
              "103781  2.333853e+11                         2.0   \n",
              "\n",
              "       Pernah Berobat Jalan 6 Bulan Terakhir?   Weighting Kota/Desa  \n",
              "0                                       Tidak   191.37656      Desa  \n",
              "34                                      Tidak   189.35805      Desa  \n",
              "65                                      Tidak   479.29642      Desa  \n",
              "117                                     Tidak  3332.32100      Kota  \n",
              "170                                     Tidak  6566.43700      Kota  \n",
              "...                                       ...         ...       ...  \n",
              "103620                                  Tidak   405.47833      Desa  \n",
              "103653                                  Tidak   682.96880      Desa  \n",
              "103688                                  Tidak   628.57110      Desa  \n",
              "103731                                  Tidak   256.22934      Kota  \n",
              "103781                                  Tidak   110.15549      Desa  \n",
              "\n",
              "[2192 rows x 5 columns]"
            ]
          },
          "metadata": {
            "tags": []
          },
          "execution_count": 234
        }
      ]
    },
    {
      "cell_type": "code",
      "metadata": {
        "id": "_9ybEW0IfCrB",
        "outputId": "e11ae0bc-a241-4627-c981-f3aa5e0d2706"
      },
      "source": [
        "persentase_berobat_kotadesa = tabel_kotadesa.groupby(['Kota/Desa', 'Pernah Berobat Jalan 6 Bulan Terakhir?']).sum()['Weighting']\n",
        "persentase_berobat_kotadesa"
      ],
      "execution_count": null,
      "outputs": [
        {
          "output_type": "execute_result",
          "data": {
            "text/plain": [
              "Kota/Desa  Pernah Berobat Jalan 6 Bulan Terakhir?\n",
              "Desa       Tidak                                     5.894940e+05\n",
              "           Ya                                        2.221880e+05\n",
              "Kota       Tidak                                     1.143885e+06\n",
              "           Ya                                        3.724784e+05\n",
              "Name: Weighting, dtype: float64"
            ]
          },
          "metadata": {
            "tags": []
          },
          "execution_count": 235
        }
      ]
    },
    {
      "cell_type": "code",
      "metadata": {
        "id": "WR5_IZYnfCrC",
        "outputId": "ae9002a5-02aa-44a7-c886-d7fb35b71a98"
      },
      "source": [
        "persentase_berobat_kotadesa.plot.bar()\n",
        "plt.ylabel('Jumlah Penduduk (10 Juta)')"
      ],
      "execution_count": null,
      "outputs": [
        {
          "output_type": "execute_result",
          "data": {
            "text/plain": [
              "Text(0, 0.5, 'Jumlah Penduduk (10 Juta)')"
            ]
          },
          "metadata": {
            "tags": []
          },
          "execution_count": 236
        },
        {
          "output_type": "display_data",
          "data": {
            "image/png": "[encoded data removed]",
            "text/plain": [
              "<Figure size 432x288 with 1 Axes>"
            ]
          },
          "metadata": {
            "tags": [],
            "needs_background": "light"
          }
        }
      ]
    },
    {
      "cell_type": "code",
      "metadata": {
        "id": "EWlmTWAvfCrC",
        "outputId": "6e5adaa6-c938-49e5-ae19-8d086595d3ee"
      },
      "source": [
        "persentase_berobat_desa = persentase_berobat_kotadesa['Desa']['Ya']/(persentase_berobat_kotadesa['Desa']['Ya']+persentase_berobat_kotadesa['Desa']['Tidak'])\n",
        "persentase_berobat_kota = persentase_berobat_kotadesa['Kota']['Ya']/(persentase_berobat_kotadesa['Kota']['Ya']+persentase_berobat_kotadesa['Kota']['Tidak'])\n",
        "\n",
        "persentase_berobat = pd.DataFrame({\n",
        "    'Lokasi': ['Perkotaan', 'Pedesaan'],\n",
        "    'Persentase': [persentase_berobat_kota, persentase_berobat_desa]\n",
        "})\n",
        "\n",
        "sns.barplot(x= persentase_berobat['Lokasi'], y= persentase_berobat['Persentase'])"
      ],
      "execution_count": null,
      "outputs": [
        {
          "output_type": "execute_result",
          "data": {
            "text/plain": [
              "<AxesSubplot:xlabel='Lokasi', ylabel='Persentase'>"
            ]
          },
          "metadata": {
            "tags": []
          },
          "execution_count": 237
        },
        {
          "output_type": "display_data",
          "data": {
            "image/png": "[encoded data removed]",
            "text/plain": [
              "<Figure size 432x288 with 1 Axes>"
            ]
          },
          "metadata": {
            "tags": [],
            "needs_background": "light"
          }
        }
      ]
    },
    {
      "cell_type": "markdown",
      "metadata": {
        "id": "7vH4f6wIfCrC"
      },
      "source": [
        "# Korelasi Konsumsi Mie dengan Berobat Jalan"
      ]
    },
    {
      "cell_type": "code",
      "metadata": {
        "id": "KyhV2AjxfCrD",
        "outputId": "6387700b-4c1f-4d3f-ebd6-9558ee21b756"
      },
      "source": [
        "tabel_kotadesa.describe()"
      ],
      "execution_count": null,
      "outputs": [
        {
          "output_type": "execute_result",
          "data": {
            "text/html": [
              "<div>\n",
              "<style scoped>\n",
              "    .dataframe tbody tr th:only-of-type {\n",
              "        vertical-align: middle;\n",
              "    }\n",
              "\n",
              "    .dataframe tbody tr th {\n",
              "        vertical-align: top;\n",
              "    }\n",
              "\n",
              "    .dataframe thead th {\n",
              "        text-align: right;\n",
              "    }\n",
              "</style>\n",
              "<table border=\"1\" class=\"dataframe\">\n",
              "  <thead>\n",
              "    <tr style=\"text-align: right;\">\n",
              "      <th></th>\n",
              "      <th>Urut</th>\n",
              "      <th>Total Konsumsi Mie (Porsi)</th>\n",
              "      <th>Weighting</th>\n",
              "    </tr>\n",
              "  </thead>\n",
              "  <tbody>\n",
              "    <tr>\n",
              "      <th>count</th>\n",
              "      <td>2.192000e+03</td>\n",
              "      <td>2192.000000</td>\n",
              "      <td>2192.000000</td>\n",
              "    </tr>\n",
              "    <tr>\n",
              "      <th>mean</th>\n",
              "      <td>1.686633e+10</td>\n",
              "      <td>5.559799</td>\n",
              "      <td>1062.064370</td>\n",
              "    </tr>\n",
              "    <tr>\n",
              "      <th>std</th>\n",
              "      <td>2.265544e+10</td>\n",
              "      <td>6.130098</td>\n",
              "      <td>1003.627128</td>\n",
              "    </tr>\n",
              "    <tr>\n",
              "      <th>min</th>\n",
              "      <td>4.401331e+07</td>\n",
              "      <td>0.200000</td>\n",
              "      <td>1.455725</td>\n",
              "    </tr>\n",
              "    <tr>\n",
              "      <th>25%</th>\n",
              "      <td>2.361477e+09</td>\n",
              "      <td>2.000000</td>\n",
              "      <td>373.562028</td>\n",
              "    </tr>\n",
              "    <tr>\n",
              "      <th>50%</th>\n",
              "      <td>8.061078e+09</td>\n",
              "      <td>4.000000</td>\n",
              "      <td>668.412150</td>\n",
              "    </tr>\n",
              "    <tr>\n",
              "      <th>75%</th>\n",
              "      <td>2.131408e+10</td>\n",
              "      <td>6.000000</td>\n",
              "      <td>1476.900450</td>\n",
              "    </tr>\n",
              "    <tr>\n",
              "      <th>max</th>\n",
              "      <td>2.333853e+11</td>\n",
              "      <td>140.000000</td>\n",
              "      <td>6655.651400</td>\n",
              "    </tr>\n",
              "  </tbody>\n",
              "</table>\n",
              "</div>"
            ],
            "text/plain": [
              "               Urut  Total Konsumsi Mie (Porsi)    Weighting\n",
              "count  2.192000e+03                 2192.000000  2192.000000\n",
              "mean   1.686633e+10                    5.559799  1062.064370\n",
              "std    2.265544e+10                    6.130098  1003.627128\n",
              "min    4.401331e+07                    0.200000     1.455725\n",
              "25%    2.361477e+09                    2.000000   373.562028\n",
              "50%    8.061078e+09                    4.000000   668.412150\n",
              "75%    2.131408e+10                    6.000000  1476.900450\n",
              "max    2.333853e+11                  140.000000  6655.651400"
            ]
          },
          "metadata": {
            "tags": []
          },
          "execution_count": 238
        }
      ]
    },
    {
      "cell_type": "code",
      "metadata": {
        "id": "6LkJWv0YfCrD",
        "outputId": "fbc63bf5-1792-419d-e229-296073ecff48"
      },
      "source": [
        "plt.figure(figsize=(15,8))\n",
        "sns.histplot(tabel_kotadesa['Total Konsumsi Mie (Porsi)'], bins=20)"
      ],
      "execution_count": null,
      "outputs": [
        {
          "output_type": "execute_result",
          "data": {
            "text/plain": [
              "<AxesSubplot:xlabel='Total Konsumsi Mie (Porsi)', ylabel='Count'>"
            ]
          },
          "metadata": {
            "tags": []
          },
          "execution_count": 239
        },
        {
          "output_type": "display_data",
          "data": {
            "image/png": "[encoded data removed]",
            "text/plain": [
              "<Figure size 1080x576 with 1 Axes>"
            ]
          },
          "metadata": {
            "tags": [],
            "needs_background": "light"
          }
        }
      ]
    },
    {
      "cell_type": "code",
      "metadata": {
        "id": "8i06ddoLfCrD",
        "outputId": "e0cef8bd-4f9e-4ad5-df30-3970392e2823"
      },
      "source": [
        "tabel_kotadesa['Total Konsumsi Mie (Porsi)']"
      ],
      "execution_count": null,
      "outputs": [
        {
          "output_type": "execute_result",
          "data": {
            "text/plain": [
              "0         2.0\n",
              "34        4.0\n",
              "65        4.0\n",
              "117       2.0\n",
              "170       8.0\n",
              "         ... \n",
              "103620    4.0\n",
              "103653    8.0\n",
              "103688    4.0\n",
              "103731    6.0\n",
              "103781    2.0\n",
              "Name: Total Konsumsi Mie (Porsi), Length: 2192, dtype: float64"
            ]
          },
          "metadata": {
            "tags": []
          },
          "execution_count": 240
        }
      ]
    },
    {
      "cell_type": "code",
      "metadata": {
        "id": "sOyCcmZ-fCrE"
      },
      "source": [
        "kuartil = pd.qcut(tabel_kotadesa['Total Konsumsi Mie (Porsi)'], 20, duplicates='drop', retbins= False)"
      ],
      "execution_count": null,
      "outputs": []
    },
    {
      "cell_type": "code",
      "metadata": {
        "id": "6JzTrlipfCrE",
        "outputId": "a3c16a70-0524-4c22-c5a7-4c9b631a7f58"
      },
      "source": [
        "kuartil"
      ],
      "execution_count": null,
      "outputs": [
        {
          "output_type": "execute_result",
          "data": {
            "text/plain": [
              "0         (0.199, 2.0]\n",
              "34          (2.0, 4.0]\n",
              "65          (2.0, 4.0]\n",
              "117       (0.199, 2.0]\n",
              "170         (6.0, 8.0]\n",
              "              ...     \n",
              "103620      (2.0, 4.0]\n",
              "103653      (6.0, 8.0]\n",
              "103688      (2.0, 4.0]\n",
              "103731      (4.0, 6.0]\n",
              "103781    (0.199, 2.0]\n",
              "Name: Total Konsumsi Mie (Porsi), Length: 2192, dtype: category\n",
              "Categories (7, interval[float64]): [(0.199, 2.0] < (2.0, 4.0] < (4.0, 6.0] < (6.0, 8.0] < (8.0, 10.0] < (10.0, 14.0] < (14.0, 140.0]]"
            ]
          },
          "metadata": {
            "tags": []
          },
          "execution_count": 243
        }
      ]
    },
    {
      "cell_type": "code",
      "metadata": {
        "id": "5QyIz46lfCrE",
        "outputId": "8888661f-6bac-49a7-c070-36d419cb4f23"
      },
      "source": [
        "tabel_kotadesa['kuartil'] = kuartil\n",
        "tabel_kotadesa['Multiply'] = tabel_kotadesa['Total Konsumsi Mie (Porsi)']*tabel_kotadesa['Weighting']\n",
        "\n",
        "tabel_kotadesa"
      ],
      "execution_count": null,
      "outputs": [
        {
          "output_type": "execute_result",
          "data": {
            "text/html": [
              "<div>\n",
              "<style scoped>\n",
              "    .dataframe tbody tr th:only-of-type {\n",
              "        vertical-align: middle;\n",
              "    }\n",
              "\n",
              "    .dataframe tbody tr th {\n",
              "        vertical-align: top;\n",
              "    }\n",
              "\n",
              "    .dataframe thead th {\n",
              "        text-align: right;\n",
              "    }\n",
              "</style>\n",
              "<table border=\"1\" class=\"dataframe\">\n",
              "  <thead>\n",
              "    <tr style=\"text-align: right;\">\n",
              "      <th></th>\n",
              "      <th>Urut</th>\n",
              "      <th>Total Konsumsi Mie (Porsi)</th>\n",
              "      <th>Pernah Berobat Jalan 6 Bulan Terakhir?</th>\n",
              "      <th>Weighting</th>\n",
              "      <th>Kota/Desa</th>\n",
              "      <th>kuartil</th>\n",
              "      <th>Multiply</th>\n",
              "    </tr>\n",
              "  </thead>\n",
              "  <tbody>\n",
              "    <tr>\n",
              "      <th>0</th>\n",
              "      <td>4.401331e+07</td>\n",
              "      <td>2.0</td>\n",
              "      <td>Tidak</td>\n",
              "      <td>191.37656</td>\n",
              "      <td>Desa</td>\n",
              "      <td>(0.199, 2.0]</td>\n",
              "      <td>382.75312</td>\n",
              "    </tr>\n",
              "    <tr>\n",
              "      <th>34</th>\n",
              "      <td>6.009615e+07</td>\n",
              "      <td>4.0</td>\n",
              "      <td>Tidak</td>\n",
              "      <td>189.35805</td>\n",
              "      <td>Desa</td>\n",
              "      <td>(2.0, 4.0]</td>\n",
              "      <td>757.43220</td>\n",
              "    </tr>\n",
              "    <tr>\n",
              "      <th>65</th>\n",
              "      <td>6.410896e+07</td>\n",
              "      <td>4.0</td>\n",
              "      <td>Tidak</td>\n",
              "      <td>479.29642</td>\n",
              "      <td>Desa</td>\n",
              "      <td>(2.0, 4.0]</td>\n",
              "      <td>1917.18568</td>\n",
              "    </tr>\n",
              "    <tr>\n",
              "      <th>117</th>\n",
              "      <td>8.008659e+07</td>\n",
              "      <td>2.0</td>\n",
              "      <td>Tidak</td>\n",
              "      <td>3332.32100</td>\n",
              "      <td>Kota</td>\n",
              "      <td>(0.199, 2.0]</td>\n",
              "      <td>6664.64200</td>\n",
              "    </tr>\n",
              "    <tr>\n",
              "      <th>170</th>\n",
              "      <td>8.020182e+07</td>\n",
              "      <td>8.0</td>\n",
              "      <td>Tidak</td>\n",
              "      <td>6566.43700</td>\n",
              "      <td>Kota</td>\n",
              "      <td>(6.0, 8.0]</td>\n",
              "      <td>52531.49600</td>\n",
              "    </tr>\n",
              "    <tr>\n",
              "      <th>...</th>\n",
              "      <td>...</td>\n",
              "      <td>...</td>\n",
              "      <td>...</td>\n",
              "      <td>...</td>\n",
              "      <td>...</td>\n",
              "      <td>...</td>\n",
              "      <td>...</td>\n",
              "    </tr>\n",
              "    <tr>\n",
              "      <th>103620</th>\n",
              "      <td>1.472519e+11</td>\n",
              "      <td>4.0</td>\n",
              "      <td>Tidak</td>\n",
              "      <td>405.47833</td>\n",
              "      <td>Desa</td>\n",
              "      <td>(2.0, 4.0]</td>\n",
              "      <td>1621.91332</td>\n",
              "    </tr>\n",
              "    <tr>\n",
              "      <th>103653</th>\n",
              "      <td>1.582783e+11</td>\n",
              "      <td>8.0</td>\n",
              "      <td>Tidak</td>\n",
              "      <td>682.96880</td>\n",
              "      <td>Desa</td>\n",
              "      <td>(6.0, 8.0]</td>\n",
              "      <td>5463.75040</td>\n",
              "    </tr>\n",
              "    <tr>\n",
              "      <th>103688</th>\n",
              "      <td>1.610523e+11</td>\n",
              "      <td>4.0</td>\n",
              "      <td>Tidak</td>\n",
              "      <td>628.57110</td>\n",
              "      <td>Desa</td>\n",
              "      <td>(2.0, 4.0]</td>\n",
              "      <td>2514.28440</td>\n",
              "    </tr>\n",
              "    <tr>\n",
              "      <th>103731</th>\n",
              "      <td>1.669771e+11</td>\n",
              "      <td>6.0</td>\n",
              "      <td>Tidak</td>\n",
              "      <td>256.22934</td>\n",
              "      <td>Kota</td>\n",
              "      <td>(4.0, 6.0]</td>\n",
              "      <td>1537.37604</td>\n",
              "    </tr>\n",
              "    <tr>\n",
              "      <th>103781</th>\n",
              "      <td>2.333853e+11</td>\n",
              "      <td>2.0</td>\n",
              "      <td>Tidak</td>\n",
              "      <td>110.15549</td>\n",
              "      <td>Desa</td>\n",
              "      <td>(0.199, 2.0]</td>\n",
              "      <td>220.31098</td>\n",
              "    </tr>\n",
              "  </tbody>\n",
              "</table>\n",
              "<p>2192 rows × 7 columns</p>\n",
              "</div>"
            ],
            "text/plain": [
              "                Urut  Total Konsumsi Mie (Porsi)  \\\n",
              "0       4.401331e+07                         2.0   \n",
              "34      6.009615e+07                         4.0   \n",
              "65      6.410896e+07                         4.0   \n",
              "117     8.008659e+07                         2.0   \n",
              "170     8.020182e+07                         8.0   \n",
              "...              ...                         ...   \n",
              "103620  1.472519e+11                         4.0   \n",
              "103653  1.582783e+11                         8.0   \n",
              "103688  1.610523e+11                         4.0   \n",
              "103731  1.669771e+11                         6.0   \n",
              "103781  2.333853e+11                         2.0   \n",
              "\n",
              "       Pernah Berobat Jalan 6 Bulan Terakhir?   Weighting Kota/Desa  \\\n",
              "0                                       Tidak   191.37656      Desa   \n",
              "34                                      Tidak   189.35805      Desa   \n",
              "65                                      Tidak   479.29642      Desa   \n",
              "117                                     Tidak  3332.32100      Kota   \n",
              "170                                     Tidak  6566.43700      Kota   \n",
              "...                                       ...         ...       ...   \n",
              "103620                                  Tidak   405.47833      Desa   \n",
              "103653                                  Tidak   682.96880      Desa   \n",
              "103688                                  Tidak   628.57110      Desa   \n",
              "103731                                  Tidak   256.22934      Kota   \n",
              "103781                                  Tidak   110.15549      Desa   \n",
              "\n",
              "             kuartil     Multiply  \n",
              "0       (0.199, 2.0]    382.75312  \n",
              "34        (2.0, 4.0]    757.43220  \n",
              "65        (2.0, 4.0]   1917.18568  \n",
              "117     (0.199, 2.0]   6664.64200  \n",
              "170       (6.0, 8.0]  52531.49600  \n",
              "...              ...          ...  \n",
              "103620    (2.0, 4.0]   1621.91332  \n",
              "103653    (6.0, 8.0]   5463.75040  \n",
              "103688    (2.0, 4.0]   2514.28440  \n",
              "103731    (4.0, 6.0]   1537.37604  \n",
              "103781  (0.199, 2.0]    220.31098  \n",
              "\n",
              "[2192 rows x 7 columns]"
            ]
          },
          "metadata": {
            "tags": []
          },
          "execution_count": 244
        }
      ]
    },
    {
      "cell_type": "code",
      "metadata": {
        "id": "Tsw-b4QOfCrF",
        "outputId": "bc1de541-48df-47e4-c710-f7a3d631483a"
      },
      "source": [
        "tabel_kuartil = tabel_kotadesa.groupby(['kuartil', 'Pernah Berobat Jalan 6 Bulan Terakhir?']).sum()['Multiply']\n",
        "tabel_kuartil"
      ],
      "execution_count": null,
      "outputs": [
        {
          "output_type": "execute_result",
          "data": {
            "text/plain": [
              "kuartil        Pernah Berobat Jalan 6 Bulan Terakhir?\n",
              "(0.199, 2.0]   Tidak                                     1.211485e+06\n",
              "               Ya                                        4.384867e+05\n",
              "(2.0, 4.0]     Tidak                                     2.109599e+06\n",
              "               Ya                                        7.650891e+05\n",
              "(4.0, 6.0]     Tidak                                     1.300680e+06\n",
              "               Ya                                        4.643893e+05\n",
              "(6.0, 8.0]     Tidak                                     1.166912e+06\n",
              "               Ya                                        3.076800e+05\n",
              "(8.0, 10.0]    Tidak                                     8.700612e+05\n",
              "               Ya                                        1.420714e+05\n",
              "(10.0, 14.0]   Tidak                                     8.645563e+05\n",
              "               Ya                                        3.493892e+05\n",
              "(14.0, 140.0]  Tidak                                     1.811250e+06\n",
              "               Ya                                        4.572225e+05\n",
              "Name: Multiply, dtype: float64"
            ]
          },
          "metadata": {
            "tags": []
          },
          "execution_count": 245
        }
      ]
    },
    {
      "cell_type": "code",
      "metadata": {
        "id": "xrn3ZcTafCrF"
      },
      "source": [
        "Quartil= []\n",
        "persentase_berobat = []\n",
        "\n",
        "for K in range(0,len(tabel_kuartil.index)):\n",
        "    Quartil.append(str(tabel_kuartil.index[K][0])[1:-1])\n",
        "    persentase_berobat.append(tabel_kuartil[tabel_kuartil.index[K][0]][1]/(tabel_kuartil[tabel_kuartil.index[K][0]][1] + tabel_kuartil[tabel_kuartil.index[K][0]][0]))\n",
        "\n",
        "\n"
      ],
      "execution_count": null,
      "outputs": []
    },
    {
      "cell_type": "code",
      "metadata": {
        "id": "RRr1DYznfCrF"
      },
      "source": [
        "Quartil = list(dict.fromkeys(Quartil))\n",
        "persentase_berobat = list(dict.fromkeys(persentase_berobat))"
      ],
      "execution_count": null,
      "outputs": []
    },
    {
      "cell_type": "code",
      "metadata": {
        "id": "uc0clbLyfCrF",
        "outputId": "b46ad619-53f5-482a-f431-679bc9d8fee6"
      },
      "source": [
        "plt.figure(figsize=[15,8])\n",
        "sns.scatterplot(x = Quartil, y = persentase_berobat)\n",
        "plt.xlabel('Konsumsi Mie (Porsi)')\n",
        "plt.ylabel('Persentase Rawat Jalan')\n",
        "plt.show()"
      ],
      "execution_count": null,
      "outputs": [
        {
          "output_type": "display_data",
          "data": {
            "image/png": "[encoded data removed]",
            "text/plain": [
              "<Figure size 1080x576 with 1 Axes>"
            ]
          },
          "metadata": {
            "tags": [],
            "needs_background": "light"
          }
        }
      ]
    },
    {
      "cell_type": "markdown",
      "metadata": {
        "id": "_hlUe6XvfCrG"
      },
      "source": [
        "# Korelasi Jumlah Konsumsi Mie Per Jenis Dengan Rawat Jalan"
      ]
    },
    {
      "cell_type": "markdown",
      "metadata": {
        "id": "H4P50V2rfCrG"
      },
      "source": [
        "### Mie Instan"
      ]
    },
    {
      "cell_type": "code",
      "metadata": {
        "id": "D2yuDkoXfCrH",
        "outputId": "00658166-ff99-4cc2-9731-025823a24970"
      },
      "source": [
        "tabel_instan = mie_instan.merge(sakit_6, how='left', on='urut')\n",
        "tabel_instan.drop(['weind_y'], axis=1, inplace=True)\n",
        "tabel_instan.rename(columns={'weind_x': 'weind'}, inplace=True)\n",
        "tabel_instan['b5r7'] = tabel_instan['b5r7'].map({1: 'Ya', 2: 'Tidak'})\n",
        "tabel_instan"
      ],
      "execution_count": null,
      "outputs": [
        {
          "output_type": "execute_result",
          "data": {
            "text/html": [
              "<div>\n",
              "<style scoped>\n",
              "    .dataframe tbody tr th:only-of-type {\n",
              "        vertical-align: middle;\n",
              "    }\n",
              "\n",
              "    .dataframe tbody tr th {\n",
              "        vertical-align: top;\n",
              "    }\n",
              "\n",
              "    .dataframe thead th {\n",
              "        text-align: right;\n",
              "    }\n",
              "</style>\n",
              "<table border=\"1\" class=\"dataframe\">\n",
              "  <thead>\n",
              "    <tr style=\"text-align: right;\">\n",
              "      <th></th>\n",
              "      <th>urut</th>\n",
              "      <th>kode</th>\n",
              "      <th>b41k8</th>\n",
              "      <th>weind</th>\n",
              "      <th>multiply</th>\n",
              "      <th>b5r7</th>\n",
              "    </tr>\n",
              "  </thead>\n",
              "  <tbody>\n",
              "    <tr>\n",
              "      <th>0</th>\n",
              "      <td>4.401331e+07</td>\n",
              "      <td>206</td>\n",
              "      <td>1.0</td>\n",
              "      <td>956.88275</td>\n",
              "      <td>956.88275</td>\n",
              "      <td>Tidak</td>\n",
              "    </tr>\n",
              "    <tr>\n",
              "      <th>1</th>\n",
              "      <td>6.177565e+08</td>\n",
              "      <td>206</td>\n",
              "      <td>4.0</td>\n",
              "      <td>572.25080</td>\n",
              "      <td>2289.00320</td>\n",
              "      <td>Tidak</td>\n",
              "    </tr>\n",
              "    <tr>\n",
              "      <th>2</th>\n",
              "      <td>2.643169e+08</td>\n",
              "      <td>206</td>\n",
              "      <td>3.0</td>\n",
              "      <td>1808.55870</td>\n",
              "      <td>5425.67610</td>\n",
              "      <td>Tidak</td>\n",
              "    </tr>\n",
              "    <tr>\n",
              "      <th>3</th>\n",
              "      <td>8.800915e+08</td>\n",
              "      <td>206</td>\n",
              "      <td>1.0</td>\n",
              "      <td>2909.84200</td>\n",
              "      <td>2909.84200</td>\n",
              "      <td>Tidak</td>\n",
              "    </tr>\n",
              "    <tr>\n",
              "      <th>4</th>\n",
              "      <td>2.201321e+08</td>\n",
              "      <td>206</td>\n",
              "      <td>2.0</td>\n",
              "      <td>2288.79130</td>\n",
              "      <td>4577.58260</td>\n",
              "      <td>Tidak</td>\n",
              "    </tr>\n",
              "    <tr>\n",
              "      <th>...</th>\n",
              "      <td>...</td>\n",
              "      <td>...</td>\n",
              "      <td>...</td>\n",
              "      <td>...</td>\n",
              "      <td>...</td>\n",
              "      <td>...</td>\n",
              "    </tr>\n",
              "    <tr>\n",
              "      <th>2191</th>\n",
              "      <td>1.276103e+10</td>\n",
              "      <td>206</td>\n",
              "      <td>10.0</td>\n",
              "      <td>892.03424</td>\n",
              "      <td>8920.34240</td>\n",
              "      <td>Tidak</td>\n",
              "    </tr>\n",
              "    <tr>\n",
              "      <th>2192</th>\n",
              "      <td>5.098301e+09</td>\n",
              "      <td>206</td>\n",
              "      <td>6.0</td>\n",
              "      <td>2463.35640</td>\n",
              "      <td>14780.13840</td>\n",
              "      <td>Tidak</td>\n",
              "    </tr>\n",
              "    <tr>\n",
              "      <th>2193</th>\n",
              "      <td>8.091123e+10</td>\n",
              "      <td>206</td>\n",
              "      <td>3.0</td>\n",
              "      <td>1420.09050</td>\n",
              "      <td>4260.27150</td>\n",
              "      <td>Tidak</td>\n",
              "    </tr>\n",
              "    <tr>\n",
              "      <th>2194</th>\n",
              "      <td>2.821584e+09</td>\n",
              "      <td>206</td>\n",
              "      <td>4.0</td>\n",
              "      <td>926.53930</td>\n",
              "      <td>3706.15720</td>\n",
              "      <td>Tidak</td>\n",
              "    </tr>\n",
              "    <tr>\n",
              "      <th>2195</th>\n",
              "      <td>1.669771e+11</td>\n",
              "      <td>206</td>\n",
              "      <td>3.0</td>\n",
              "      <td>3330.98140</td>\n",
              "      <td>9992.94420</td>\n",
              "      <td>Tidak</td>\n",
              "    </tr>\n",
              "  </tbody>\n",
              "</table>\n",
              "<p>2196 rows × 6 columns</p>\n",
              "</div>"
            ],
            "text/plain": [
              "              urut  kode  b41k8       weind     multiply   b5r7\n",
              "0     4.401331e+07   206    1.0   956.88275    956.88275  Tidak\n",
              "1     6.177565e+08   206    4.0   572.25080   2289.00320  Tidak\n",
              "2     2.643169e+08   206    3.0  1808.55870   5425.67610  Tidak\n",
              "3     8.800915e+08   206    1.0  2909.84200   2909.84200  Tidak\n",
              "4     2.201321e+08   206    2.0  2288.79130   4577.58260  Tidak\n",
              "...            ...   ...    ...         ...          ...    ...\n",
              "2191  1.276103e+10   206   10.0   892.03424   8920.34240  Tidak\n",
              "2192  5.098301e+09   206    6.0  2463.35640  14780.13840  Tidak\n",
              "2193  8.091123e+10   206    3.0  1420.09050   4260.27150  Tidak\n",
              "2194  2.821584e+09   206    4.0   926.53930   3706.15720  Tidak\n",
              "2195  1.669771e+11   206    3.0  3330.98140   9992.94420  Tidak\n",
              "\n",
              "[2196 rows x 6 columns]"
            ]
          },
          "metadata": {
            "tags": []
          },
          "execution_count": 250
        }
      ]
    },
    {
      "cell_type": "code",
      "metadata": {
        "id": "34fn57gefCrH",
        "outputId": "f3ced28f-4d3b-4c18-eb21-b125cd60ff59"
      },
      "source": [
        "kuartil_instan = pd.qcut(tabel_instan['b41k8'], 20, duplicates='drop', retbins= False)\n",
        "tabel_instan['kuartil'] = kuartil_instan\n",
        "tabel_kuartil_instan = tabel_instan.groupby(['kuartil', 'b5r7']).sum()['multiply']\n",
        "tabel_kuartil_instan"
      ],
      "execution_count": null,
      "outputs": [
        {
          "output_type": "execute_result",
          "data": {
            "text/plain": [
              "kuartil       b5r7 \n",
              "(0.099, 1.0]  Tidak    2.378780e+06\n",
              "              Ya       8.348306e+05\n",
              "(1.0, 2.0]    Tidak    4.072423e+06\n",
              "              Ya       1.520952e+06\n",
              "(2.0, 3.0]    Tidak    2.808582e+06\n",
              "              Ya       1.046457e+06\n",
              "(3.0, 4.0]    Tidak    2.536876e+06\n",
              "              Ya       7.431827e+05\n",
              "(4.0, 5.0]    Tidak    2.001273e+06\n",
              "              Ya       3.245903e+05\n",
              "(5.0, 7.0]    Tidak    1.743807e+06\n",
              "              Ya       6.904225e+05\n",
              "(7.0, 70.0]   Tidak    4.215807e+06\n",
              "              Ya       9.143607e+05\n",
              "Name: multiply, dtype: float64"
            ]
          },
          "metadata": {
            "tags": []
          },
          "execution_count": 255
        }
      ]
    },
    {
      "cell_type": "code",
      "metadata": {
        "id": "317UHFRffCrI"
      },
      "source": [
        "Quartil_instan = []\n",
        "persentase_berobat_instan = []\n",
        "\n",
        "for K in range(0,len(tabel_kuartil_instan.index)):\n",
        "    Quartil_instan.append(str(tabel_kuartil_instan.index[K][0])[1:-1])\n",
        "    persentase_berobat_instan.append(tabel_kuartil_instan[tabel_kuartil_instan.index[K][0]][1]/(tabel_kuartil_instan[tabel_kuartil_instan.index[K][0]][1] + tabel_kuartil_instan[tabel_kuartil_instan.index[K][0]][0]))\n",
        "\n",
        "Quartil_instan = list(dict.fromkeys(Quartil_instan))\n",
        "persentase_berobat_instan = list(dict.fromkeys(persentase_berobat_instan))"
      ],
      "execution_count": null,
      "outputs": []
    },
    {
      "cell_type": "code",
      "metadata": {
        "id": "P6OZ4LJBfCrK",
        "outputId": "5dd330d2-397a-4dbf-bb25-ac01d1af407c"
      },
      "source": [
        "plt.figure(figsize=[10,6])\n",
        "sns.scatterplot(x = Quartil_instan, y = persentase_berobat_instan)\n",
        "plt.xlabel('Konsumsi Mie Instan (Porsi)')\n",
        "plt.ylabel('Persentase Rawat Jalan')\n",
        "plt.xticks(rotation = 90)\n",
        "plt.title('Konsumsi Mie Instan vs Persentase Rawat Jalan Dalam 6 Bulan Terakhir')\n",
        "plt.show()"
      ],
      "execution_count": null,
      "outputs": [
        {
          "output_type": "display_data",
          "data": {
            "image/png": "[encoded data removed]",
            "text/plain": [
              "<Figure size 720x432 with 1 Axes>"
            ]
          },
          "metadata": {
            "tags": [],
            "needs_background": "light"
          }
        }
      ]
    },
    {
      "cell_type": "markdown",
      "metadata": {
        "id": "kc1lX3mkfCrL"
      },
      "source": [
        "### Mie Bakso"
      ]
    },
    {
      "cell_type": "code",
      "metadata": {
        "id": "kjC0j5RpfCrL",
        "outputId": "21eb4fa7-48fc-4e9f-9c31-96b241020ed8"
      },
      "source": [
        "tabel_bakso = mie_bakso.merge(sakit_6, how='left', on='urut')\n",
        "tabel_bakso.drop(['weind_y'], axis=1, inplace=True)\n",
        "tabel_bakso.rename(columns={'weind_x': 'weind'}, inplace=True)\n",
        "tabel_bakso['b5r7'] = tabel_bakso['b5r7'].map({1: 'Ya', 2: 'Tidak'})\n",
        "tabel_bakso"
      ],
      "execution_count": null,
      "outputs": [
        {
          "output_type": "execute_result",
          "data": {
            "text/html": [
              "<div>\n",
              "<style scoped>\n",
              "    .dataframe tbody tr th:only-of-type {\n",
              "        vertical-align: middle;\n",
              "    }\n",
              "\n",
              "    .dataframe tbody tr th {\n",
              "        vertical-align: top;\n",
              "    }\n",
              "\n",
              "    .dataframe thead th {\n",
              "        text-align: right;\n",
              "    }\n",
              "</style>\n",
              "<table border=\"1\" class=\"dataframe\">\n",
              "  <thead>\n",
              "    <tr style=\"text-align: right;\">\n",
              "      <th></th>\n",
              "      <th>urut</th>\n",
              "      <th>kode</th>\n",
              "      <th>b41k8</th>\n",
              "      <th>weind</th>\n",
              "      <th>multiply</th>\n",
              "      <th>b5r7</th>\n",
              "    </tr>\n",
              "  </thead>\n",
              "  <tbody>\n",
              "    <tr>\n",
              "      <th>0</th>\n",
              "      <td>2.640799e+08</td>\n",
              "      <td>205</td>\n",
              "      <td>1.0</td>\n",
              "      <td>819.12610</td>\n",
              "      <td>819.12610</td>\n",
              "      <td>Ya</td>\n",
              "    </tr>\n",
              "    <tr>\n",
              "      <th>1</th>\n",
              "      <td>3.852624e+08</td>\n",
              "      <td>205</td>\n",
              "      <td>9.0</td>\n",
              "      <td>826.53910</td>\n",
              "      <td>7438.85190</td>\n",
              "      <td>Tidak</td>\n",
              "    </tr>\n",
              "    <tr>\n",
              "      <th>2</th>\n",
              "      <td>8.825093e+07</td>\n",
              "      <td>205</td>\n",
              "      <td>5.0</td>\n",
              "      <td>873.65643</td>\n",
              "      <td>4368.28215</td>\n",
              "      <td>Tidak</td>\n",
              "    </tr>\n",
              "    <tr>\n",
              "      <th>3</th>\n",
              "      <td>1.765019e+08</td>\n",
              "      <td>205</td>\n",
              "      <td>28.0</td>\n",
              "      <td>2607.70500</td>\n",
              "      <td>73015.74000</td>\n",
              "      <td>Tidak</td>\n",
              "    </tr>\n",
              "    <tr>\n",
              "      <th>4</th>\n",
              "      <td>2.647528e+08</td>\n",
              "      <td>205</td>\n",
              "      <td>10.0</td>\n",
              "      <td>634.30640</td>\n",
              "      <td>6343.06400</td>\n",
              "      <td>Tidak</td>\n",
              "    </tr>\n",
              "    <tr>\n",
              "      <th>...</th>\n",
              "      <td>...</td>\n",
              "      <td>...</td>\n",
              "      <td>...</td>\n",
              "      <td>...</td>\n",
              "      <td>...</td>\n",
              "      <td>...</td>\n",
              "    </tr>\n",
              "    <tr>\n",
              "      <th>23764</th>\n",
              "      <td>1.670369e+11</td>\n",
              "      <td>205</td>\n",
              "      <td>2.0</td>\n",
              "      <td>849.84000</td>\n",
              "      <td>1699.68000</td>\n",
              "      <td>Tidak</td>\n",
              "    </tr>\n",
              "    <tr>\n",
              "      <th>23765</th>\n",
              "      <td>1.669035e+10</td>\n",
              "      <td>205</td>\n",
              "      <td>1.0</td>\n",
              "      <td>4480.41260</td>\n",
              "      <td>4480.41260</td>\n",
              "      <td>Tidak</td>\n",
              "    </tr>\n",
              "    <tr>\n",
              "      <th>23766</th>\n",
              "      <td>6.676138e+10</td>\n",
              "      <td>205</td>\n",
              "      <td>2.0</td>\n",
              "      <td>3671.86160</td>\n",
              "      <td>7343.72320</td>\n",
              "      <td>Ya</td>\n",
              "    </tr>\n",
              "    <tr>\n",
              "      <th>23767</th>\n",
              "      <td>8.345173e+10</td>\n",
              "      <td>205</td>\n",
              "      <td>2.0</td>\n",
              "      <td>1272.24670</td>\n",
              "      <td>2544.49340</td>\n",
              "      <td>Tidak</td>\n",
              "    </tr>\n",
              "    <tr>\n",
              "      <th>23768</th>\n",
              "      <td>1.168324e+11</td>\n",
              "      <td>205</td>\n",
              "      <td>2.0</td>\n",
              "      <td>2568.02600</td>\n",
              "      <td>5136.05200</td>\n",
              "      <td>Tidak</td>\n",
              "    </tr>\n",
              "  </tbody>\n",
              "</table>\n",
              "<p>23769 rows × 6 columns</p>\n",
              "</div>"
            ],
            "text/plain": [
              "               urut  kode  b41k8       weind     multiply   b5r7\n",
              "0      2.640799e+08   205    1.0   819.12610    819.12610     Ya\n",
              "1      3.852624e+08   205    9.0   826.53910   7438.85190  Tidak\n",
              "2      8.825093e+07   205    5.0   873.65643   4368.28215  Tidak\n",
              "3      1.765019e+08   205   28.0  2607.70500  73015.74000  Tidak\n",
              "4      2.647528e+08   205   10.0   634.30640   6343.06400  Tidak\n",
              "...             ...   ...    ...         ...          ...    ...\n",
              "23764  1.670369e+11   205    2.0   849.84000   1699.68000  Tidak\n",
              "23765  1.669035e+10   205    1.0  4480.41260   4480.41260  Tidak\n",
              "23766  6.676138e+10   205    2.0  3671.86160   7343.72320     Ya\n",
              "23767  8.345173e+10   205    2.0  1272.24670   2544.49340  Tidak\n",
              "23768  1.168324e+11   205    2.0  2568.02600   5136.05200  Tidak\n",
              "\n",
              "[23769 rows x 6 columns]"
            ]
          },
          "metadata": {
            "tags": []
          },
          "execution_count": 258
        }
      ]
    },
    {
      "cell_type": "code",
      "metadata": {
        "id": "bRw1imYAfCrM"
      },
      "source": [
        ""
      ],
      "execution_count": null,
      "outputs": []
    }
  ]
}